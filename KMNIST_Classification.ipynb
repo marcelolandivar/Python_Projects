{
  "nbformat": 4,
  "nbformat_minor": 0,
  "metadata": {
    "colab": {
      "name": "KMNIST_Classification.ipynb",
      "provenance": [],
      "collapsed_sections": [],
      "mount_file_id": "1HI3QOn60OF3IQDrDsW3SmjiB-ErHNTT9",
      "authorship_tag": "ABX9TyMem2cwPWt8m05JepxRXVrD",
      "include_colab_link": true
    },
    "kernelspec": {
      "name": "python3",
      "display_name": "Python 3"
    },
    "accelerator": "GPU",
    "widgets": {
      "application/vnd.jupyter.widget-state+json": {
        "185e46fe5cf845f290dea13948fef3ac": {
          "model_module": "@jupyter-widgets/controls",
          "model_name": "HBoxModel",
          "state": {
            "_view_name": "HBoxView",
            "_dom_classes": [],
            "_model_name": "HBoxModel",
            "_view_module": "@jupyter-widgets/controls",
            "_model_module_version": "1.5.0",
            "_view_count": null,
            "_view_module_version": "1.5.0",
            "box_style": "",
            "layout": "IPY_MODEL_2882093ae4d642db8823af7dd094df02",
            "_model_module": "@jupyter-widgets/controls",
            "children": [
              "IPY_MODEL_f14037360acc441abf719c14f2061fd4",
              "IPY_MODEL_fd16a893c6104285aed4a62d98dcbf90"
            ]
          }
        },
        "2882093ae4d642db8823af7dd094df02": {
          "model_module": "@jupyter-widgets/base",
          "model_name": "LayoutModel",
          "state": {
            "_view_name": "LayoutView",
            "grid_template_rows": null,
            "right": null,
            "justify_content": null,
            "_view_module": "@jupyter-widgets/base",
            "overflow": null,
            "_model_module_version": "1.2.0",
            "_view_count": null,
            "flex_flow": null,
            "width": null,
            "min_width": null,
            "border": null,
            "align_items": null,
            "bottom": null,
            "_model_module": "@jupyter-widgets/base",
            "top": null,
            "grid_column": null,
            "overflow_y": null,
            "overflow_x": null,
            "grid_auto_flow": null,
            "grid_area": null,
            "grid_template_columns": null,
            "flex": null,
            "_model_name": "LayoutModel",
            "justify_items": null,
            "grid_row": null,
            "max_height": null,
            "align_content": null,
            "visibility": null,
            "align_self": null,
            "height": null,
            "min_height": null,
            "padding": null,
            "grid_auto_rows": null,
            "grid_gap": null,
            "max_width": null,
            "order": null,
            "_view_module_version": "1.2.0",
            "grid_template_areas": null,
            "object_position": null,
            "object_fit": null,
            "grid_auto_columns": null,
            "margin": null,
            "display": null,
            "left": null
          }
        },
        "f14037360acc441abf719c14f2061fd4": {
          "model_module": "@jupyter-widgets/controls",
          "model_name": "FloatProgressModel",
          "state": {
            "_view_name": "ProgressView",
            "style": "IPY_MODEL_8c84455c747c4c8fa833750cac7ffadc",
            "_dom_classes": [],
            "description": "",
            "_model_name": "FloatProgressModel",
            "bar_style": "info",
            "max": 1,
            "_view_module": "@jupyter-widgets/controls",
            "_model_module_version": "1.5.0",
            "value": 1,
            "_view_count": null,
            "_view_module_version": "1.5.0",
            "orientation": "horizontal",
            "min": 0,
            "description_tooltip": null,
            "_model_module": "@jupyter-widgets/controls",
            "layout": "IPY_MODEL_0abb4659f9f042f692840b945a4ec972"
          }
        },
        "fd16a893c6104285aed4a62d98dcbf90": {
          "model_module": "@jupyter-widgets/controls",
          "model_name": "HTMLModel",
          "state": {
            "_view_name": "HTMLView",
            "style": "IPY_MODEL_ac35966fcd324deb81ab116b498f029d",
            "_dom_classes": [],
            "description": "",
            "_model_name": "HTMLModel",
            "placeholder": "​",
            "_view_module": "@jupyter-widgets/controls",
            "_model_module_version": "1.5.0",
            "value": " 18169856/? [00:20&lt;00:00, 3799757.79it/s]",
            "_view_count": null,
            "_view_module_version": "1.5.0",
            "description_tooltip": null,
            "_model_module": "@jupyter-widgets/controls",
            "layout": "IPY_MODEL_839b5094781648b78915601cef538956"
          }
        },
        "8c84455c747c4c8fa833750cac7ffadc": {
          "model_module": "@jupyter-widgets/controls",
          "model_name": "ProgressStyleModel",
          "state": {
            "_view_name": "StyleView",
            "_model_name": "ProgressStyleModel",
            "description_width": "initial",
            "_view_module": "@jupyter-widgets/base",
            "_model_module_version": "1.5.0",
            "_view_count": null,
            "_view_module_version": "1.2.0",
            "bar_color": null,
            "_model_module": "@jupyter-widgets/controls"
          }
        },
        "0abb4659f9f042f692840b945a4ec972": {
          "model_module": "@jupyter-widgets/base",
          "model_name": "LayoutModel",
          "state": {
            "_view_name": "LayoutView",
            "grid_template_rows": null,
            "right": null,
            "justify_content": null,
            "_view_module": "@jupyter-widgets/base",
            "overflow": null,
            "_model_module_version": "1.2.0",
            "_view_count": null,
            "flex_flow": null,
            "width": null,
            "min_width": null,
            "border": null,
            "align_items": null,
            "bottom": null,
            "_model_module": "@jupyter-widgets/base",
            "top": null,
            "grid_column": null,
            "overflow_y": null,
            "overflow_x": null,
            "grid_auto_flow": null,
            "grid_area": null,
            "grid_template_columns": null,
            "flex": null,
            "_model_name": "LayoutModel",
            "justify_items": null,
            "grid_row": null,
            "max_height": null,
            "align_content": null,
            "visibility": null,
            "align_self": null,
            "height": null,
            "min_height": null,
            "padding": null,
            "grid_auto_rows": null,
            "grid_gap": null,
            "max_width": null,
            "order": null,
            "_view_module_version": "1.2.0",
            "grid_template_areas": null,
            "object_position": null,
            "object_fit": null,
            "grid_auto_columns": null,
            "margin": null,
            "display": null,
            "left": null
          }
        },
        "ac35966fcd324deb81ab116b498f029d": {
          "model_module": "@jupyter-widgets/controls",
          "model_name": "DescriptionStyleModel",
          "state": {
            "_view_name": "StyleView",
            "_model_name": "DescriptionStyleModel",
            "description_width": "",
            "_view_module": "@jupyter-widgets/base",
            "_model_module_version": "1.5.0",
            "_view_count": null,
            "_view_module_version": "1.2.0",
            "_model_module": "@jupyter-widgets/controls"
          }
        },
        "839b5094781648b78915601cef538956": {
          "model_module": "@jupyter-widgets/base",
          "model_name": "LayoutModel",
          "state": {
            "_view_name": "LayoutView",
            "grid_template_rows": null,
            "right": null,
            "justify_content": null,
            "_view_module": "@jupyter-widgets/base",
            "overflow": null,
            "_model_module_version": "1.2.0",
            "_view_count": null,
            "flex_flow": null,
            "width": null,
            "min_width": null,
            "border": null,
            "align_items": null,
            "bottom": null,
            "_model_module": "@jupyter-widgets/base",
            "top": null,
            "grid_column": null,
            "overflow_y": null,
            "overflow_x": null,
            "grid_auto_flow": null,
            "grid_area": null,
            "grid_template_columns": null,
            "flex": null,
            "_model_name": "LayoutModel",
            "justify_items": null,
            "grid_row": null,
            "max_height": null,
            "align_content": null,
            "visibility": null,
            "align_self": null,
            "height": null,
            "min_height": null,
            "padding": null,
            "grid_auto_rows": null,
            "grid_gap": null,
            "max_width": null,
            "order": null,
            "_view_module_version": "1.2.0",
            "grid_template_areas": null,
            "object_position": null,
            "object_fit": null,
            "grid_auto_columns": null,
            "margin": null,
            "display": null,
            "left": null
          }
        },
        "a7f814b30e714342b570681a3190ebf7": {
          "model_module": "@jupyter-widgets/controls",
          "model_name": "HBoxModel",
          "state": {
            "_view_name": "HBoxView",
            "_dom_classes": [],
            "_model_name": "HBoxModel",
            "_view_module": "@jupyter-widgets/controls",
            "_model_module_version": "1.5.0",
            "_view_count": null,
            "_view_module_version": "1.5.0",
            "box_style": "",
            "layout": "IPY_MODEL_c709229138774bf68ad8317f33ea0594",
            "_model_module": "@jupyter-widgets/controls",
            "children": [
              "IPY_MODEL_2f9fa579de8145308534686076b02b75",
              "IPY_MODEL_e35eb369edae4147ba839d4bf29e6df2"
            ]
          }
        },
        "c709229138774bf68ad8317f33ea0594": {
          "model_module": "@jupyter-widgets/base",
          "model_name": "LayoutModel",
          "state": {
            "_view_name": "LayoutView",
            "grid_template_rows": null,
            "right": null,
            "justify_content": null,
            "_view_module": "@jupyter-widgets/base",
            "overflow": null,
            "_model_module_version": "1.2.0",
            "_view_count": null,
            "flex_flow": null,
            "width": null,
            "min_width": null,
            "border": null,
            "align_items": null,
            "bottom": null,
            "_model_module": "@jupyter-widgets/base",
            "top": null,
            "grid_column": null,
            "overflow_y": null,
            "overflow_x": null,
            "grid_auto_flow": null,
            "grid_area": null,
            "grid_template_columns": null,
            "flex": null,
            "_model_name": "LayoutModel",
            "justify_items": null,
            "grid_row": null,
            "max_height": null,
            "align_content": null,
            "visibility": null,
            "align_self": null,
            "height": null,
            "min_height": null,
            "padding": null,
            "grid_auto_rows": null,
            "grid_gap": null,
            "max_width": null,
            "order": null,
            "_view_module_version": "1.2.0",
            "grid_template_areas": null,
            "object_position": null,
            "object_fit": null,
            "grid_auto_columns": null,
            "margin": null,
            "display": null,
            "left": null
          }
        },
        "2f9fa579de8145308534686076b02b75": {
          "model_module": "@jupyter-widgets/controls",
          "model_name": "FloatProgressModel",
          "state": {
            "_view_name": "ProgressView",
            "style": "IPY_MODEL_066df72b8d04407fbee81d017cdcd2b0",
            "_dom_classes": [],
            "description": "",
            "_model_name": "FloatProgressModel",
            "bar_style": "info",
            "max": 1,
            "_view_module": "@jupyter-widgets/controls",
            "_model_module_version": "1.5.0",
            "value": 1,
            "_view_count": null,
            "_view_module_version": "1.5.0",
            "orientation": "horizontal",
            "min": 0,
            "description_tooltip": null,
            "_model_module": "@jupyter-widgets/controls",
            "layout": "IPY_MODEL_42697ce3f0cc43049a2d6256cf14ca95"
          }
        },
        "e35eb369edae4147ba839d4bf29e6df2": {
          "model_module": "@jupyter-widgets/controls",
          "model_name": "HTMLModel",
          "state": {
            "_view_name": "HTMLView",
            "style": "IPY_MODEL_51189fcd64ad4e4394618d270f6df326",
            "_dom_classes": [],
            "description": "",
            "_model_name": "HTMLModel",
            "placeholder": "​",
            "_view_module": "@jupyter-widgets/controls",
            "_model_module_version": "1.5.0",
            "value": " 32768/? [00:12&lt;00:00, 71107.33it/s]",
            "_view_count": null,
            "_view_module_version": "1.5.0",
            "description_tooltip": null,
            "_model_module": "@jupyter-widgets/controls",
            "layout": "IPY_MODEL_992a1895beff43f48e1eaf5cb2e5f479"
          }
        },
        "066df72b8d04407fbee81d017cdcd2b0": {
          "model_module": "@jupyter-widgets/controls",
          "model_name": "ProgressStyleModel",
          "state": {
            "_view_name": "StyleView",
            "_model_name": "ProgressStyleModel",
            "description_width": "initial",
            "_view_module": "@jupyter-widgets/base",
            "_model_module_version": "1.5.0",
            "_view_count": null,
            "_view_module_version": "1.2.0",
            "bar_color": null,
            "_model_module": "@jupyter-widgets/controls"
          }
        },
        "42697ce3f0cc43049a2d6256cf14ca95": {
          "model_module": "@jupyter-widgets/base",
          "model_name": "LayoutModel",
          "state": {
            "_view_name": "LayoutView",
            "grid_template_rows": null,
            "right": null,
            "justify_content": null,
            "_view_module": "@jupyter-widgets/base",
            "overflow": null,
            "_model_module_version": "1.2.0",
            "_view_count": null,
            "flex_flow": null,
            "width": null,
            "min_width": null,
            "border": null,
            "align_items": null,
            "bottom": null,
            "_model_module": "@jupyter-widgets/base",
            "top": null,
            "grid_column": null,
            "overflow_y": null,
            "overflow_x": null,
            "grid_auto_flow": null,
            "grid_area": null,
            "grid_template_columns": null,
            "flex": null,
            "_model_name": "LayoutModel",
            "justify_items": null,
            "grid_row": null,
            "max_height": null,
            "align_content": null,
            "visibility": null,
            "align_self": null,
            "height": null,
            "min_height": null,
            "padding": null,
            "grid_auto_rows": null,
            "grid_gap": null,
            "max_width": null,
            "order": null,
            "_view_module_version": "1.2.0",
            "grid_template_areas": null,
            "object_position": null,
            "object_fit": null,
            "grid_auto_columns": null,
            "margin": null,
            "display": null,
            "left": null
          }
        },
        "51189fcd64ad4e4394618d270f6df326": {
          "model_module": "@jupyter-widgets/controls",
          "model_name": "DescriptionStyleModel",
          "state": {
            "_view_name": "StyleView",
            "_model_name": "DescriptionStyleModel",
            "description_width": "",
            "_view_module": "@jupyter-widgets/base",
            "_model_module_version": "1.5.0",
            "_view_count": null,
            "_view_module_version": "1.2.0",
            "_model_module": "@jupyter-widgets/controls"
          }
        },
        "992a1895beff43f48e1eaf5cb2e5f479": {
          "model_module": "@jupyter-widgets/base",
          "model_name": "LayoutModel",
          "state": {
            "_view_name": "LayoutView",
            "grid_template_rows": null,
            "right": null,
            "justify_content": null,
            "_view_module": "@jupyter-widgets/base",
            "overflow": null,
            "_model_module_version": "1.2.0",
            "_view_count": null,
            "flex_flow": null,
            "width": null,
            "min_width": null,
            "border": null,
            "align_items": null,
            "bottom": null,
            "_model_module": "@jupyter-widgets/base",
            "top": null,
            "grid_column": null,
            "overflow_y": null,
            "overflow_x": null,
            "grid_auto_flow": null,
            "grid_area": null,
            "grid_template_columns": null,
            "flex": null,
            "_model_name": "LayoutModel",
            "justify_items": null,
            "grid_row": null,
            "max_height": null,
            "align_content": null,
            "visibility": null,
            "align_self": null,
            "height": null,
            "min_height": null,
            "padding": null,
            "grid_auto_rows": null,
            "grid_gap": null,
            "max_width": null,
            "order": null,
            "_view_module_version": "1.2.0",
            "grid_template_areas": null,
            "object_position": null,
            "object_fit": null,
            "grid_auto_columns": null,
            "margin": null,
            "display": null,
            "left": null
          }
        },
        "885787304ce64cafb1c98bba3eb632e7": {
          "model_module": "@jupyter-widgets/controls",
          "model_name": "HBoxModel",
          "state": {
            "_view_name": "HBoxView",
            "_dom_classes": [],
            "_model_name": "HBoxModel",
            "_view_module": "@jupyter-widgets/controls",
            "_model_module_version": "1.5.0",
            "_view_count": null,
            "_view_module_version": "1.5.0",
            "box_style": "",
            "layout": "IPY_MODEL_51f28d751b044fca8f6933d132e2d295",
            "_model_module": "@jupyter-widgets/controls",
            "children": [
              "IPY_MODEL_ee802fb1cb0a4675b25f40be13f1e705",
              "IPY_MODEL_558d79d4ea8648ac85326da372fbf73b"
            ]
          }
        },
        "51f28d751b044fca8f6933d132e2d295": {
          "model_module": "@jupyter-widgets/base",
          "model_name": "LayoutModel",
          "state": {
            "_view_name": "LayoutView",
            "grid_template_rows": null,
            "right": null,
            "justify_content": null,
            "_view_module": "@jupyter-widgets/base",
            "overflow": null,
            "_model_module_version": "1.2.0",
            "_view_count": null,
            "flex_flow": null,
            "width": null,
            "min_width": null,
            "border": null,
            "align_items": null,
            "bottom": null,
            "_model_module": "@jupyter-widgets/base",
            "top": null,
            "grid_column": null,
            "overflow_y": null,
            "overflow_x": null,
            "grid_auto_flow": null,
            "grid_area": null,
            "grid_template_columns": null,
            "flex": null,
            "_model_name": "LayoutModel",
            "justify_items": null,
            "grid_row": null,
            "max_height": null,
            "align_content": null,
            "visibility": null,
            "align_self": null,
            "height": null,
            "min_height": null,
            "padding": null,
            "grid_auto_rows": null,
            "grid_gap": null,
            "max_width": null,
            "order": null,
            "_view_module_version": "1.2.0",
            "grid_template_areas": null,
            "object_position": null,
            "object_fit": null,
            "grid_auto_columns": null,
            "margin": null,
            "display": null,
            "left": null
          }
        },
        "ee802fb1cb0a4675b25f40be13f1e705": {
          "model_module": "@jupyter-widgets/controls",
          "model_name": "FloatProgressModel",
          "state": {
            "_view_name": "ProgressView",
            "style": "IPY_MODEL_c0b9a50be6224241a3234705cf6bf402",
            "_dom_classes": [],
            "description": "",
            "_model_name": "FloatProgressModel",
            "bar_style": "info",
            "max": 1,
            "_view_module": "@jupyter-widgets/controls",
            "_model_module_version": "1.5.0",
            "value": 1,
            "_view_count": null,
            "_view_module_version": "1.5.0",
            "orientation": "horizontal",
            "min": 0,
            "description_tooltip": null,
            "_model_module": "@jupyter-widgets/controls",
            "layout": "IPY_MODEL_b25c9287185e43dc9782fd13bd361f08"
          }
        },
        "558d79d4ea8648ac85326da372fbf73b": {
          "model_module": "@jupyter-widgets/controls",
          "model_name": "HTMLModel",
          "state": {
            "_view_name": "HTMLView",
            "style": "IPY_MODEL_d71555a47a4644d18b6d7d98c0ea05e0",
            "_dom_classes": [],
            "description": "",
            "_model_name": "HTMLModel",
            "placeholder": "​",
            "_view_module": "@jupyter-widgets/controls",
            "_model_module_version": "1.5.0",
            "value": " 3047424/? [00:22&lt;00:00, 612741.96it/s]",
            "_view_count": null,
            "_view_module_version": "1.5.0",
            "description_tooltip": null,
            "_model_module": "@jupyter-widgets/controls",
            "layout": "IPY_MODEL_3648d7be71444de0854d34ef71dab9e5"
          }
        },
        "c0b9a50be6224241a3234705cf6bf402": {
          "model_module": "@jupyter-widgets/controls",
          "model_name": "ProgressStyleModel",
          "state": {
            "_view_name": "StyleView",
            "_model_name": "ProgressStyleModel",
            "description_width": "initial",
            "_view_module": "@jupyter-widgets/base",
            "_model_module_version": "1.5.0",
            "_view_count": null,
            "_view_module_version": "1.2.0",
            "bar_color": null,
            "_model_module": "@jupyter-widgets/controls"
          }
        },
        "b25c9287185e43dc9782fd13bd361f08": {
          "model_module": "@jupyter-widgets/base",
          "model_name": "LayoutModel",
          "state": {
            "_view_name": "LayoutView",
            "grid_template_rows": null,
            "right": null,
            "justify_content": null,
            "_view_module": "@jupyter-widgets/base",
            "overflow": null,
            "_model_module_version": "1.2.0",
            "_view_count": null,
            "flex_flow": null,
            "width": null,
            "min_width": null,
            "border": null,
            "align_items": null,
            "bottom": null,
            "_model_module": "@jupyter-widgets/base",
            "top": null,
            "grid_column": null,
            "overflow_y": null,
            "overflow_x": null,
            "grid_auto_flow": null,
            "grid_area": null,
            "grid_template_columns": null,
            "flex": null,
            "_model_name": "LayoutModel",
            "justify_items": null,
            "grid_row": null,
            "max_height": null,
            "align_content": null,
            "visibility": null,
            "align_self": null,
            "height": null,
            "min_height": null,
            "padding": null,
            "grid_auto_rows": null,
            "grid_gap": null,
            "max_width": null,
            "order": null,
            "_view_module_version": "1.2.0",
            "grid_template_areas": null,
            "object_position": null,
            "object_fit": null,
            "grid_auto_columns": null,
            "margin": null,
            "display": null,
            "left": null
          }
        },
        "d71555a47a4644d18b6d7d98c0ea05e0": {
          "model_module": "@jupyter-widgets/controls",
          "model_name": "DescriptionStyleModel",
          "state": {
            "_view_name": "StyleView",
            "_model_name": "DescriptionStyleModel",
            "description_width": "",
            "_view_module": "@jupyter-widgets/base",
            "_model_module_version": "1.5.0",
            "_view_count": null,
            "_view_module_version": "1.2.0",
            "_model_module": "@jupyter-widgets/controls"
          }
        },
        "3648d7be71444de0854d34ef71dab9e5": {
          "model_module": "@jupyter-widgets/base",
          "model_name": "LayoutModel",
          "state": {
            "_view_name": "LayoutView",
            "grid_template_rows": null,
            "right": null,
            "justify_content": null,
            "_view_module": "@jupyter-widgets/base",
            "overflow": null,
            "_model_module_version": "1.2.0",
            "_view_count": null,
            "flex_flow": null,
            "width": null,
            "min_width": null,
            "border": null,
            "align_items": null,
            "bottom": null,
            "_model_module": "@jupyter-widgets/base",
            "top": null,
            "grid_column": null,
            "overflow_y": null,
            "overflow_x": null,
            "grid_auto_flow": null,
            "grid_area": null,
            "grid_template_columns": null,
            "flex": null,
            "_model_name": "LayoutModel",
            "justify_items": null,
            "grid_row": null,
            "max_height": null,
            "align_content": null,
            "visibility": null,
            "align_self": null,
            "height": null,
            "min_height": null,
            "padding": null,
            "grid_auto_rows": null,
            "grid_gap": null,
            "max_width": null,
            "order": null,
            "_view_module_version": "1.2.0",
            "grid_template_areas": null,
            "object_position": null,
            "object_fit": null,
            "grid_auto_columns": null,
            "margin": null,
            "display": null,
            "left": null
          }
        },
        "2d86fb71c9ee45509e8dff8783a7e980": {
          "model_module": "@jupyter-widgets/controls",
          "model_name": "HBoxModel",
          "state": {
            "_view_name": "HBoxView",
            "_dom_classes": [],
            "_model_name": "HBoxModel",
            "_view_module": "@jupyter-widgets/controls",
            "_model_module_version": "1.5.0",
            "_view_count": null,
            "_view_module_version": "1.5.0",
            "box_style": "",
            "layout": "IPY_MODEL_5658aa61ab7c4accb4e94636ee847509",
            "_model_module": "@jupyter-widgets/controls",
            "children": [
              "IPY_MODEL_1f2297f30d8e4ce983d77a27fe182bfe",
              "IPY_MODEL_4831a23426804eeda261e0bbdd305c63"
            ]
          }
        },
        "5658aa61ab7c4accb4e94636ee847509": {
          "model_module": "@jupyter-widgets/base",
          "model_name": "LayoutModel",
          "state": {
            "_view_name": "LayoutView",
            "grid_template_rows": null,
            "right": null,
            "justify_content": null,
            "_view_module": "@jupyter-widgets/base",
            "overflow": null,
            "_model_module_version": "1.2.0",
            "_view_count": null,
            "flex_flow": null,
            "width": null,
            "min_width": null,
            "border": null,
            "align_items": null,
            "bottom": null,
            "_model_module": "@jupyter-widgets/base",
            "top": null,
            "grid_column": null,
            "overflow_y": null,
            "overflow_x": null,
            "grid_auto_flow": null,
            "grid_area": null,
            "grid_template_columns": null,
            "flex": null,
            "_model_name": "LayoutModel",
            "justify_items": null,
            "grid_row": null,
            "max_height": null,
            "align_content": null,
            "visibility": null,
            "align_self": null,
            "height": null,
            "min_height": null,
            "padding": null,
            "grid_auto_rows": null,
            "grid_gap": null,
            "max_width": null,
            "order": null,
            "_view_module_version": "1.2.0",
            "grid_template_areas": null,
            "object_position": null,
            "object_fit": null,
            "grid_auto_columns": null,
            "margin": null,
            "display": null,
            "left": null
          }
        },
        "1f2297f30d8e4ce983d77a27fe182bfe": {
          "model_module": "@jupyter-widgets/controls",
          "model_name": "FloatProgressModel",
          "state": {
            "_view_name": "ProgressView",
            "style": "IPY_MODEL_1619b8e4feb94ac6b36815e9c21e2791",
            "_dom_classes": [],
            "description": "",
            "_model_name": "FloatProgressModel",
            "bar_style": "success",
            "max": 1,
            "_view_module": "@jupyter-widgets/controls",
            "_model_module_version": "1.5.0",
            "value": 1,
            "_view_count": null,
            "_view_module_version": "1.5.0",
            "orientation": "horizontal",
            "min": 0,
            "description_tooltip": null,
            "_model_module": "@jupyter-widgets/controls",
            "layout": "IPY_MODEL_fa806bd166594bd482a1dbd4e7afe4c0"
          }
        },
        "4831a23426804eeda261e0bbdd305c63": {
          "model_module": "@jupyter-widgets/controls",
          "model_name": "HTMLModel",
          "state": {
            "_view_name": "HTMLView",
            "style": "IPY_MODEL_5ac15a5e7f0d4170a2efc6e909092c06",
            "_dom_classes": [],
            "description": "",
            "_model_name": "HTMLModel",
            "placeholder": "​",
            "_view_module": "@jupyter-widgets/controls",
            "_model_module_version": "1.5.0",
            "value": " 8192/? [00:00&lt;00:00, 15312.06it/s]",
            "_view_count": null,
            "_view_module_version": "1.5.0",
            "description_tooltip": null,
            "_model_module": "@jupyter-widgets/controls",
            "layout": "IPY_MODEL_d72856c7b7fe45398746fe0f804a5aed"
          }
        },
        "1619b8e4feb94ac6b36815e9c21e2791": {
          "model_module": "@jupyter-widgets/controls",
          "model_name": "ProgressStyleModel",
          "state": {
            "_view_name": "StyleView",
            "_model_name": "ProgressStyleModel",
            "description_width": "initial",
            "_view_module": "@jupyter-widgets/base",
            "_model_module_version": "1.5.0",
            "_view_count": null,
            "_view_module_version": "1.2.0",
            "bar_color": null,
            "_model_module": "@jupyter-widgets/controls"
          }
        },
        "fa806bd166594bd482a1dbd4e7afe4c0": {
          "model_module": "@jupyter-widgets/base",
          "model_name": "LayoutModel",
          "state": {
            "_view_name": "LayoutView",
            "grid_template_rows": null,
            "right": null,
            "justify_content": null,
            "_view_module": "@jupyter-widgets/base",
            "overflow": null,
            "_model_module_version": "1.2.0",
            "_view_count": null,
            "flex_flow": null,
            "width": null,
            "min_width": null,
            "border": null,
            "align_items": null,
            "bottom": null,
            "_model_module": "@jupyter-widgets/base",
            "top": null,
            "grid_column": null,
            "overflow_y": null,
            "overflow_x": null,
            "grid_auto_flow": null,
            "grid_area": null,
            "grid_template_columns": null,
            "flex": null,
            "_model_name": "LayoutModel",
            "justify_items": null,
            "grid_row": null,
            "max_height": null,
            "align_content": null,
            "visibility": null,
            "align_self": null,
            "height": null,
            "min_height": null,
            "padding": null,
            "grid_auto_rows": null,
            "grid_gap": null,
            "max_width": null,
            "order": null,
            "_view_module_version": "1.2.0",
            "grid_template_areas": null,
            "object_position": null,
            "object_fit": null,
            "grid_auto_columns": null,
            "margin": null,
            "display": null,
            "left": null
          }
        },
        "5ac15a5e7f0d4170a2efc6e909092c06": {
          "model_module": "@jupyter-widgets/controls",
          "model_name": "DescriptionStyleModel",
          "state": {
            "_view_name": "StyleView",
            "_model_name": "DescriptionStyleModel",
            "description_width": "",
            "_view_module": "@jupyter-widgets/base",
            "_model_module_version": "1.5.0",
            "_view_count": null,
            "_view_module_version": "1.2.0",
            "_model_module": "@jupyter-widgets/controls"
          }
        },
        "d72856c7b7fe45398746fe0f804a5aed": {
          "model_module": "@jupyter-widgets/base",
          "model_name": "LayoutModel",
          "state": {
            "_view_name": "LayoutView",
            "grid_template_rows": null,
            "right": null,
            "justify_content": null,
            "_view_module": "@jupyter-widgets/base",
            "overflow": null,
            "_model_module_version": "1.2.0",
            "_view_count": null,
            "flex_flow": null,
            "width": null,
            "min_width": null,
            "border": null,
            "align_items": null,
            "bottom": null,
            "_model_module": "@jupyter-widgets/base",
            "top": null,
            "grid_column": null,
            "overflow_y": null,
            "overflow_x": null,
            "grid_auto_flow": null,
            "grid_area": null,
            "grid_template_columns": null,
            "flex": null,
            "_model_name": "LayoutModel",
            "justify_items": null,
            "grid_row": null,
            "max_height": null,
            "align_content": null,
            "visibility": null,
            "align_self": null,
            "height": null,
            "min_height": null,
            "padding": null,
            "grid_auto_rows": null,
            "grid_gap": null,
            "max_width": null,
            "order": null,
            "_view_module_version": "1.2.0",
            "grid_template_areas": null,
            "object_position": null,
            "object_fit": null,
            "grid_auto_columns": null,
            "margin": null,
            "display": null,
            "left": null
          }
        },
        "9cd851398d50407db3a888b00f6525b6": {
          "model_module": "@jupyter-widgets/controls",
          "model_name": "HBoxModel",
          "state": {
            "_view_name": "HBoxView",
            "_dom_classes": [],
            "_model_name": "HBoxModel",
            "_view_module": "@jupyter-widgets/controls",
            "_model_module_version": "1.5.0",
            "_view_count": null,
            "_view_module_version": "1.5.0",
            "box_style": "",
            "layout": "IPY_MODEL_436e617abd1748d8a2bba7a9dde04a56",
            "_model_module": "@jupyter-widgets/controls",
            "children": [
              "IPY_MODEL_e967ee9c1c2c450dbab22b9f955792ae",
              "IPY_MODEL_c5fcd26de3614120932e55e60e9141d5"
            ]
          }
        },
        "436e617abd1748d8a2bba7a9dde04a56": {
          "model_module": "@jupyter-widgets/base",
          "model_name": "LayoutModel",
          "state": {
            "_view_name": "LayoutView",
            "grid_template_rows": null,
            "right": null,
            "justify_content": null,
            "_view_module": "@jupyter-widgets/base",
            "overflow": null,
            "_model_module_version": "1.2.0",
            "_view_count": null,
            "flex_flow": null,
            "width": null,
            "min_width": null,
            "border": null,
            "align_items": null,
            "bottom": null,
            "_model_module": "@jupyter-widgets/base",
            "top": null,
            "grid_column": null,
            "overflow_y": null,
            "overflow_x": null,
            "grid_auto_flow": null,
            "grid_area": null,
            "grid_template_columns": null,
            "flex": null,
            "_model_name": "LayoutModel",
            "justify_items": null,
            "grid_row": null,
            "max_height": null,
            "align_content": null,
            "visibility": null,
            "align_self": null,
            "height": null,
            "min_height": null,
            "padding": null,
            "grid_auto_rows": null,
            "grid_gap": null,
            "max_width": null,
            "order": null,
            "_view_module_version": "1.2.0",
            "grid_template_areas": null,
            "object_position": null,
            "object_fit": null,
            "grid_auto_columns": null,
            "margin": null,
            "display": null,
            "left": null
          }
        },
        "e967ee9c1c2c450dbab22b9f955792ae": {
          "model_module": "@jupyter-widgets/controls",
          "model_name": "FloatProgressModel",
          "state": {
            "_view_name": "ProgressView",
            "style": "IPY_MODEL_42395bfbf12940e3b1b2dc5ae63e45dd",
            "_dom_classes": [],
            "description": "100%",
            "_model_name": "FloatProgressModel",
            "bar_style": "success",
            "max": 244418560,
            "_view_module": "@jupyter-widgets/controls",
            "_model_module_version": "1.5.0",
            "value": 244418560,
            "_view_count": null,
            "_view_module_version": "1.5.0",
            "orientation": "horizontal",
            "min": 0,
            "description_tooltip": null,
            "_model_module": "@jupyter-widgets/controls",
            "layout": "IPY_MODEL_faa96b94e23c4e91a5a620c219c99fa1"
          }
        },
        "c5fcd26de3614120932e55e60e9141d5": {
          "model_module": "@jupyter-widgets/controls",
          "model_name": "HTMLModel",
          "state": {
            "_view_name": "HTMLView",
            "style": "IPY_MODEL_2728c4aa23b14429a8c160927aba4602",
            "_dom_classes": [],
            "description": "",
            "_model_name": "HTMLModel",
            "placeholder": "​",
            "_view_module": "@jupyter-widgets/controls",
            "_model_module_version": "1.5.0",
            "value": " 233M/233M [28:35&lt;00:00, 142kB/s]",
            "_view_count": null,
            "_view_module_version": "1.5.0",
            "description_tooltip": null,
            "_model_module": "@jupyter-widgets/controls",
            "layout": "IPY_MODEL_3a2c754743ec4cb589ef6fc45d14362d"
          }
        },
        "42395bfbf12940e3b1b2dc5ae63e45dd": {
          "model_module": "@jupyter-widgets/controls",
          "model_name": "ProgressStyleModel",
          "state": {
            "_view_name": "StyleView",
            "_model_name": "ProgressStyleModel",
            "description_width": "initial",
            "_view_module": "@jupyter-widgets/base",
            "_model_module_version": "1.5.0",
            "_view_count": null,
            "_view_module_version": "1.2.0",
            "bar_color": null,
            "_model_module": "@jupyter-widgets/controls"
          }
        },
        "faa96b94e23c4e91a5a620c219c99fa1": {
          "model_module": "@jupyter-widgets/base",
          "model_name": "LayoutModel",
          "state": {
            "_view_name": "LayoutView",
            "grid_template_rows": null,
            "right": null,
            "justify_content": null,
            "_view_module": "@jupyter-widgets/base",
            "overflow": null,
            "_model_module_version": "1.2.0",
            "_view_count": null,
            "flex_flow": null,
            "width": null,
            "min_width": null,
            "border": null,
            "align_items": null,
            "bottom": null,
            "_model_module": "@jupyter-widgets/base",
            "top": null,
            "grid_column": null,
            "overflow_y": null,
            "overflow_x": null,
            "grid_auto_flow": null,
            "grid_area": null,
            "grid_template_columns": null,
            "flex": null,
            "_model_name": "LayoutModel",
            "justify_items": null,
            "grid_row": null,
            "max_height": null,
            "align_content": null,
            "visibility": null,
            "align_self": null,
            "height": null,
            "min_height": null,
            "padding": null,
            "grid_auto_rows": null,
            "grid_gap": null,
            "max_width": null,
            "order": null,
            "_view_module_version": "1.2.0",
            "grid_template_areas": null,
            "object_position": null,
            "object_fit": null,
            "grid_auto_columns": null,
            "margin": null,
            "display": null,
            "left": null
          }
        },
        "2728c4aa23b14429a8c160927aba4602": {
          "model_module": "@jupyter-widgets/controls",
          "model_name": "DescriptionStyleModel",
          "state": {
            "_view_name": "StyleView",
            "_model_name": "DescriptionStyleModel",
            "description_width": "",
            "_view_module": "@jupyter-widgets/base",
            "_model_module_version": "1.5.0",
            "_view_count": null,
            "_view_module_version": "1.2.0",
            "_model_module": "@jupyter-widgets/controls"
          }
        },
        "3a2c754743ec4cb589ef6fc45d14362d": {
          "model_module": "@jupyter-widgets/base",
          "model_name": "LayoutModel",
          "state": {
            "_view_name": "LayoutView",
            "grid_template_rows": null,
            "right": null,
            "justify_content": null,
            "_view_module": "@jupyter-widgets/base",
            "overflow": null,
            "_model_module_version": "1.2.0",
            "_view_count": null,
            "flex_flow": null,
            "width": null,
            "min_width": null,
            "border": null,
            "align_items": null,
            "bottom": null,
            "_model_module": "@jupyter-widgets/base",
            "top": null,
            "grid_column": null,
            "overflow_y": null,
            "overflow_x": null,
            "grid_auto_flow": null,
            "grid_area": null,
            "grid_template_columns": null,
            "flex": null,
            "_model_name": "LayoutModel",
            "justify_items": null,
            "grid_row": null,
            "max_height": null,
            "align_content": null,
            "visibility": null,
            "align_self": null,
            "height": null,
            "min_height": null,
            "padding": null,
            "grid_auto_rows": null,
            "grid_gap": null,
            "max_width": null,
            "order": null,
            "_view_module_version": "1.2.0",
            "grid_template_areas": null,
            "object_position": null,
            "object_fit": null,
            "grid_auto_columns": null,
            "margin": null,
            "display": null,
            "left": null
          }
        }
      }
    }
  },
  "cells": [
    {
      "cell_type": "markdown",
      "metadata": {
        "id": "view-in-github",
        "colab_type": "text"
      },
      "source": [
        "<a href=\"https://colab.research.google.com/github/marcelolandivar/Python_Projects/blob/master/KMNIST_Classification.ipynb\" target=\"_parent\"><img src=\"https://colab.research.google.com/assets/colab-badge.svg\" alt=\"Open In Colab\"/></a>"
      ]
    },
    {
      "cell_type": "markdown",
      "metadata": {
        "id": "sKQ_CAxyJG8O",
        "colab_type": "text"
      },
      "source": [
        "# Project \n",
        "**CLASSIFYING JAPANESE’S CHARACTERS USING KMNIST** \\\n",
        "**COMPARISON OF TWO CONVOLUTIONAL NEURAL NETS ARCHITECTURES BASED ON DEPTH** \\\n",
        "By: Marcelo Landivar\n",
        "Report: [Project Report](https://drive.google.com/file/d/1JNJShYI3nVrZrq-Z6PKd8xjbdCFUBgly/view?usp=sharing)"
      ]
    },
    {
      "cell_type": "markdown",
      "metadata": {
        "id": "PDTpY5GwJPaF",
        "colab_type": "text"
      },
      "source": [
        "# Imports\n",
        "Basic imports for the Model\n"
      ]
    },
    {
      "cell_type": "code",
      "metadata": {
        "id": "Gm880QOlJLqI",
        "colab_type": "code",
        "colab": {}
      },
      "source": [
        "import numpy as np\n",
        "np.random.seed(42)\n",
        "import torch\n",
        "import torch.optim as optim\n",
        "import torchvision \n",
        "from torchvision import datasets, transforms\n",
        "from torch.utils.data import DataLoader\n",
        "import torchvision\n",
        "from PIL import Image\n",
        "torch.manual_seed(42)\n",
        "if torch.cuda.is_available():\n",
        "    torch.cuda.manual_seed_all(42)\n",
        "import torch.nn as nn\n",
        "import torch.nn.functional as F\n",
        "import matplotlib.pyplot as plt\n",
        "from tqdm.notebook import tqdm\n",
        "\n",
        "if not torch.cuda.is_available():\n",
        "    raise Exception(\"You should enable GPU runtime!!\")\n",
        "device = 'cuda' if torch.cuda.is_available() else 'cpu'"
      ],
      "execution_count": null,
      "outputs": []
    },
    {
      "cell_type": "markdown",
      "metadata": {
        "id": "-lDIiSkWJbYd",
        "colab_type": "text"
      },
      "source": [
        "# Defining the Hyper-parameters\n",
        "\n",
        "We now define the hyperparameters that are going to be used throughout the notebook\n",
        "to define the network, the data `batch_size`, the training `learning_rate`, and others."
      ]
    },
    {
      "cell_type": "code",
      "metadata": {
        "id": "hXMlhV-FJ7jN",
        "colab_type": "code",
        "colab": {}
      },
      "source": [
        "# Let's define some hyper-parameters\n",
        "hparams = {\n",
        "    'batch_size': 64,\n",
        "    'num_epochs': 25, #Alexnet: 1 epoch to try if it worked, then 5 and then 15 to improve the results.\n",
        "    #'hidden_size': 128,\n",
        "    'num_classes': 10,\n",
        "    'num_inputs': 784,\n",
        "    'learning_rate': 1e-3, #Alexnet: initially a lr of 1e-2 for testing purposes, then change to 1e-4 for real training.\n",
        "    'log_interval': 100,\n",
        "    'optimizer': 'Adam', #Alexnet: Initially sdg just for testing but for the next training change to Adam directly\n",
        "    'weight_decay':1e-4 # Alexnet: From the beginning weight decay but no dropout in the model\n",
        "}\n",
        "hparams['device'] = 'cuda' if torch.cuda.is_available() else 'cpu'"
      ],
      "execution_count": null,
      "outputs": []
    },
    {
      "cell_type": "markdown",
      "metadata": {
        "id": "uFe8y3mnw9NU",
        "colab_type": "text"
      },
      "source": [
        "# Data Loading\n"
      ]
    },
    {
      "cell_type": "markdown",
      "metadata": {
        "id": "G2pATUiOKBT-",
        "colab_type": "text"
      },
      "source": [
        "The chosen dataset is the KMNIST from Torchvision dataset. The variant of this dataset is based on MNIST. The dataset is composed of 70,000 images of 28x28 in grayscale."
      ]
    },
    {
      "cell_type": "code",
      "metadata": {
        "id": "Z_KTj5FMCYGN",
        "colab_type": "code",
        "colab": {
          "base_uri": "https://localhost:8080/",
          "height": 634,
          "referenced_widgets": [
            "185e46fe5cf845f290dea13948fef3ac",
            "2882093ae4d642db8823af7dd094df02",
            "f14037360acc441abf719c14f2061fd4",
            "fd16a893c6104285aed4a62d98dcbf90",
            "8c84455c747c4c8fa833750cac7ffadc",
            "0abb4659f9f042f692840b945a4ec972",
            "ac35966fcd324deb81ab116b498f029d",
            "839b5094781648b78915601cef538956",
            "a7f814b30e714342b570681a3190ebf7",
            "c709229138774bf68ad8317f33ea0594",
            "2f9fa579de8145308534686076b02b75",
            "e35eb369edae4147ba839d4bf29e6df2",
            "066df72b8d04407fbee81d017cdcd2b0",
            "42697ce3f0cc43049a2d6256cf14ca95",
            "51189fcd64ad4e4394618d270f6df326",
            "992a1895beff43f48e1eaf5cb2e5f479",
            "885787304ce64cafb1c98bba3eb632e7",
            "51f28d751b044fca8f6933d132e2d295",
            "ee802fb1cb0a4675b25f40be13f1e705",
            "558d79d4ea8648ac85326da372fbf73b",
            "c0b9a50be6224241a3234705cf6bf402",
            "b25c9287185e43dc9782fd13bd361f08",
            "d71555a47a4644d18b6d7d98c0ea05e0",
            "3648d7be71444de0854d34ef71dab9e5",
            "2d86fb71c9ee45509e8dff8783a7e980",
            "5658aa61ab7c4accb4e94636ee847509",
            "1f2297f30d8e4ce983d77a27fe182bfe",
            "4831a23426804eeda261e0bbdd305c63",
            "1619b8e4feb94ac6b36815e9c21e2791",
            "fa806bd166594bd482a1dbd4e7afe4c0",
            "5ac15a5e7f0d4170a2efc6e909092c06",
            "d72856c7b7fe45398746fe0f804a5aed"
          ]
        },
        "outputId": "27d93df4-b27a-48d1-be98-3924e2f9cfcf"
      },
      "source": [
        "data = torchvision.datasets.KMNIST(root=\"data\", download=True)\n",
        "img, lbl = data[1]\n",
        "print(lbl)\n",
        "fig = plt.figure(figsize=(4,4))\n",
        "plt.imshow(img, cmap='gray')\n",
        "plt.show()"
      ],
      "execution_count": null,
      "outputs": [
        {
          "output_type": "stream",
          "text": [
            "Downloading http://codh.rois.ac.jp/kmnist/dataset/kmnist/train-images-idx3-ubyte.gz to data/KMNIST/raw/train-images-idx3-ubyte.gz\n"
          ],
          "name": "stdout"
        },
        {
          "output_type": "display_data",
          "data": {
            "application/vnd.jupyter.widget-view+json": {
              "model_id": "185e46fe5cf845f290dea13948fef3ac",
              "version_minor": 0,
              "version_major": 2
            },
            "text/plain": [
              "HBox(children=(FloatProgress(value=1.0, bar_style='info', max=1.0), HTML(value='')))"
            ]
          },
          "metadata": {
            "tags": []
          }
        },
        {
          "output_type": "stream",
          "text": [
            "Extracting data/KMNIST/raw/train-images-idx3-ubyte.gz to data/KMNIST/raw\n",
            "Downloading http://codh.rois.ac.jp/kmnist/dataset/kmnist/train-labels-idx1-ubyte.gz to data/KMNIST/raw/train-labels-idx1-ubyte.gz\n"
          ],
          "name": "stdout"
        },
        {
          "output_type": "display_data",
          "data": {
            "application/vnd.jupyter.widget-view+json": {
              "model_id": "a7f814b30e714342b570681a3190ebf7",
              "version_minor": 0,
              "version_major": 2
            },
            "text/plain": [
              "HBox(children=(FloatProgress(value=1.0, bar_style='info', max=1.0), HTML(value='')))"
            ]
          },
          "metadata": {
            "tags": []
          }
        },
        {
          "output_type": "stream",
          "text": [
            "Extracting data/KMNIST/raw/train-labels-idx1-ubyte.gz to data/KMNIST/raw\n",
            "Downloading http://codh.rois.ac.jp/kmnist/dataset/kmnist/t10k-images-idx3-ubyte.gz to data/KMNIST/raw/t10k-images-idx3-ubyte.gz\n"
          ],
          "name": "stdout"
        },
        {
          "output_type": "display_data",
          "data": {
            "application/vnd.jupyter.widget-view+json": {
              "model_id": "885787304ce64cafb1c98bba3eb632e7",
              "version_minor": 0,
              "version_major": 2
            },
            "text/plain": [
              "HBox(children=(FloatProgress(value=1.0, bar_style='info', max=1.0), HTML(value='')))"
            ]
          },
          "metadata": {
            "tags": []
          }
        },
        {
          "output_type": "stream",
          "text": [
            "Extracting data/KMNIST/raw/t10k-images-idx3-ubyte.gz to data/KMNIST/raw\n",
            "Downloading http://codh.rois.ac.jp/kmnist/dataset/kmnist/t10k-labels-idx1-ubyte.gz to data/KMNIST/raw/t10k-labels-idx1-ubyte.gz\n"
          ],
          "name": "stdout"
        },
        {
          "output_type": "display_data",
          "data": {
            "application/vnd.jupyter.widget-view+json": {
              "model_id": "2d86fb71c9ee45509e8dff8783a7e980",
              "version_minor": 0,
              "version_major": 2
            },
            "text/plain": [
              "HBox(children=(FloatProgress(value=1.0, bar_style='info', max=1.0), HTML(value='')))"
            ]
          },
          "metadata": {
            "tags": []
          }
        },
        {
          "output_type": "stream",
          "text": [
            "Extracting data/KMNIST/raw/t10k-labels-idx1-ubyte.gz to data/KMNIST/raw\n",
            "Processing...\n",
            "\n",
            "Done!\n",
            "7\n"
          ],
          "name": "stdout"
        },
        {
          "output_type": "stream",
          "text": [
            "/pytorch/torch/csrc/utils/tensor_numpy.cpp:141: UserWarning: The given NumPy array is not writeable, and PyTorch does not support non-writeable tensors. This means you can write to the underlying (supposedly non-writeable) NumPy array using the tensor. You may want to copy the array to protect its data or make it writeable before converting it to a tensor. This type of warning will be suppressed for the rest of this program.\n"
          ],
          "name": "stderr"
        },
        {
          "output_type": "display_data",
          "data": {
            "image/png": "[encoded data removed]",
            "text/plain": [
              "<Figure size 288x288 with 1 Axes>"
            ]
          },
          "metadata": {
            "tags": [],
            "needs_background": "light"
          }
        }
      ]
    },
    {
      "cell_type": "code",
      "metadata": {
        "id": "n2XOfBbeLiTj",
        "colab_type": "code",
        "colab": {
          "base_uri": "https://localhost:8080/",
          "height": 187
        },
        "outputId": "4f6542d2-a4bd-4523-ca2e-6bd45783670e"
      },
      "source": [
        "data.class_to_idx"
      ],
      "execution_count": null,
      "outputs": [
        {
          "output_type": "execute_result",
          "data": {
            "text/plain": [
              "{'ha': 5,\n",
              " 'ki': 1,\n",
              " 'ma': 6,\n",
              " 'na': 4,\n",
              " 'o': 0,\n",
              " 're': 8,\n",
              " 'su': 2,\n",
              " 'tsu': 3,\n",
              " 'wo': 9,\n",
              " 'ya': 7}"
            ]
          },
          "metadata": {
            "tags": []
          },
          "execution_count": 33
        }
      ]
    },
    {
      "cell_type": "code",
      "metadata": {
        "id": "WpQ1bTH9PYdx",
        "colab_type": "code",
        "colab": {}
      },
      "source": [
        "transform_ = transforms.Compose([transforms.Resize((224,224), interpolation=Image.NEAREST), # resizing the image to the model input\n",
        "                                transforms.RandomHorizontalFlip(),\n",
        "                                transforms.RandomRotation(10),\n",
        "                                transforms.ToTensor(),\n",
        "                                transforms.Lambda(lambda x: torch.cat([x,x,x], 0)) # converting the image to 3 channels\n",
        "                                ])\n"
      ],
      "execution_count": null,
      "outputs": []
    },
    {
      "cell_type": "code",
      "metadata": {
        "id": "tFDQP9Ad_Tbs",
        "colab_type": "code",
        "colab": {}
      },
      "source": [
        "root='/content/drive/My Drive/Data Science/AI_Dataset'"
      ],
      "execution_count": null,
      "outputs": []
    },
    {
      "cell_type": "code",
      "metadata": {
        "id": "_r3I_OrgnxYT",
        "colab_type": "code",
        "colab": {}
      },
      "source": [
        "train_dataset_ = torchvision.datasets.KMNIST(root, train=True, transform=transform_, target_transform=None, download=False)\n",
        "                                     \n",
        "val_dataset_ = torchvision.datasets.KMNIST(root, train=False, transform=transform_, target_transform=None, download=False)\n",
        "                                    \n",
        "train_dataloader_= DataLoader(train_dataset_, batch_size=hparams['batch_size'], shuffle=True, num_workers=0)\n",
        "val_dataloader_ =  DataLoader(val_dataset_, batch_size=hparams['batch_size'], shuffle=False, num_workers=0)\n"
      ],
      "execution_count": null,
      "outputs": []
    },
    {
      "cell_type": "markdown",
      "metadata": {
        "id": "AMBUQaluyPAv",
        "colab_type": "text"
      },
      "source": [
        "# Models\n",
        "\n"
      ]
    },
    {
      "cell_type": "markdown",
      "metadata": {
        "id": "eiRQ0pjG63_W",
        "colab_type": "text"
      },
      "source": [
        "##Alexnet"
      ]
    },
    {
      "cell_type": "markdown",
      "metadata": {
        "id": "K--320qQ687d",
        "colab_type": "text"
      },
      "source": [
        "The inital model architecture selected for the task was Alexnet due to its popularity for image classification and low complexity. The Alexnet model has to be customize to be adapted to the dataset. The last FC will modified to have 10 classes."
      ]
    },
    {
      "cell_type": "markdown",
      "metadata": {
        "id": "RmGYVZl-9CT1",
        "colab_type": "text"
      },
      "source": [
        "![texto alternativo](https://www.mdpi.com/remotesensing/remotesensing-09-00848/article_deploy/html/images/remotesensing-09-00848-g001.png)"
      ]
    },
    {
      "cell_type": "markdown",
      "metadata": {
        "id": "0p6mvp1T84eO",
        "colab_type": "text"
      },
      "source": [
        "###Model Preparation"
      ]
    },
    {
      "cell_type": "code",
      "metadata": {
        "id": "McGziNaLNoyQ",
        "colab_type": "code",
        "colab": {
          "base_uri": "https://localhost:8080/",
          "height": 542,
          "referenced_widgets": [
            "9cd851398d50407db3a888b00f6525b6",
            "436e617abd1748d8a2bba7a9dde04a56",
            "e967ee9c1c2c450dbab22b9f955792ae",
            "c5fcd26de3614120932e55e60e9141d5",
            "42395bfbf12940e3b1b2dc5ae63e45dd",
            "faa96b94e23c4e91a5a620c219c99fa1",
            "2728c4aa23b14429a8c160927aba4602",
            "3a2c754743ec4cb589ef6fc45d14362d"
          ]
        },
        "outputId": "4b7a90cf-70b2-443e-a60e-cdc2ba3ed20f"
      },
      "source": [
        "# load the original Alexnet model\n",
        "model = torchvision.models.alexnet(pretrained=True)  \n",
        "model.children"
      ],
      "execution_count": null,
      "outputs": [
        {
          "output_type": "stream",
          "text": [
            "Downloading: \"https://download.pytorch.org/models/alexnet-owt-4df8aa71.pth\" to /root/.cache/torch/checkpoints/alexnet-owt-4df8aa71.pth\n"
          ],
          "name": "stderr"
        },
        {
          "output_type": "display_data",
          "data": {
            "application/vnd.jupyter.widget-view+json": {
              "model_id": "9cd851398d50407db3a888b00f6525b6",
              "version_minor": 0,
              "version_major": 2
            },
            "text/plain": [
              "HBox(children=(FloatProgress(value=0.0, max=244418560.0), HTML(value='')))"
            ]
          },
          "metadata": {
            "tags": []
          }
        },
        {
          "output_type": "stream",
          "text": [
            "\n"
          ],
          "name": "stdout"
        },
        {
          "output_type": "execute_result",
          "data": {
            "text/plain": [
              "<bound method Module.children of AlexNet(\n",
              "  (features): Sequential(\n",
              "    (0): Conv2d(3, 64, kernel_size=(11, 11), stride=(4, 4), padding=(2, 2))\n",
              "    (1): ReLU(inplace=True)\n",
              "    (2): MaxPool2d(kernel_size=3, stride=2, padding=0, dilation=1, ceil_mode=False)\n",
              "    (3): Conv2d(64, 192, kernel_size=(5, 5), stride=(1, 1), padding=(2, 2))\n",
              "    (4): ReLU(inplace=True)\n",
              "    (5): MaxPool2d(kernel_size=3, stride=2, padding=0, dilation=1, ceil_mode=False)\n",
              "    (6): Conv2d(192, 384, kernel_size=(3, 3), stride=(1, 1), padding=(1, 1))\n",
              "    (7): ReLU(inplace=True)\n",
              "    (8): Conv2d(384, 256, kernel_size=(3, 3), stride=(1, 1), padding=(1, 1))\n",
              "    (9): ReLU(inplace=True)\n",
              "    (10): Conv2d(256, 256, kernel_size=(3, 3), stride=(1, 1), padding=(1, 1))\n",
              "    (11): ReLU(inplace=True)\n",
              "    (12): MaxPool2d(kernel_size=3, stride=2, padding=0, dilation=1, ceil_mode=False)\n",
              "  )\n",
              "  (avgpool): AdaptiveAvgPool2d(output_size=(6, 6))\n",
              "  (classifier): Sequential(\n",
              "    (0): Dropout(p=0.5, inplace=False)\n",
              "    (1): Linear(in_features=9216, out_features=4096, bias=True)\n",
              "    (2): ReLU(inplace=True)\n",
              "    (3): Dropout(p=0.5, inplace=False)\n",
              "    (4): Linear(in_features=4096, out_features=4096, bias=True)\n",
              "    (5): ReLU(inplace=True)\n",
              "    (6): Linear(in_features=4096, out_features=1000, bias=True)\n",
              "  )\n",
              ")>"
            ]
          },
          "metadata": {
            "tags": []
          },
          "execution_count": 38
        }
      ]
    },
    {
      "cell_type": "code",
      "metadata": {
        "id": "Vj33nTKSNavx",
        "colab_type": "code",
        "colab": {}
      },
      "source": [
        "#Create a customize Alexnet for the KMINST dataset and check the results usign transfer learning\n",
        "class Alexnet_modified(nn.Module):\n",
        "    def __init__(self, num_classes):\n",
        "        super(Alexnet_modified, self).__init__()\n",
        "        self.features = nn.Sequential(*list(model.features.children())) #Extracting the layers of features module\n",
        "        self.classifier = nn.Sequential(\n",
        "            *[list(model.classifier.children())[i] for i in [1, 2, 4, 5]], #Remove the Dropouts and the final layer wihth 1000 classes\n",
        "            nn.Linear(4096, num_classes), #add a Linear with the number of classes for this dataset\n",
        "            nn.LogSoftmax() #Use Logsoftmax instead of Sigmoid\n",
        "        )\n",
        "    \n",
        "    def forward(self, x):\n",
        "        x = self.features(x)\n",
        "        x = x.view(x.size(0), 256 * 6 * 6)\n",
        "        x = self.classifier(x)\n",
        "        return x\n",
        "\n",
        "# load custom model\n",
        "Custom_Alexnet = Alexnet_modified(num_classes=10).to(device)"
      ],
      "execution_count": null,
      "outputs": []
    },
    {
      "cell_type": "code",
      "metadata": {
        "id": "zf6sDt5sq3FK",
        "colab_type": "code",
        "colab": {
          "base_uri": "https://localhost:8080/",
          "height": 442
        },
        "outputId": "4c0005d9-6a92-4f12-bbc0-696b1f89ba66"
      },
      "source": [
        "Custom_Alexnet"
      ],
      "execution_count": null,
      "outputs": [
        {
          "output_type": "execute_result",
          "data": {
            "text/plain": [
              "Alexnet_modified(\n",
              "  (features): Sequential(\n",
              "    (0): Conv2d(3, 64, kernel_size=(11, 11), stride=(4, 4), padding=(2, 2))\n",
              "    (1): ReLU(inplace=True)\n",
              "    (2): MaxPool2d(kernel_size=3, stride=2, padding=0, dilation=1, ceil_mode=False)\n",
              "    (3): Conv2d(64, 192, kernel_size=(5, 5), stride=(1, 1), padding=(2, 2))\n",
              "    (4): ReLU(inplace=True)\n",
              "    (5): MaxPool2d(kernel_size=3, stride=2, padding=0, dilation=1, ceil_mode=False)\n",
              "    (6): Conv2d(192, 384, kernel_size=(3, 3), stride=(1, 1), padding=(1, 1))\n",
              "    (7): ReLU(inplace=True)\n",
              "    (8): Conv2d(384, 256, kernel_size=(3, 3), stride=(1, 1), padding=(1, 1))\n",
              "    (9): ReLU(inplace=True)\n",
              "    (10): Conv2d(256, 256, kernel_size=(3, 3), stride=(1, 1), padding=(1, 1))\n",
              "    (11): ReLU(inplace=True)\n",
              "    (12): MaxPool2d(kernel_size=3, stride=2, padding=0, dilation=1, ceil_mode=False)\n",
              "  )\n",
              "  (classifier): Sequential(\n",
              "    (0): Linear(in_features=9216, out_features=4096, bias=True)\n",
              "    (1): ReLU(inplace=True)\n",
              "    (2): Linear(in_features=4096, out_features=4096, bias=True)\n",
              "    (3): ReLU(inplace=True)\n",
              "    (4): Linear(in_features=4096, out_features=10, bias=True)\n",
              "    (5): LogSoftmax()\n",
              "  )\n",
              ")"
            ]
          },
          "metadata": {
            "tags": []
          },
          "execution_count": 40
        }
      ]
    },
    {
      "cell_type": "code",
      "metadata": {
        "id": "4MQvKkV9qThI",
        "colab_type": "code",
        "colab": {
          "base_uri": "https://localhost:8080/",
          "height": 51
        },
        "outputId": "771f2e28-a2f3-4498-ff3c-27a34133bc86"
      },
      "source": [
        "#freeze the layers so we can't use the weights trained in Alexnet\n",
        "#unfreeze the last layer since the training didn't have much sense with those weights\n",
        "for params in Custom_Alexnet.parameters():   \n",
        "  params.requires_grad=False\n",
        "\n",
        "for i, params in enumerate(Custom_Alexnet.classifier.parameters()):\n",
        "  if i>3:\n",
        "    params.requires_grad=True\n",
        "    print(i)"
      ],
      "execution_count": null,
      "outputs": [
        {
          "output_type": "stream",
          "text": [
            "4\n",
            "5\n"
          ],
          "name": "stdout"
        }
      ]
    },
    {
      "cell_type": "markdown",
      "metadata": {
        "id": "rnBBzrGd8nIU",
        "colab_type": "text"
      },
      "source": [
        "###Model Training"
      ]
    },
    {
      "cell_type": "code",
      "metadata": {
        "id": "mhVoaKa2so5S",
        "colab_type": "code",
        "colab": {}
      },
      "source": [
        "optimizer = optim.Adam(Custom_Alexnet.parameters(), lr = hparams['learning_rate'], weight_decay=hparams['weight_decay'])\n",
        "criterion = F.cross_entropy"
      ],
      "execution_count": null,
      "outputs": []
    },
    {
      "cell_type": "code",
      "metadata": {
        "id": "x_cOJZURxcFV",
        "colab_type": "code",
        "colab": {}
      },
      "source": [
        "def correct_predictions(predicted_batch, label_batch):\n",
        "  pred = predicted_batch.argmax(dim=1, keepdim=True) # get the index of the max log-probability\n",
        "  acum = pred.eq(label_batch.view_as(pred)).sum().item()\n",
        "  return acum\n",
        "\n",
        "def train_epoch(train_loader, network, optimizer, criterion, hparams):\n",
        "  # Activate the train=True flag inside the model\n",
        "  network.train()\n",
        "  device = hparams['device']\n",
        "  avg_loss = None\n",
        "  avg_weight = 0.1\n",
        "  for batch_idx, (data, target) in enumerate(train_loader):\n",
        "      data, target = data.to(device), target.to(device)\n",
        "      optimizer.zero_grad()\n",
        "      output = network(data)\n",
        "      loss = criterion(output, target)\n",
        "      loss.backward()\n",
        "      if avg_loss:\n",
        "        avg_loss = avg_weight * loss.item() + (1 - avg_weight) * avg_loss\n",
        "      else:\n",
        "        avg_loss = loss.item()\n",
        "      optimizer.step()\n",
        "      if batch_idx % hparams['log_interval'] == 0:\n",
        "          print('Train Epoch: {} [{}/{} ({:.0f}%)]\\tLoss: {:.6f}'.format(\n",
        "              epoch, batch_idx * len(data), len(train_loader.dataset),\n",
        "              100. * batch_idx / len(train_loader), loss.item()))\n",
        "  return avg_loss\n",
        "\n",
        "def test_epoch(test_loader, network, hparams):\n",
        "    network.eval()\n",
        "    device = hparams['device']\n",
        "    test_loss = 0\n",
        "    acc = 0\n",
        "    with torch.no_grad():\n",
        "        for data, target in test_loader:\n",
        "            data, target = data.to(device), target.to(device)\n",
        "            output = network(data)\n",
        "            test_loss += criterion(output, target, reduction='sum').item() # sum up batch loss\n",
        "            # compute number of correct predictions in the batch\n",
        "            acc += correct_predictions(output, target)\n",
        "    # Average acc across all correct predictions batches now\n",
        "    test_loss /= len(test_loader.dataset)\n",
        "    test_acc = 100. * acc / len(test_loader.dataset)\n",
        "    print('\\nVal set: Average loss: {:.4f}, Accuracy: {}/{} ({:.0f}%)\\n'.format(\n",
        "        test_loss, acc, len(test_loader.dataset), test_acc,\n",
        "        ))\n",
        "    return test_loss, test_acc"
      ],
      "execution_count": null,
      "outputs": []
    },
    {
      "cell_type": "code",
      "metadata": {
        "id": "lG_mL0vdtEkg",
        "colab_type": "code",
        "colab": {
          "base_uri": "https://localhost:8080/",
          "height": 1000
        },
        "outputId": "63eae527-1a8a-4acf-ef40-eb16da80420e"
      },
      "source": [
        "training_losses = []\n",
        "val_losses = []\n",
        "val_accs = []\n",
        "\n",
        "\n",
        "for epoch in range(1, hparams['num_epochs'] + 1):\n",
        "  training_losses.append(train_epoch(train_dataloader_, Custom_Alexnet, optimizer, criterion, hparams))\n",
        "  val_loss, val_acc = test_epoch(val_dataloader_, Custom_Alexnet, hparams)\n",
        "  val_losses.append(val_loss)\n",
        "  val_accs.append(val_acc)\n",
        "\n",
        "#Initial training for testing for Alexnet a Acc of 62%, the second attempt increased to 75%, third to 79% and last 83%\n",
        "#Each of the times the model was instantiated again.\n",
        "#For more information, please refer to the report"
      ],
      "execution_count": null,
      "outputs": [
        {
          "output_type": "stream",
          "text": [
            "/usr/local/lib/python3.6/dist-packages/torch/nn/modules/container.py:100: UserWarning: Implicit dimension choice for log_softmax has been deprecated. Change the call to include dim=X as an argument.\n",
            "  input = module(input)\n"
          ],
          "name": "stderr"
        },
        {
          "output_type": "stream",
          "text": [
            "Train Epoch: 1 [0/60000 (0%)]\tLoss: 2.334892\n",
            "Train Epoch: 1 [6400/60000 (11%)]\tLoss: 0.994418\n",
            "Train Epoch: 1 [12800/60000 (21%)]\tLoss: 0.469670\n",
            "Train Epoch: 1 [19200/60000 (32%)]\tLoss: 0.541400\n",
            "Train Epoch: 1 [25600/60000 (43%)]\tLoss: 0.603581\n",
            "Train Epoch: 1 [32000/60000 (53%)]\tLoss: 0.474479\n",
            "Train Epoch: 1 [38400/60000 (64%)]\tLoss: 0.457884\n",
            "Train Epoch: 1 [44800/60000 (75%)]\tLoss: 0.640936\n",
            "Train Epoch: 1 [51200/60000 (85%)]\tLoss: 0.481149\n",
            "Train Epoch: 1 [57600/60000 (96%)]\tLoss: 0.549420\n",
            "\n",
            "Val set: Average loss: 0.8502, Accuracy: 7352/10000 (74%)\n",
            "\n",
            "Train Epoch: 2 [0/60000 (0%)]\tLoss: 0.520102\n",
            "Train Epoch: 2 [6400/60000 (11%)]\tLoss: 0.416010\n",
            "Train Epoch: 2 [12800/60000 (21%)]\tLoss: 0.483778\n",
            "Train Epoch: 2 [19200/60000 (32%)]\tLoss: 0.454384\n",
            "Train Epoch: 2 [25600/60000 (43%)]\tLoss: 0.353405\n",
            "Train Epoch: 2 [32000/60000 (53%)]\tLoss: 0.442672\n",
            "Train Epoch: 2 [38400/60000 (64%)]\tLoss: 0.250223\n",
            "Train Epoch: 2 [44800/60000 (75%)]\tLoss: 0.440009\n",
            "Train Epoch: 2 [51200/60000 (85%)]\tLoss: 0.671034\n",
            "Train Epoch: 2 [57600/60000 (96%)]\tLoss: 0.400700\n",
            "\n",
            "Val set: Average loss: 0.7845, Accuracy: 7664/10000 (77%)\n",
            "\n",
            "Train Epoch: 3 [0/60000 (0%)]\tLoss: 0.423940\n",
            "Train Epoch: 3 [6400/60000 (11%)]\tLoss: 0.451126\n",
            "Train Epoch: 3 [12800/60000 (21%)]\tLoss: 0.270850\n",
            "Train Epoch: 3 [19200/60000 (32%)]\tLoss: 0.678331\n",
            "Train Epoch: 3 [25600/60000 (43%)]\tLoss: 0.219621\n",
            "Train Epoch: 3 [32000/60000 (53%)]\tLoss: 0.376961\n",
            "Train Epoch: 3 [38400/60000 (64%)]\tLoss: 0.451087\n",
            "Train Epoch: 3 [44800/60000 (75%)]\tLoss: 0.636355\n",
            "Train Epoch: 3 [51200/60000 (85%)]\tLoss: 0.438117\n",
            "Train Epoch: 3 [57600/60000 (96%)]\tLoss: 0.464309\n",
            "\n",
            "Val set: Average loss: 0.7432, Accuracy: 7755/10000 (78%)\n",
            "\n",
            "Train Epoch: 4 [0/60000 (0%)]\tLoss: 0.388948\n",
            "Train Epoch: 4 [6400/60000 (11%)]\tLoss: 0.475864\n",
            "Train Epoch: 4 [12800/60000 (21%)]\tLoss: 0.313570\n",
            "Train Epoch: 4 [19200/60000 (32%)]\tLoss: 0.801490\n",
            "Train Epoch: 4 [25600/60000 (43%)]\tLoss: 0.358300\n",
            "Train Epoch: 4 [32000/60000 (53%)]\tLoss: 0.257639\n",
            "Train Epoch: 4 [38400/60000 (64%)]\tLoss: 0.503647\n",
            "Train Epoch: 4 [44800/60000 (75%)]\tLoss: 0.412528\n",
            "Train Epoch: 4 [51200/60000 (85%)]\tLoss: 0.540610\n",
            "Train Epoch: 4 [57600/60000 (96%)]\tLoss: 0.378080\n",
            "\n",
            "Val set: Average loss: 0.7920, Accuracy: 7439/10000 (74%)\n",
            "\n",
            "Train Epoch: 5 [0/60000 (0%)]\tLoss: 0.413226\n",
            "Train Epoch: 5 [6400/60000 (11%)]\tLoss: 0.334373\n",
            "Train Epoch: 5 [12800/60000 (21%)]\tLoss: 0.304053\n",
            "Train Epoch: 5 [19200/60000 (32%)]\tLoss: 0.162291\n",
            "Train Epoch: 5 [25600/60000 (43%)]\tLoss: 0.310111\n",
            "Train Epoch: 5 [32000/60000 (53%)]\tLoss: 0.386761\n",
            "Train Epoch: 5 [38400/60000 (64%)]\tLoss: 0.300488\n",
            "Train Epoch: 5 [44800/60000 (75%)]\tLoss: 0.312999\n",
            "Train Epoch: 5 [51200/60000 (85%)]\tLoss: 0.329266\n",
            "Train Epoch: 5 [57600/60000 (96%)]\tLoss: 0.270860\n",
            "\n",
            "Val set: Average loss: 0.6466, Accuracy: 7979/10000 (80%)\n",
            "\n",
            "Train Epoch: 6 [0/60000 (0%)]\tLoss: 0.552101\n",
            "Train Epoch: 6 [6400/60000 (11%)]\tLoss: 0.316307\n",
            "Train Epoch: 6 [12800/60000 (21%)]\tLoss: 0.269692\n",
            "Train Epoch: 6 [19200/60000 (32%)]\tLoss: 0.186126\n",
            "Train Epoch: 6 [25600/60000 (43%)]\tLoss: 0.262884\n",
            "Train Epoch: 6 [32000/60000 (53%)]\tLoss: 0.270899\n",
            "Train Epoch: 6 [38400/60000 (64%)]\tLoss: 0.374881\n",
            "Train Epoch: 6 [44800/60000 (75%)]\tLoss: 0.467807\n",
            "Train Epoch: 6 [51200/60000 (85%)]\tLoss: 0.401022\n",
            "Train Epoch: 6 [57600/60000 (96%)]\tLoss: 0.190829\n",
            "\n",
            "Val set: Average loss: 0.6544, Accuracy: 8069/10000 (81%)\n",
            "\n",
            "Train Epoch: 7 [0/60000 (0%)]\tLoss: 0.261601\n",
            "Train Epoch: 7 [6400/60000 (11%)]\tLoss: 0.431834\n",
            "Train Epoch: 7 [12800/60000 (21%)]\tLoss: 0.293912\n",
            "Train Epoch: 7 [19200/60000 (32%)]\tLoss: 0.305585\n",
            "Train Epoch: 7 [25600/60000 (43%)]\tLoss: 0.506045\n",
            "Train Epoch: 7 [32000/60000 (53%)]\tLoss: 0.238163\n",
            "Train Epoch: 7 [38400/60000 (64%)]\tLoss: 0.314630\n",
            "Train Epoch: 7 [44800/60000 (75%)]\tLoss: 0.443073\n",
            "Train Epoch: 7 [51200/60000 (85%)]\tLoss: 0.259051\n",
            "Train Epoch: 7 [57600/60000 (96%)]\tLoss: 0.285190\n",
            "\n",
            "Val set: Average loss: 0.6427, Accuracy: 8105/10000 (81%)\n",
            "\n",
            "Train Epoch: 8 [0/60000 (0%)]\tLoss: 0.292040\n",
            "Train Epoch: 8 [6400/60000 (11%)]\tLoss: 0.418138\n",
            "Train Epoch: 8 [12800/60000 (21%)]\tLoss: 0.227739\n",
            "Train Epoch: 8 [19200/60000 (32%)]\tLoss: 0.344712\n",
            "Train Epoch: 8 [25600/60000 (43%)]\tLoss: 0.328302\n",
            "Train Epoch: 8 [32000/60000 (53%)]\tLoss: 0.212855\n",
            "Train Epoch: 8 [38400/60000 (64%)]\tLoss: 0.371122\n",
            "Train Epoch: 8 [44800/60000 (75%)]\tLoss: 0.344387\n",
            "Train Epoch: 8 [51200/60000 (85%)]\tLoss: 0.229958\n",
            "Train Epoch: 8 [57600/60000 (96%)]\tLoss: 0.246448\n",
            "\n",
            "Val set: Average loss: 0.6575, Accuracy: 8003/10000 (80%)\n",
            "\n",
            "Train Epoch: 9 [0/60000 (0%)]\tLoss: 0.188629\n",
            "Train Epoch: 9 [6400/60000 (11%)]\tLoss: 0.268019\n",
            "Train Epoch: 9 [12800/60000 (21%)]\tLoss: 0.180905\n",
            "Train Epoch: 9 [19200/60000 (32%)]\tLoss: 0.233703\n",
            "Train Epoch: 9 [25600/60000 (43%)]\tLoss: 0.268277\n",
            "Train Epoch: 9 [32000/60000 (53%)]\tLoss: 0.288555\n",
            "Train Epoch: 9 [38400/60000 (64%)]\tLoss: 0.438056\n",
            "Train Epoch: 9 [44800/60000 (75%)]\tLoss: 0.370377\n",
            "Train Epoch: 9 [51200/60000 (85%)]\tLoss: 0.358330\n",
            "Train Epoch: 9 [57600/60000 (96%)]\tLoss: 0.336236\n",
            "\n",
            "Val set: Average loss: 0.6829, Accuracy: 8032/10000 (80%)\n",
            "\n",
            "Train Epoch: 10 [0/60000 (0%)]\tLoss: 0.260432\n",
            "Train Epoch: 10 [6400/60000 (11%)]\tLoss: 0.414923\n",
            "Train Epoch: 10 [12800/60000 (21%)]\tLoss: 0.334664\n",
            "Train Epoch: 10 [19200/60000 (32%)]\tLoss: 0.230067\n",
            "Train Epoch: 10 [25600/60000 (43%)]\tLoss: 0.333982\n",
            "Train Epoch: 10 [32000/60000 (53%)]\tLoss: 0.269030\n",
            "Train Epoch: 10 [38400/60000 (64%)]\tLoss: 0.192974\n",
            "Train Epoch: 10 [44800/60000 (75%)]\tLoss: 0.370336\n",
            "Train Epoch: 10 [51200/60000 (85%)]\tLoss: 0.212069\n",
            "Train Epoch: 10 [57600/60000 (96%)]\tLoss: 0.183505\n",
            "\n",
            "Val set: Average loss: 0.6072, Accuracy: 8165/10000 (82%)\n",
            "\n",
            "Train Epoch: 11 [0/60000 (0%)]\tLoss: 0.566045\n",
            "Train Epoch: 11 [6400/60000 (11%)]\tLoss: 0.213217\n",
            "Train Epoch: 11 [12800/60000 (21%)]\tLoss: 0.265602\n",
            "Train Epoch: 11 [19200/60000 (32%)]\tLoss: 0.364683\n",
            "Train Epoch: 11 [25600/60000 (43%)]\tLoss: 0.309921\n",
            "Train Epoch: 11 [32000/60000 (53%)]\tLoss: 0.260232\n",
            "Train Epoch: 11 [38400/60000 (64%)]\tLoss: 0.326430\n",
            "Train Epoch: 11 [44800/60000 (75%)]\tLoss: 0.334519\n",
            "Train Epoch: 11 [51200/60000 (85%)]\tLoss: 0.323300\n",
            "Train Epoch: 11 [57600/60000 (96%)]\tLoss: 0.140416\n",
            "\n",
            "Val set: Average loss: 0.6099, Accuracy: 8222/10000 (82%)\n",
            "\n",
            "Train Epoch: 12 [0/60000 (0%)]\tLoss: 0.199002\n",
            "Train Epoch: 12 [6400/60000 (11%)]\tLoss: 0.199521\n",
            "Train Epoch: 12 [12800/60000 (21%)]\tLoss: 0.367846\n",
            "Train Epoch: 12 [19200/60000 (32%)]\tLoss: 0.310215\n",
            "Train Epoch: 12 [25600/60000 (43%)]\tLoss: 0.525693\n",
            "Train Epoch: 12 [32000/60000 (53%)]\tLoss: 0.384843\n",
            "Train Epoch: 12 [38400/60000 (64%)]\tLoss: 0.164262\n",
            "Train Epoch: 12 [44800/60000 (75%)]\tLoss: 0.260730\n",
            "Train Epoch: 12 [51200/60000 (85%)]\tLoss: 0.366936\n",
            "Train Epoch: 12 [57600/60000 (96%)]\tLoss: 0.302379\n",
            "\n",
            "Val set: Average loss: 0.6811, Accuracy: 7962/10000 (80%)\n",
            "\n",
            "Train Epoch: 13 [0/60000 (0%)]\tLoss: 0.257888\n",
            "Train Epoch: 13 [6400/60000 (11%)]\tLoss: 0.285590\n",
            "Train Epoch: 13 [12800/60000 (21%)]\tLoss: 0.251737\n",
            "Train Epoch: 13 [19200/60000 (32%)]\tLoss: 0.313800\n",
            "Train Epoch: 13 [25600/60000 (43%)]\tLoss: 0.226201\n",
            "Train Epoch: 13 [32000/60000 (53%)]\tLoss: 0.288167\n",
            "Train Epoch: 13 [38400/60000 (64%)]\tLoss: 0.152055\n",
            "Train Epoch: 13 [44800/60000 (75%)]\tLoss: 0.420083\n",
            "Train Epoch: 13 [51200/60000 (85%)]\tLoss: 0.239273\n",
            "Train Epoch: 13 [57600/60000 (96%)]\tLoss: 0.326012\n",
            "\n",
            "Val set: Average loss: 0.6334, Accuracy: 8115/10000 (81%)\n",
            "\n",
            "Train Epoch: 14 [0/60000 (0%)]\tLoss: 0.341398\n",
            "Train Epoch: 14 [6400/60000 (11%)]\tLoss: 0.417477\n",
            "Train Epoch: 14 [12800/60000 (21%)]\tLoss: 0.166700\n",
            "Train Epoch: 14 [19200/60000 (32%)]\tLoss: 0.235397\n",
            "Train Epoch: 14 [25600/60000 (43%)]\tLoss: 0.149521\n",
            "Train Epoch: 14 [32000/60000 (53%)]\tLoss: 0.504254\n",
            "Train Epoch: 14 [38400/60000 (64%)]\tLoss: 0.289420\n",
            "Train Epoch: 14 [44800/60000 (75%)]\tLoss: 0.338086\n",
            "Train Epoch: 14 [51200/60000 (85%)]\tLoss: 0.316742\n",
            "Train Epoch: 14 [57600/60000 (96%)]\tLoss: 0.240967\n",
            "\n",
            "Val set: Average loss: 0.6194, Accuracy: 8171/10000 (82%)\n",
            "\n",
            "Train Epoch: 15 [0/60000 (0%)]\tLoss: 0.165818\n",
            "Train Epoch: 15 [6400/60000 (11%)]\tLoss: 0.200295\n",
            "Train Epoch: 15 [12800/60000 (21%)]\tLoss: 0.185108\n",
            "Train Epoch: 15 [19200/60000 (32%)]\tLoss: 0.278691\n",
            "Train Epoch: 15 [25600/60000 (43%)]\tLoss: 0.242263\n",
            "Train Epoch: 15 [32000/60000 (53%)]\tLoss: 0.289081\n",
            "Train Epoch: 15 [38400/60000 (64%)]\tLoss: 0.192664\n",
            "Train Epoch: 15 [44800/60000 (75%)]\tLoss: 0.257309\n",
            "Train Epoch: 15 [51200/60000 (85%)]\tLoss: 0.441526\n",
            "Train Epoch: 15 [57600/60000 (96%)]\tLoss: 0.284926\n",
            "\n",
            "Val set: Average loss: 0.5994, Accuracy: 8241/10000 (82%)\n",
            "\n",
            "Train Epoch: 16 [0/60000 (0%)]\tLoss: 0.296323\n",
            "Train Epoch: 16 [6400/60000 (11%)]\tLoss: 0.291115\n",
            "Train Epoch: 16 [12800/60000 (21%)]\tLoss: 0.297955\n",
            "Train Epoch: 16 [19200/60000 (32%)]\tLoss: 0.403808\n",
            "Train Epoch: 16 [25600/60000 (43%)]\tLoss: 0.275244\n",
            "Train Epoch: 16 [32000/60000 (53%)]\tLoss: 0.207841\n",
            "Train Epoch: 16 [38400/60000 (64%)]\tLoss: 0.151799\n",
            "Train Epoch: 16 [44800/60000 (75%)]\tLoss: 0.268325\n",
            "Train Epoch: 16 [51200/60000 (85%)]\tLoss: 0.101593\n",
            "Train Epoch: 16 [57600/60000 (96%)]\tLoss: 0.225624\n",
            "\n",
            "Val set: Average loss: 0.6586, Accuracy: 7993/10000 (80%)\n",
            "\n",
            "Train Epoch: 17 [0/60000 (0%)]\tLoss: 0.218366\n",
            "Train Epoch: 17 [6400/60000 (11%)]\tLoss: 0.271067\n",
            "Train Epoch: 17 [12800/60000 (21%)]\tLoss: 0.283626\n",
            "Train Epoch: 17 [19200/60000 (32%)]\tLoss: 0.165264\n",
            "Train Epoch: 17 [25600/60000 (43%)]\tLoss: 0.242294\n",
            "Train Epoch: 17 [32000/60000 (53%)]\tLoss: 0.167633\n",
            "Train Epoch: 17 [38400/60000 (64%)]\tLoss: 0.355022\n",
            "Train Epoch: 17 [44800/60000 (75%)]\tLoss: 0.393893\n",
            "Train Epoch: 17 [51200/60000 (85%)]\tLoss: 0.310102\n",
            "Train Epoch: 17 [57600/60000 (96%)]\tLoss: 0.343017\n",
            "\n",
            "Val set: Average loss: 0.5912, Accuracy: 8269/10000 (83%)\n",
            "\n",
            "Train Epoch: 18 [0/60000 (0%)]\tLoss: 0.380920\n",
            "Train Epoch: 18 [6400/60000 (11%)]\tLoss: 0.210683\n",
            "Train Epoch: 18 [12800/60000 (21%)]\tLoss: 0.212807\n",
            "Train Epoch: 18 [19200/60000 (32%)]\tLoss: 0.457739\n",
            "Train Epoch: 18 [25600/60000 (43%)]\tLoss: 0.384498\n",
            "Train Epoch: 18 [32000/60000 (53%)]\tLoss: 0.170283\n",
            "Train Epoch: 18 [38400/60000 (64%)]\tLoss: 0.465025\n",
            "Train Epoch: 18 [44800/60000 (75%)]\tLoss: 0.176504\n",
            "Train Epoch: 18 [51200/60000 (85%)]\tLoss: 0.259225\n",
            "Train Epoch: 18 [57600/60000 (96%)]\tLoss: 0.345969\n",
            "\n",
            "Val set: Average loss: 0.6171, Accuracy: 8121/10000 (81%)\n",
            "\n",
            "Train Epoch: 19 [0/60000 (0%)]\tLoss: 0.344574\n",
            "Train Epoch: 19 [6400/60000 (11%)]\tLoss: 0.328403\n",
            "Train Epoch: 19 [12800/60000 (21%)]\tLoss: 0.244210\n",
            "Train Epoch: 19 [19200/60000 (32%)]\tLoss: 0.130391\n",
            "Train Epoch: 19 [25600/60000 (43%)]\tLoss: 0.167186\n",
            "Train Epoch: 19 [32000/60000 (53%)]\tLoss: 0.241949\n",
            "Train Epoch: 19 [38400/60000 (64%)]\tLoss: 0.233588\n",
            "Train Epoch: 19 [44800/60000 (75%)]\tLoss: 0.325684\n",
            "Train Epoch: 19 [51200/60000 (85%)]\tLoss: 0.369292\n",
            "Train Epoch: 19 [57600/60000 (96%)]\tLoss: 0.264173\n",
            "\n",
            "Val set: Average loss: 0.6005, Accuracy: 8230/10000 (82%)\n",
            "\n",
            "Train Epoch: 20 [0/60000 (0%)]\tLoss: 0.320865\n",
            "Train Epoch: 20 [6400/60000 (11%)]\tLoss: 0.298917\n",
            "Train Epoch: 20 [12800/60000 (21%)]\tLoss: 0.104632\n",
            "Train Epoch: 20 [19200/60000 (32%)]\tLoss: 0.192658\n",
            "Train Epoch: 20 [25600/60000 (43%)]\tLoss: 0.246706\n",
            "Train Epoch: 20 [32000/60000 (53%)]\tLoss: 0.451713\n",
            "Train Epoch: 20 [38400/60000 (64%)]\tLoss: 0.267645\n",
            "Train Epoch: 20 [44800/60000 (75%)]\tLoss: 0.183721\n",
            "Train Epoch: 20 [51200/60000 (85%)]\tLoss: 0.277019\n",
            "Train Epoch: 20 [57600/60000 (96%)]\tLoss: 0.371491\n",
            "\n",
            "Val set: Average loss: 0.5862, Accuracy: 8314/10000 (83%)\n",
            "\n",
            "Train Epoch: 21 [0/60000 (0%)]\tLoss: 0.178617\n",
            "Train Epoch: 21 [6400/60000 (11%)]\tLoss: 0.107652\n",
            "Train Epoch: 21 [12800/60000 (21%)]\tLoss: 0.253822\n",
            "Train Epoch: 21 [19200/60000 (32%)]\tLoss: 0.128573\n",
            "Train Epoch: 21 [25600/60000 (43%)]\tLoss: 0.269724\n",
            "Train Epoch: 21 [32000/60000 (53%)]\tLoss: 0.250984\n",
            "Train Epoch: 21 [38400/60000 (64%)]\tLoss: 0.212009\n",
            "Train Epoch: 21 [44800/60000 (75%)]\tLoss: 0.568958\n",
            "Train Epoch: 21 [51200/60000 (85%)]\tLoss: 0.120939\n",
            "Train Epoch: 21 [57600/60000 (96%)]\tLoss: 0.297024\n",
            "\n",
            "Val set: Average loss: 0.6010, Accuracy: 8219/10000 (82%)\n",
            "\n",
            "Train Epoch: 22 [0/60000 (0%)]\tLoss: 0.122200\n",
            "Train Epoch: 22 [6400/60000 (11%)]\tLoss: 0.447560\n",
            "Train Epoch: 22 [12800/60000 (21%)]\tLoss: 0.375697\n",
            "Train Epoch: 22 [19200/60000 (32%)]\tLoss: 0.288384\n",
            "Train Epoch: 22 [25600/60000 (43%)]\tLoss: 0.271586\n",
            "Train Epoch: 22 [32000/60000 (53%)]\tLoss: 0.266515\n",
            "Train Epoch: 22 [38400/60000 (64%)]\tLoss: 0.222418\n",
            "Train Epoch: 22 [44800/60000 (75%)]\tLoss: 0.303078\n",
            "Train Epoch: 22 [51200/60000 (85%)]\tLoss: 0.482321\n",
            "Train Epoch: 22 [57600/60000 (96%)]\tLoss: 0.248265\n",
            "\n",
            "Val set: Average loss: 0.5843, Accuracy: 8278/10000 (83%)\n",
            "\n",
            "Train Epoch: 23 [0/60000 (0%)]\tLoss: 0.123629\n",
            "Train Epoch: 23 [6400/60000 (11%)]\tLoss: 0.252451\n",
            "Train Epoch: 23 [12800/60000 (21%)]\tLoss: 0.254731\n",
            "Train Epoch: 23 [19200/60000 (32%)]\tLoss: 0.180327\n",
            "Train Epoch: 23 [25600/60000 (43%)]\tLoss: 0.263438\n",
            "Train Epoch: 23 [32000/60000 (53%)]\tLoss: 0.169520\n",
            "Train Epoch: 23 [38400/60000 (64%)]\tLoss: 0.290196\n",
            "Train Epoch: 23 [44800/60000 (75%)]\tLoss: 0.297509\n",
            "Train Epoch: 23 [51200/60000 (85%)]\tLoss: 0.230342\n",
            "Train Epoch: 23 [57600/60000 (96%)]\tLoss: 0.104402\n",
            "\n",
            "Val set: Average loss: 0.6077, Accuracy: 8270/10000 (83%)\n",
            "\n",
            "Train Epoch: 24 [0/60000 (0%)]\tLoss: 0.218997\n",
            "Train Epoch: 24 [6400/60000 (11%)]\tLoss: 0.457197\n",
            "Train Epoch: 24 [12800/60000 (21%)]\tLoss: 0.284262\n",
            "Train Epoch: 24 [19200/60000 (32%)]\tLoss: 0.038203\n",
            "Train Epoch: 24 [25600/60000 (43%)]\tLoss: 0.208053\n",
            "Train Epoch: 24 [32000/60000 (53%)]\tLoss: 0.128616\n",
            "Train Epoch: 24 [38400/60000 (64%)]\tLoss: 0.136322\n",
            "Train Epoch: 24 [44800/60000 (75%)]\tLoss: 0.233056\n",
            "Train Epoch: 24 [51200/60000 (85%)]\tLoss: 0.309191\n",
            "Train Epoch: 24 [57600/60000 (96%)]\tLoss: 0.338901\n",
            "\n",
            "Val set: Average loss: 0.6029, Accuracy: 8212/10000 (82%)\n",
            "\n",
            "Train Epoch: 25 [0/60000 (0%)]\tLoss: 0.156941\n",
            "Train Epoch: 25 [6400/60000 (11%)]\tLoss: 0.181669\n",
            "Train Epoch: 25 [12800/60000 (21%)]\tLoss: 0.362205\n",
            "Train Epoch: 25 [19200/60000 (32%)]\tLoss: 0.053009\n",
            "Train Epoch: 25 [25600/60000 (43%)]\tLoss: 0.255590\n",
            "Train Epoch: 25 [32000/60000 (53%)]\tLoss: 0.377277\n",
            "Train Epoch: 25 [38400/60000 (64%)]\tLoss: 0.264385\n",
            "Train Epoch: 25 [44800/60000 (75%)]\tLoss: 0.320118\n",
            "Train Epoch: 25 [51200/60000 (85%)]\tLoss: 0.261829\n",
            "Train Epoch: 25 [57600/60000 (96%)]\tLoss: 0.144297\n",
            "\n",
            "Val set: Average loss: 0.5739, Accuracy: 8315/10000 (83%)\n",
            "\n"
          ],
          "name": "stdout"
        }
      ]
    },
    {
      "cell_type": "markdown",
      "metadata": {
        "id": "flM45MIz8q9_",
        "colab_type": "text"
      },
      "source": [
        "###Visualization of Results"
      ]
    },
    {
      "cell_type": "code",
      "metadata": {
        "colab_type": "code",
        "id": "a_wubavA2M0-",
        "colab": {
          "base_uri": "https://localhost:8080/",
          "height": 514
        },
        "outputId": "5bab3fc0-75b5-48c6-e2f9-352459bb34d1"
      },
      "source": [
        "plt.figure(figsize=(10, 8))\n",
        "plt.subplot(2,1,1)\n",
        "plt.xlabel('Epoch')\n",
        "plt.ylabel('Loss')\n",
        "plt.plot(training_losses, label='train')\n",
        "plt.plot(val_losses, label='validation')\n",
        "plt.legend()\n",
        "plt.subplot(2,1,2)\n",
        "plt.xlabel('Epoch')\n",
        "plt.ylabel('Val Accuracy [%]')\n",
        "plt.plot(val_accs)\n",
        "\n",
        "#Validation was still decreasing so it was possible to increase the epochs to improve the accuracy"
      ],
      "execution_count": null,
      "outputs": [
        {
          "output_type": "execute_result",
          "data": {
            "text/plain": [
              "[<matplotlib.lines.Line2D at 0x7fc08dd20588>]"
            ]
          },
          "metadata": {
            "tags": []
          },
          "execution_count": 45
        },
        {
          "output_type": "display_data",
          "data": {
            "image/png": "[encoded data removed]",
            "text/plain": [
              "<Figure size 720x576 with 2 Axes>"
            ]
          },
          "metadata": {
            "tags": [],
            "needs_background": "light"
          }
        }
      ]
    },
    {
      "cell_type": "markdown",
      "metadata": {
        "id": "ih3Cx1Vx6vc-",
        "colab_type": "text"
      },
      "source": [
        "##RESNET 101"
      ]
    },
    {
      "cell_type": "markdown",
      "metadata": {
        "id": "6jBPCIax7RWb",
        "colab_type": "text"
      },
      "source": [
        "The results of Alexnet could clearly be improved by larger training. However, my intention is to add more complexity to the seleciton a try Resnet 101 and compare traning with the same amount of epochs and later fine tune the model to increase accuracy in the classification. Since the dataset preparation for RESNET101 was different and the 1 channel grayscale images is kept, then the model has to customize so that the input is one channel. Some of the dimensions also were customized just a test."
      ]
    },
    {
      "cell_type": "markdown",
      "metadata": {
        "id": "qyfMJksaftlJ",
        "colab_type": "text"
      },
      "source": [
        "![texto alternativo](https://www.researchgate.net/profile/Panqu_Wang/publication/314115448/figure/fig6/AS:668592458715147@1536416272927/Architecture-of-ResNet-101-network-with-Dense-Upsampling-Convolution-DUC-layer.ppm)"
      ]
    },
    {
      "cell_type": "markdown",
      "metadata": {
        "id": "1vLEvMWbCDMX",
        "colab_type": "text"
      },
      "source": [
        "###Model Preparation"
      ]
    },
    {
      "cell_type": "code",
      "metadata": {
        "id": "zMQuaVoLb5d2",
        "colab_type": "code",
        "colab": {}
      },
      "source": [
        "import math \n",
        "\n",
        "def conv3x3(in_planes, out_planes, stride=1):\n",
        "    \"\"\"3x3 convolution with padding\"\"\"\n",
        "    return nn.Conv2d(in_planes, out_planes, kernel_size=3, stride=stride,\n",
        "                     padding=1, bias=False)\n",
        "\n",
        "\"\"\"\n",
        "    Based on the Documentation of Pytorch - Resnet model and modified for taking the KMNIST\n",
        "    https://github.com/pytorch/vision/blob/master/torchvision/models/resnet.py\n",
        "\"\"\"\n",
        "class BasicBlock(nn.Module):\n",
        "    expansion = 1\n",
        "\n",
        "    def __init__(self, inplanes, planes, stride=1, downsample=None):\n",
        "        super(BasicBlock, self).__init__()\n",
        "        self.conv1 = conv3x3(inplanes, planes, stride) #Downsample the image when stride is more than 1\n",
        "        self.bn1 = nn.BatchNorm2d(planes)\n",
        "        self.relu = nn.ReLU(inplace=True)\n",
        "        self.conv2 = conv3x3(planes, planes)\n",
        "        self.bn2 = nn.BatchNorm2d(planes)\n",
        "        self.downsample = downsample #to downsample the input \n",
        "        self.stride = stride\n",
        "\n",
        "    def forward(self, x):\n",
        "        residual = x\n",
        "\n",
        "        out = self.conv1(x)\n",
        "        out = self.bn1(out)\n",
        "        out = self.relu(out)\n",
        "\n",
        "        out = self.conv2(out)\n",
        "        out = self.bn2(out)\n",
        "\n",
        "        if self.downsample is not None:\n",
        "            residual = self.downsample(x)\n",
        "\n",
        "        out += residual\n",
        "        out = self.relu(out)\n",
        "\n",
        "        return out\n",
        "\n",
        "\n",
        "class Bottleneck(nn.Module):\n",
        "    expansion = 4\n",
        "\n",
        "    def __init__(self, inplanes, planes, stride=1, downsample=None):\n",
        "        super(Bottleneck, self).__init__()\n",
        "        self.conv1 = nn.Conv2d(inplanes, planes, kernel_size=1, bias=False) #Dimensionality reduction and feature reduction for kernel 1x1 (like Inception)\n",
        "        self.bn1 = nn.BatchNorm2d(planes)\n",
        "        self.conv2 = nn.Conv2d(planes, planes, kernel_size=3, stride=stride,\n",
        "                               padding=1, bias=False)\n",
        "        self.bn2 = nn.BatchNorm2d(planes)\n",
        "        self.conv3 = nn.Conv2d(planes, planes * 4, kernel_size=1, bias=False)\n",
        "        self.bn3 = nn.BatchNorm2d(planes * 4)\n",
        "        self.relu = nn.ReLU(inplace=True)\n",
        "        self.downsample = downsample\n",
        "        self.stride = stride\n",
        "\n",
        "    def forward(self, x):\n",
        "        residual = x\n",
        "\n",
        "        out = self.conv1(x)\n",
        "        out = self.bn1(out)\n",
        "        out = self.relu(out)\n",
        "\n",
        "        out = self.conv2(out)\n",
        "        out = self.bn2(out)\n",
        "        out = self.relu(out)\n",
        "\n",
        "        out = self.conv3(out)\n",
        "        out = self.bn3(out)\n",
        "\n",
        "        if self.downsample is not None:\n",
        "            residual = self.downsample(x)\n",
        "\n",
        "        out += residual\n",
        "        out = self.relu(out)\n",
        "\n",
        "        return out\n",
        "\n",
        "\n",
        "class ResNet(nn.Module):\n",
        "\n",
        "    def __init__(self, block, layers, num_classes=1000):\n",
        "        self.inplanes = 64\n",
        "        super(ResNet, self).__init__()\n",
        "        self.conv1 = nn.Conv2d(3, 64, kernel_size=7, stride=2, padding=3,\n",
        "                               bias=False)\n",
        "        self.bn1 = nn.BatchNorm2d(64)\n",
        "        self.relu = nn.ReLU(inplace=True)\n",
        "        self.maxpool = nn.MaxPool2d(kernel_size=3, stride=2, padding=1)\n",
        "        self.layer1 = self._make_layer(block, 64, layers[0])\n",
        "        self.layer2 = self._make_layer(block, 128, layers[1], stride=2)\n",
        "        self.layer3 = self._make_layer(block, 256, layers[2], stride=2)\n",
        "        self.layer4 = self._make_layer(block, 512, layers[3], stride=2)\n",
        "        self.avgpool = nn.AvgPool2d(7, stride=1)\n",
        "        self.fc = nn.Linear(512 * block.expansion, num_classes)\n",
        "        self.softmax = nn.LogSoftmax(dim=1)\n",
        "\n",
        "        for m in self.modules():\n",
        "            if isinstance(m, nn.Conv2d):\n",
        "                n = m.kernel_size[0] * m.kernel_size[1] * m.out_channels\n",
        "                m.weight.data.normal_(0, math.sqrt(2. / n))\n",
        "            elif isinstance(m, nn.BatchNorm2d):\n",
        "                m.weight.data.fill_(1)\n",
        "                m.bias.data.zero_()\n",
        "\n",
        "    def _make_layer(self, block, planes, blocks, stride=1):\n",
        "        downsample = None\n",
        "        if stride != 1 or self.inplanes != planes * block.expansion:\n",
        "            downsample = nn.Sequential(\n",
        "                nn.Conv2d(self.inplanes, planes * block.expansion,\n",
        "                          kernel_size=1, stride=stride, bias=False),\n",
        "                nn.BatchNorm2d(planes * block.expansion),\n",
        "            )\n",
        "\n",
        "        layers = []\n",
        "        layers.append(block(self.inplanes, planes, stride, downsample))\n",
        "        self.inplanes = planes * block.expansion\n",
        "        for i in range(1, blocks):\n",
        "            layers.append(block(self.inplanes, planes))\n",
        "\n",
        "        return nn.Sequential(*layers)\n",
        "\n",
        "    def forward(self, x):\n",
        "        x = self.conv1(x)\n",
        "        x = self.bn1(x)\n",
        "        x = self.relu(x)\n",
        "        x = self.maxpool(x)\n",
        "\n",
        "        x = self.layer1(x)\n",
        "        x = self.layer2(x)\n",
        "        x = self.layer3(x)\n",
        "        x = self.layer4(x)\n",
        "\n",
        "        x = self.avgpool(x)\n",
        "        x = x.view(x.size(0), -1)\n",
        "        x = self.fc(x)\n",
        "        x = self.softmax(x)\n",
        "\n",
        "        return x"
      ],
      "execution_count": null,
      "outputs": []
    },
    {
      "cell_type": "code",
      "metadata": {
        "id": "fKrNgJ5cFBZF",
        "colab_type": "code",
        "colab": {}
      },
      "source": [
        "def resnet101(pretrained=False, **kwargs):\n",
        "\n",
        "  \"\"\"Building a resnet101 based on Pytorch documentation\n",
        "    It consits of 4 layers or sectionts of Bottlenecks of \n",
        "     layer0 - 3 Bottlenecks\n",
        "     layer0 - 4 Bottlenecks\n",
        "     layer0 - 23 Bottlenecks\n",
        "     layer0 - 3 Bottlenecks    \"\"\"\n",
        "\n",
        "  model = ResNet(Bottleneck, [3,4,23,3], **kwargs)\n",
        "  return model\n",
        "\n",
        "my_resnet = resnet101(pretrained=True, num_classes=hparams['num_classes']).to(device)"
      ],
      "execution_count": null,
      "outputs": []
    },
    {
      "cell_type": "markdown",
      "metadata": {
        "id": "bSpiQkuRCGey",
        "colab_type": "text"
      },
      "source": [
        "###Model Training"
      ]
    },
    {
      "cell_type": "code",
      "metadata": {
        "id": "YG8xXCDcelDf",
        "colab_type": "code",
        "colab": {}
      },
      "source": [
        "optimizer = optim.Adam(my_resnet.parameters(), lr = hparams['learning_rate'], weight_decay=hparams['weight_decay'])\n",
        "criterion = F.cross_entropy"
      ],
      "execution_count": null,
      "outputs": []
    },
    {
      "cell_type": "code",
      "metadata": {
        "id": "kvKvLpepyCix",
        "colab_type": "code",
        "colab": {
          "base_uri": "https://localhost:8080/",
          "height": 1000
        },
        "outputId": "0056e428-89e6-4c08-cf68-ba6d5c49e936"
      },
      "source": [
        "training_losses = []\n",
        "val_losses = []\n",
        "val_accs = []\n",
        "\n",
        "\n",
        "for epoch in range(1, hparams['num_epochs'] + 1):\n",
        "  training_losses.append(train_epoch(train_dataloader_alexnet, my_resnet, optimizer, criterion, hparams))\n",
        "  val_loss, val_acc = test_epoch(val_dataloader_alexnet, my_resnet, hparams)\n",
        "  val_losses.append(val_loss)\n",
        "  val_accs.append(val_acc)\n"
      ],
      "execution_count": null,
      "outputs": [
        {
          "output_type": "stream",
          "text": [
            "Train Epoch: 1 [0/60000 (0%)]\tLoss: 2.534369\n",
            "Train Epoch: 1 [6400/60000 (11%)]\tLoss: 0.836539\n",
            "Train Epoch: 1 [12800/60000 (21%)]\tLoss: 0.478942\n",
            "Train Epoch: 1 [19200/60000 (32%)]\tLoss: 0.442379\n",
            "Train Epoch: 1 [25600/60000 (43%)]\tLoss: 0.360744\n",
            "Train Epoch: 1 [32000/60000 (53%)]\tLoss: 0.462401\n",
            "Train Epoch: 1 [38400/60000 (64%)]\tLoss: 0.268417\n",
            "Train Epoch: 1 [44800/60000 (75%)]\tLoss: 0.356363\n",
            "Train Epoch: 1 [51200/60000 (85%)]\tLoss: 0.127314\n",
            "Train Epoch: 1 [57600/60000 (96%)]\tLoss: 0.175784\n",
            "\n",
            "Val set: Average loss: 0.9947, Accuracy: 7095/10000 (71%)\n",
            "\n",
            "Train Epoch: 2 [0/60000 (0%)]\tLoss: 0.250200\n",
            "Train Epoch: 2 [6400/60000 (11%)]\tLoss: 0.155133\n",
            "Train Epoch: 2 [12800/60000 (21%)]\tLoss: 0.254603\n",
            "Train Epoch: 2 [19200/60000 (32%)]\tLoss: 0.183180\n",
            "Train Epoch: 2 [25600/60000 (43%)]\tLoss: 0.529389\n",
            "Train Epoch: 2 [32000/60000 (53%)]\tLoss: 0.054894\n",
            "Train Epoch: 2 [38400/60000 (64%)]\tLoss: 0.172983\n",
            "Train Epoch: 2 [44800/60000 (75%)]\tLoss: 0.187997\n",
            "Train Epoch: 2 [51200/60000 (85%)]\tLoss: 0.198119\n",
            "Train Epoch: 2 [57600/60000 (96%)]\tLoss: 0.123988\n",
            "\n",
            "Val set: Average loss: 0.4444, Accuracy: 8752/10000 (88%)\n",
            "\n",
            "Train Epoch: 3 [0/60000 (0%)]\tLoss: 0.358466\n",
            "Train Epoch: 3 [6400/60000 (11%)]\tLoss: 0.232044\n",
            "Train Epoch: 3 [12800/60000 (21%)]\tLoss: 0.031335\n",
            "Train Epoch: 3 [19200/60000 (32%)]\tLoss: 0.392629\n",
            "Train Epoch: 3 [25600/60000 (43%)]\tLoss: 0.044704\n",
            "Train Epoch: 3 [32000/60000 (53%)]\tLoss: 0.254091\n",
            "Train Epoch: 3 [38400/60000 (64%)]\tLoss: 0.087150\n",
            "Train Epoch: 3 [44800/60000 (75%)]\tLoss: 0.085092\n",
            "Train Epoch: 3 [51200/60000 (85%)]\tLoss: 0.140152\n",
            "Train Epoch: 3 [57600/60000 (96%)]\tLoss: 0.067420\n",
            "\n",
            "Val set: Average loss: 0.4320, Accuracy: 8599/10000 (86%)\n",
            "\n",
            "Train Epoch: 4 [0/60000 (0%)]\tLoss: 0.186685\n",
            "Train Epoch: 4 [6400/60000 (11%)]\tLoss: 0.051463\n",
            "Train Epoch: 4 [12800/60000 (21%)]\tLoss: 0.100361\n",
            "Train Epoch: 4 [19200/60000 (32%)]\tLoss: 0.094464\n",
            "Train Epoch: 4 [25600/60000 (43%)]\tLoss: 0.167602\n",
            "Train Epoch: 4 [32000/60000 (53%)]\tLoss: 0.149560\n",
            "Train Epoch: 4 [38400/60000 (64%)]\tLoss: 0.103266\n",
            "Train Epoch: 4 [44800/60000 (75%)]\tLoss: 0.240160\n",
            "Train Epoch: 4 [51200/60000 (85%)]\tLoss: 0.192626\n",
            "Train Epoch: 4 [57600/60000 (96%)]\tLoss: 0.060261\n",
            "\n",
            "Val set: Average loss: 0.6798, Accuracy: 8083/10000 (81%)\n",
            "\n",
            "Train Epoch: 5 [0/60000 (0%)]\tLoss: 0.153317\n",
            "Train Epoch: 5 [6400/60000 (11%)]\tLoss: 0.063218\n",
            "Train Epoch: 5 [12800/60000 (21%)]\tLoss: 0.103912\n",
            "Train Epoch: 5 [19200/60000 (32%)]\tLoss: 0.087352\n",
            "Train Epoch: 5 [25600/60000 (43%)]\tLoss: 0.066180\n",
            "Train Epoch: 5 [32000/60000 (53%)]\tLoss: 0.364292\n",
            "Train Epoch: 5 [38400/60000 (64%)]\tLoss: 0.174383\n",
            "Train Epoch: 5 [44800/60000 (75%)]\tLoss: 0.112705\n",
            "Train Epoch: 5 [51200/60000 (85%)]\tLoss: 0.127162\n",
            "Train Epoch: 5 [57600/60000 (96%)]\tLoss: 0.157892\n",
            "\n",
            "Val set: Average loss: 0.4217, Accuracy: 8741/10000 (87%)\n",
            "\n",
            "Train Epoch: 6 [0/60000 (0%)]\tLoss: 0.120744\n",
            "Train Epoch: 6 [6400/60000 (11%)]\tLoss: 0.122406\n",
            "Train Epoch: 6 [12800/60000 (21%)]\tLoss: 0.067534\n",
            "Train Epoch: 6 [19200/60000 (32%)]\tLoss: 0.141200\n",
            "Train Epoch: 6 [25600/60000 (43%)]\tLoss: 0.089043\n",
            "Train Epoch: 6 [32000/60000 (53%)]\tLoss: 0.224211\n",
            "Train Epoch: 6 [38400/60000 (64%)]\tLoss: 0.148173\n",
            "Train Epoch: 6 [44800/60000 (75%)]\tLoss: 0.078724\n",
            "Train Epoch: 6 [51200/60000 (85%)]\tLoss: 0.204458\n",
            "Train Epoch: 6 [57600/60000 (96%)]\tLoss: 0.067594\n",
            "\n",
            "Val set: Average loss: 0.4239, Accuracy: 8677/10000 (87%)\n",
            "\n",
            "Train Epoch: 7 [0/60000 (0%)]\tLoss: 0.082548\n",
            "Train Epoch: 7 [6400/60000 (11%)]\tLoss: 0.046144\n",
            "Train Epoch: 7 [12800/60000 (21%)]\tLoss: 0.049732\n",
            "Train Epoch: 7 [19200/60000 (32%)]\tLoss: 0.055936\n",
            "Train Epoch: 7 [25600/60000 (43%)]\tLoss: 0.087891\n",
            "Train Epoch: 7 [32000/60000 (53%)]\tLoss: 0.156966\n",
            "Train Epoch: 7 [38400/60000 (64%)]\tLoss: 0.076909\n",
            "Train Epoch: 7 [44800/60000 (75%)]\tLoss: 0.110881\n",
            "Train Epoch: 7 [51200/60000 (85%)]\tLoss: 0.135882\n",
            "Train Epoch: 7 [57600/60000 (96%)]\tLoss: 0.082737\n",
            "\n",
            "Val set: Average loss: 0.3344, Accuracy: 8977/10000 (90%)\n",
            "\n",
            "Train Epoch: 8 [0/60000 (0%)]\tLoss: 0.102296\n",
            "Train Epoch: 8 [6400/60000 (11%)]\tLoss: 0.065485\n",
            "Train Epoch: 8 [12800/60000 (21%)]\tLoss: 0.010955\n",
            "Train Epoch: 8 [19200/60000 (32%)]\tLoss: 0.116753\n",
            "Train Epoch: 8 [25600/60000 (43%)]\tLoss: 0.047292\n",
            "Train Epoch: 8 [32000/60000 (53%)]\tLoss: 0.035190\n",
            "Train Epoch: 8 [38400/60000 (64%)]\tLoss: 0.038668\n",
            "Train Epoch: 8 [44800/60000 (75%)]\tLoss: 0.026082\n",
            "Train Epoch: 8 [51200/60000 (85%)]\tLoss: 0.236518\n",
            "Train Epoch: 8 [57600/60000 (96%)]\tLoss: 0.148275\n",
            "\n",
            "Val set: Average loss: 0.3212, Accuracy: 9039/10000 (90%)\n",
            "\n",
            "Train Epoch: 9 [0/60000 (0%)]\tLoss: 0.289203\n",
            "Train Epoch: 9 [6400/60000 (11%)]\tLoss: 0.084603\n",
            "Train Epoch: 9 [12800/60000 (21%)]\tLoss: 0.034556\n",
            "Train Epoch: 9 [19200/60000 (32%)]\tLoss: 0.206914\n",
            "Train Epoch: 9 [25600/60000 (43%)]\tLoss: 0.093113\n",
            "Train Epoch: 9 [32000/60000 (53%)]\tLoss: 0.108805\n",
            "Train Epoch: 9 [38400/60000 (64%)]\tLoss: 0.024525\n",
            "Train Epoch: 9 [44800/60000 (75%)]\tLoss: 0.064864\n",
            "Train Epoch: 9 [51200/60000 (85%)]\tLoss: 0.106202\n",
            "Train Epoch: 9 [57600/60000 (96%)]\tLoss: 0.036616\n",
            "\n",
            "Val set: Average loss: 0.2109, Accuracy: 9343/10000 (93%)\n",
            "\n",
            "Train Epoch: 10 [0/60000 (0%)]\tLoss: 0.124759\n",
            "Train Epoch: 10 [6400/60000 (11%)]\tLoss: 0.056104\n",
            "Train Epoch: 10 [12800/60000 (21%)]\tLoss: 0.125762\n",
            "Train Epoch: 10 [19200/60000 (32%)]\tLoss: 0.114083\n",
            "Train Epoch: 10 [25600/60000 (43%)]\tLoss: 0.101182\n",
            "Train Epoch: 10 [32000/60000 (53%)]\tLoss: 0.034745\n",
            "Train Epoch: 10 [38400/60000 (64%)]\tLoss: 0.039848\n",
            "Train Epoch: 10 [44800/60000 (75%)]\tLoss: 0.053866\n",
            "Train Epoch: 10 [51200/60000 (85%)]\tLoss: 0.060517\n",
            "Train Epoch: 10 [57600/60000 (96%)]\tLoss: 0.060181\n",
            "\n",
            "Val set: Average loss: 0.2576, Accuracy: 9248/10000 (92%)\n",
            "\n",
            "Train Epoch: 11 [0/60000 (0%)]\tLoss: 0.066767\n",
            "Train Epoch: 11 [6400/60000 (11%)]\tLoss: 0.132079\n",
            "Train Epoch: 11 [12800/60000 (21%)]\tLoss: 0.082240\n",
            "Train Epoch: 11 [19200/60000 (32%)]\tLoss: 0.161515\n",
            "Train Epoch: 11 [25600/60000 (43%)]\tLoss: 0.159637\n",
            "Train Epoch: 11 [32000/60000 (53%)]\tLoss: 0.060305\n",
            "Train Epoch: 11 [38400/60000 (64%)]\tLoss: 0.054022\n",
            "Train Epoch: 11 [44800/60000 (75%)]\tLoss: 0.072907\n",
            "Train Epoch: 11 [51200/60000 (85%)]\tLoss: 0.071594\n",
            "Train Epoch: 11 [57600/60000 (96%)]\tLoss: 0.014527\n",
            "\n",
            "Val set: Average loss: 0.1784, Accuracy: 9444/10000 (94%)\n",
            "\n",
            "Train Epoch: 12 [0/60000 (0%)]\tLoss: 0.069748\n",
            "Train Epoch: 12 [6400/60000 (11%)]\tLoss: 0.361181\n",
            "Train Epoch: 12 [12800/60000 (21%)]\tLoss: 0.017085\n",
            "Train Epoch: 12 [19200/60000 (32%)]\tLoss: 0.039071\n",
            "Train Epoch: 12 [25600/60000 (43%)]\tLoss: 0.034461\n",
            "Train Epoch: 12 [32000/60000 (53%)]\tLoss: 0.045636\n",
            "Train Epoch: 12 [38400/60000 (64%)]\tLoss: 0.027353\n",
            "Train Epoch: 12 [44800/60000 (75%)]\tLoss: 0.055086\n",
            "Train Epoch: 12 [51200/60000 (85%)]\tLoss: 0.162983\n",
            "Train Epoch: 12 [57600/60000 (96%)]\tLoss: 0.167723\n",
            "\n",
            "Val set: Average loss: 0.1845, Accuracy: 9499/10000 (95%)\n",
            "\n",
            "Train Epoch: 13 [0/60000 (0%)]\tLoss: 0.136155\n",
            "Train Epoch: 13 [6400/60000 (11%)]\tLoss: 0.012678\n",
            "Train Epoch: 13 [12800/60000 (21%)]\tLoss: 0.068017\n",
            "Train Epoch: 13 [19200/60000 (32%)]\tLoss: 0.227364\n",
            "Train Epoch: 13 [25600/60000 (43%)]\tLoss: 0.192140\n",
            "Train Epoch: 13 [32000/60000 (53%)]\tLoss: 0.055572\n",
            "Train Epoch: 13 [38400/60000 (64%)]\tLoss: 0.015576\n",
            "Train Epoch: 13 [44800/60000 (75%)]\tLoss: 0.036122\n",
            "Train Epoch: 13 [51200/60000 (85%)]\tLoss: 0.018017\n",
            "Train Epoch: 13 [57600/60000 (96%)]\tLoss: 0.082795\n",
            "\n",
            "Val set: Average loss: 0.1933, Accuracy: 9481/10000 (95%)\n",
            "\n",
            "Train Epoch: 14 [0/60000 (0%)]\tLoss: 0.037134\n",
            "Train Epoch: 14 [6400/60000 (11%)]\tLoss: 0.006194\n",
            "Train Epoch: 14 [12800/60000 (21%)]\tLoss: 0.042686\n",
            "Train Epoch: 14 [19200/60000 (32%)]\tLoss: 0.060587\n",
            "Train Epoch: 14 [25600/60000 (43%)]\tLoss: 0.028890\n",
            "Train Epoch: 14 [32000/60000 (53%)]\tLoss: 0.061362\n",
            "Train Epoch: 14 [38400/60000 (64%)]\tLoss: 0.167558\n",
            "Train Epoch: 14 [44800/60000 (75%)]\tLoss: 0.034243\n",
            "Train Epoch: 14 [51200/60000 (85%)]\tLoss: 0.118607\n",
            "Train Epoch: 14 [57600/60000 (96%)]\tLoss: 0.023777\n",
            "\n",
            "Val set: Average loss: 0.1890, Accuracy: 9421/10000 (94%)\n",
            "\n",
            "Train Epoch: 15 [0/60000 (0%)]\tLoss: 0.028223\n",
            "Train Epoch: 15 [6400/60000 (11%)]\tLoss: 0.063204\n",
            "Train Epoch: 15 [12800/60000 (21%)]\tLoss: 0.005260\n",
            "Train Epoch: 15 [19200/60000 (32%)]\tLoss: 0.019837\n",
            "Train Epoch: 15 [25600/60000 (43%)]\tLoss: 0.098773\n",
            "Train Epoch: 15 [32000/60000 (53%)]\tLoss: 0.155109\n",
            "Train Epoch: 15 [38400/60000 (64%)]\tLoss: 0.089516\n",
            "Train Epoch: 15 [44800/60000 (75%)]\tLoss: 0.082975\n",
            "Train Epoch: 15 [51200/60000 (85%)]\tLoss: 0.006574\n",
            "Train Epoch: 15 [57600/60000 (96%)]\tLoss: 0.103499\n",
            "\n",
            "Val set: Average loss: 0.1936, Accuracy: 9460/10000 (95%)\n",
            "\n",
            "Train Epoch: 16 [0/60000 (0%)]\tLoss: 0.131097\n",
            "Train Epoch: 16 [6400/60000 (11%)]\tLoss: 0.020015\n",
            "Train Epoch: 16 [12800/60000 (21%)]\tLoss: 0.012831\n",
            "Train Epoch: 16 [19200/60000 (32%)]\tLoss: 0.034043\n",
            "Train Epoch: 16 [25600/60000 (43%)]\tLoss: 0.147373\n",
            "Train Epoch: 16 [32000/60000 (53%)]\tLoss: 0.041148\n",
            "Train Epoch: 16 [38400/60000 (64%)]\tLoss: 0.034209\n",
            "Train Epoch: 16 [44800/60000 (75%)]\tLoss: 0.084451\n",
            "Train Epoch: 16 [51200/60000 (85%)]\tLoss: 0.045059\n",
            "Train Epoch: 16 [57600/60000 (96%)]\tLoss: 0.064889\n",
            "\n",
            "Val set: Average loss: 0.1721, Accuracy: 9507/10000 (95%)\n",
            "\n",
            "Train Epoch: 17 [0/60000 (0%)]\tLoss: 0.027141\n",
            "Train Epoch: 17 [6400/60000 (11%)]\tLoss: 0.005885\n",
            "Train Epoch: 17 [12800/60000 (21%)]\tLoss: 0.024771\n",
            "Train Epoch: 17 [19200/60000 (32%)]\tLoss: 0.020984\n",
            "Train Epoch: 17 [25600/60000 (43%)]\tLoss: 0.065890\n",
            "Train Epoch: 17 [32000/60000 (53%)]\tLoss: 0.042440\n",
            "Train Epoch: 17 [38400/60000 (64%)]\tLoss: 0.039906\n",
            "Train Epoch: 17 [44800/60000 (75%)]\tLoss: 0.228101\n",
            "Train Epoch: 17 [51200/60000 (85%)]\tLoss: 0.031684\n",
            "Train Epoch: 17 [57600/60000 (96%)]\tLoss: 0.096826\n",
            "\n",
            "Val set: Average loss: 0.1662, Accuracy: 9528/10000 (95%)\n",
            "\n",
            "Train Epoch: 18 [0/60000 (0%)]\tLoss: 0.023264\n",
            "Train Epoch: 18 [6400/60000 (11%)]\tLoss: 0.015180\n",
            "Train Epoch: 18 [12800/60000 (21%)]\tLoss: 0.015942\n",
            "Train Epoch: 18 [19200/60000 (32%)]\tLoss: 0.036864\n",
            "Train Epoch: 18 [25600/60000 (43%)]\tLoss: 0.009349\n",
            "Train Epoch: 18 [32000/60000 (53%)]\tLoss: 0.164351\n",
            "Train Epoch: 18 [38400/60000 (64%)]\tLoss: 0.020328\n",
            "Train Epoch: 18 [44800/60000 (75%)]\tLoss: 0.074732\n",
            "Train Epoch: 18 [51200/60000 (85%)]\tLoss: 0.009105\n",
            "Train Epoch: 18 [57600/60000 (96%)]\tLoss: 0.041711\n",
            "\n",
            "Val set: Average loss: 0.1419, Accuracy: 9591/10000 (96%)\n",
            "\n",
            "Train Epoch: 19 [0/60000 (0%)]\tLoss: 0.028217\n",
            "Train Epoch: 19 [6400/60000 (11%)]\tLoss: 0.028148\n",
            "Train Epoch: 19 [12800/60000 (21%)]\tLoss: 0.022176\n",
            "Train Epoch: 19 [19200/60000 (32%)]\tLoss: 0.052057\n",
            "Train Epoch: 19 [25600/60000 (43%)]\tLoss: 0.089155\n",
            "Train Epoch: 19 [32000/60000 (53%)]\tLoss: 0.020170\n",
            "Train Epoch: 19 [38400/60000 (64%)]\tLoss: 0.036663\n",
            "Train Epoch: 19 [44800/60000 (75%)]\tLoss: 0.085938\n",
            "Train Epoch: 19 [51200/60000 (85%)]\tLoss: 0.007635\n",
            "Train Epoch: 19 [57600/60000 (96%)]\tLoss: 0.049972\n",
            "\n",
            "Val set: Average loss: 0.1350, Accuracy: 9617/10000 (96%)\n",
            "\n",
            "Train Epoch: 20 [0/60000 (0%)]\tLoss: 0.060023\n",
            "Train Epoch: 20 [6400/60000 (11%)]\tLoss: 0.067507\n",
            "Train Epoch: 20 [12800/60000 (21%)]\tLoss: 0.003408\n",
            "Train Epoch: 20 [19200/60000 (32%)]\tLoss: 0.002997\n",
            "Train Epoch: 20 [25600/60000 (43%)]\tLoss: 0.038462\n",
            "Train Epoch: 20 [32000/60000 (53%)]\tLoss: 0.052591\n",
            "Train Epoch: 20 [38400/60000 (64%)]\tLoss: 0.021900\n",
            "Train Epoch: 20 [44800/60000 (75%)]\tLoss: 0.040341\n",
            "Train Epoch: 20 [51200/60000 (85%)]\tLoss: 0.006846\n",
            "Train Epoch: 20 [57600/60000 (96%)]\tLoss: 0.015828\n",
            "\n",
            "Val set: Average loss: 0.1633, Accuracy: 9510/10000 (95%)\n",
            "\n",
            "Train Epoch: 21 [0/60000 (0%)]\tLoss: 0.061411\n",
            "Train Epoch: 21 [6400/60000 (11%)]\tLoss: 0.012193\n",
            "Train Epoch: 21 [12800/60000 (21%)]\tLoss: 0.052780\n",
            "Train Epoch: 21 [19200/60000 (32%)]\tLoss: 0.020082\n",
            "Train Epoch: 21 [25600/60000 (43%)]\tLoss: 0.036664\n",
            "Train Epoch: 21 [32000/60000 (53%)]\tLoss: 0.159389\n",
            "Train Epoch: 21 [38400/60000 (64%)]\tLoss: 0.023997\n",
            "Train Epoch: 21 [44800/60000 (75%)]\tLoss: 0.040068\n",
            "Train Epoch: 21 [51200/60000 (85%)]\tLoss: 0.011432\n",
            "Train Epoch: 21 [57600/60000 (96%)]\tLoss: 0.042287\n",
            "\n",
            "Val set: Average loss: 0.1232, Accuracy: 9652/10000 (97%)\n",
            "\n",
            "Train Epoch: 22 [0/60000 (0%)]\tLoss: 0.069653\n",
            "Train Epoch: 22 [6400/60000 (11%)]\tLoss: 0.018659\n",
            "Train Epoch: 22 [12800/60000 (21%)]\tLoss: 0.063493\n",
            "Train Epoch: 22 [19200/60000 (32%)]\tLoss: 0.033021\n",
            "Train Epoch: 22 [25600/60000 (43%)]\tLoss: 0.026050\n",
            "Train Epoch: 22 [32000/60000 (53%)]\tLoss: 0.015832\n",
            "Train Epoch: 22 [38400/60000 (64%)]\tLoss: 0.060921\n",
            "Train Epoch: 22 [44800/60000 (75%)]\tLoss: 0.081592\n",
            "Train Epoch: 22 [51200/60000 (85%)]\tLoss: 0.063031\n",
            "Train Epoch: 22 [57600/60000 (96%)]\tLoss: 0.012971\n",
            "\n",
            "Val set: Average loss: 0.1490, Accuracy: 9567/10000 (96%)\n",
            "\n",
            "Train Epoch: 23 [0/60000 (0%)]\tLoss: 0.048767\n",
            "Train Epoch: 23 [6400/60000 (11%)]\tLoss: 0.002691\n",
            "Train Epoch: 23 [12800/60000 (21%)]\tLoss: 0.065660\n",
            "Train Epoch: 23 [19200/60000 (32%)]\tLoss: 0.057872\n",
            "Train Epoch: 23 [25600/60000 (43%)]\tLoss: 0.008615\n",
            "Train Epoch: 23 [32000/60000 (53%)]\tLoss: 0.035150\n",
            "Train Epoch: 23 [38400/60000 (64%)]\tLoss: 0.011263\n",
            "Train Epoch: 23 [44800/60000 (75%)]\tLoss: 0.048472\n",
            "Train Epoch: 23 [51200/60000 (85%)]\tLoss: 0.032510\n",
            "Train Epoch: 23 [57600/60000 (96%)]\tLoss: 0.043177\n",
            "\n",
            "Val set: Average loss: 0.2222, Accuracy: 9322/10000 (93%)\n",
            "\n",
            "Train Epoch: 24 [0/60000 (0%)]\tLoss: 0.048295\n",
            "Train Epoch: 24 [6400/60000 (11%)]\tLoss: 0.019023\n",
            "Train Epoch: 24 [12800/60000 (21%)]\tLoss: 0.009739\n",
            "Train Epoch: 24 [19200/60000 (32%)]\tLoss: 0.018725\n",
            "Train Epoch: 24 [25600/60000 (43%)]\tLoss: 0.063042\n",
            "Train Epoch: 24 [32000/60000 (53%)]\tLoss: 0.047765\n",
            "Train Epoch: 24 [38400/60000 (64%)]\tLoss: 0.003179\n",
            "Train Epoch: 24 [44800/60000 (75%)]\tLoss: 0.035060\n",
            "Train Epoch: 24 [51200/60000 (85%)]\tLoss: 0.014840\n",
            "Train Epoch: 24 [57600/60000 (96%)]\tLoss: 0.009512\n",
            "\n",
            "Val set: Average loss: 0.1515, Accuracy: 9562/10000 (96%)\n",
            "\n",
            "Train Epoch: 25 [0/60000 (0%)]\tLoss: 0.006095\n",
            "Train Epoch: 25 [6400/60000 (11%)]\tLoss: 0.015769\n",
            "Train Epoch: 25 [12800/60000 (21%)]\tLoss: 0.056462\n",
            "Train Epoch: 25 [19200/60000 (32%)]\tLoss: 0.014073\n",
            "Train Epoch: 25 [25600/60000 (43%)]\tLoss: 0.177645\n",
            "Train Epoch: 25 [32000/60000 (53%)]\tLoss: 0.004875\n",
            "Train Epoch: 25 [38400/60000 (64%)]\tLoss: 0.020876\n",
            "Train Epoch: 25 [44800/60000 (75%)]\tLoss: 0.001839\n",
            "Train Epoch: 25 [51200/60000 (85%)]\tLoss: 0.029152\n",
            "Train Epoch: 25 [57600/60000 (96%)]\tLoss: 0.014925\n",
            "\n",
            "Val set: Average loss: 0.1476, Accuracy: 9595/10000 (96%)\n",
            "\n"
          ],
          "name": "stdout"
        }
      ]
    },
    {
      "cell_type": "code",
      "metadata": {
        "id": "5qI-4ABXs2cQ",
        "colab_type": "code",
        "colab": {}
      },
      "source": [
        "#84% Acc, 0.5459 loss, epochs 3 and 0.001 lr\n",
        "#95% Acc, 0.1862 loss, epochs 15 and 0.0001 lr\n",
        "#96% Acc, 0.1476 loss, epochs 25 and 0.001 lr"
      ],
      "execution_count": null,
      "outputs": []
    },
    {
      "cell_type": "markdown",
      "metadata": {
        "id": "P9QVahhB03v8",
        "colab_type": "text"
      },
      "source": [
        "### Visualization of Results"
      ]
    },
    {
      "cell_type": "code",
      "metadata": {
        "id": "eTLoua1Re8SR",
        "colab_type": "code",
        "colab": {
          "base_uri": "https://localhost:8080/",
          "height": 514
        },
        "outputId": "318039ba-2b0e-4916-a8a8-9c7f65982b2e"
      },
      "source": [
        "plt.figure(figsize=(10, 8))\n",
        "plt.subplot(2,1,1)\n",
        "plt.xlabel('Epoch')\n",
        "plt.ylabel('Loss')\n",
        "plt.plot(training_losses, label='train')\n",
        "plt.plot(val_losses, label='validation')\n",
        "plt.legend()\n",
        "plt.subplot(2,1,2)\n",
        "plt.xlabel('Epoch')\n",
        "plt.ylabel('Val Accuracy [%]')\n",
        "plt.plot(val_accs)\n"
      ],
      "execution_count": null,
      "outputs": [
        {
          "output_type": "execute_result",
          "data": {
            "text/plain": [
              "[<matplotlib.lines.Line2D at 0x7fc0a1ae3240>]"
            ]
          },
          "metadata": {
            "tags": []
          },
          "execution_count": 29
        },
        {
          "output_type": "display_data",
          "data": {
            "image/png": "[encoded data removed]",
            "text/plain": [
              "<Figure size 720x576 with 2 Axes>"
            ]
          },
          "metadata": {
            "tags": [],
            "needs_background": "light"
          }
        }
      ]
    }
  ]
}