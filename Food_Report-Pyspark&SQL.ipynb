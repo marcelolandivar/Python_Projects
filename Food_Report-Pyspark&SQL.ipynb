{
  "nbformat": 4,
  "nbformat_minor": 0,
  "metadata": {
    "kernelspec": {
      "display_name": "Python 3",
      "language": "python",
      "name": "python3"
    },
    "language_info": {
      "codemirror_mode": {
        "name": "ipython",
        "version": 3
      },
      "file_extension": ".py",
      "mimetype": "text/x-python",
      "name": "python",
      "nbconvert_exporter": "python",
      "pygments_lexer": "ipython3",
      "version": "3.6.7"
    },
    "colab": {
      "name": "RTDA-Assignment1-Marcelo_Landivar.ipynb",
      "provenance": [],
      "include_colab_link": true
    }
  },
  "cells": [
    {
      "cell_type": "markdown",
      "metadata": {
        "id": "view-in-github",
        "colab_type": "text"
      },
      "source": [
        "<a href=\"https://colab.research.google.com/github/marcelolandivar/Python_Projects/blob/master/Food_Report-Pyspark%26SQL.ipynb\" target=\"_parent\"><img src=\"https://colab.research.google.com/assets/colab-badge.svg\" alt=\"Open In Colab\"/></a>"
      ]
    },
    {
      "cell_type": "markdown",
      "metadata": {
        "id": "jiRdjvD450au",
        "colab_type": "text"
      },
      "source": [
        "# Food Market Report \n",
        "**Report from a SQL DB using Spark** \\\n",
        "###By: Marcelo Landivar\n",
        "---\n",
        "\n",
        ">**Email:** <MarceloLandivar24@gmail.com>\\\n",
        "> **RESOURCES:**  PySpark & SQL\n"
      ]
    },
    {
      "cell_type": "markdown",
      "metadata": {
        "id": "HL7HpddZ50av",
        "colab_type": "text"
      },
      "source": [
        "The report is divided in two sections. One part is the technical part about memory usage of the different tables involved in this report and the second part is the Summary of the performance of the Food Market"
      ]
    },
    {
      "cell_type": "code",
      "metadata": {
        "id": "juyH9u-I50aw",
        "colab_type": "code",
        "colab": {}
      },
      "source": [
        "import pyspark\n",
        "import operator\n",
        "import time\n",
        "from pyspark import SparkConf, SparkContext\n",
        "import time\n",
        "from pyspark.sql import SparkSession, SQLContext"
      ],
      "execution_count": null,
      "outputs": []
    },
    {
      "cell_type": "code",
      "metadata": {
        "id": "yUZseQbf50a4",
        "colab_type": "code",
        "colab": {}
      },
      "source": [
        "conf = SparkConf().setMaster('local').setAppName('AssignmentI')\n",
        "con = SparkContext(conf=conf)"
      ],
      "execution_count": null,
      "outputs": []
    },
    {
      "cell_type": "code",
      "metadata": {
        "id": "UJQT_uZd50a8",
        "colab_type": "code",
        "colab": {}
      },
      "source": [
        "spark = SparkSession.builder.getOrCreate()\n",
        "\n",
        "prod = pd.read_excel(\"FoodMarket.xlsx\",sheet_name=\"Products\")\n",
        "cust = pd.read_excel(\"FoodMarket.xlsx\",sheet_name=\"Customers\")\n",
        "purc = pd.read_excel(\"FoodMarket.xlsx\",sheet_name=\"Purchases\")\n",
        "sell = pd.read_excel(\"FoodMarket.xlsx\",sheet_name=\"Sellers\")\n",
        "\n",
        "\n",
        "products= spark.createDataFrame(prod)\n",
        "customers = spark.createDataFrame(cust)\n",
        "purchases = spark.createDataFrame(purc)\n",
        "sellers = spark.createDataFrame(sell)"
      ],
      "execution_count": null,
      "outputs": []
    },
    {
      "cell_type": "code",
      "metadata": {
        "id": "b3vynii650a_",
        "colab_type": "code",
        "colab": {}
      },
      "source": [
        "products.registerTempTable('products_table')\n",
        "customers.registerTempTable('customers_table')\n",
        "purchases.registerTempTable('purchases_table')\n",
        "sellers.registerTempTable('sellers_table')"
      ],
      "execution_count": null,
      "outputs": []
    },
    {
      "cell_type": "markdown",
      "metadata": {
        "id": "2R8XMU6V50bD",
        "colab_type": "text"
      },
      "source": [
        "##  Memory Usage Report"
      ]
    },
    {
      "cell_type": "markdown",
      "metadata": {
        "id": "z1u4snj650bD",
        "colab_type": "text"
      },
      "source": [
        "### Memory Usage for the Merged DataFrame"
      ]
    },
    {
      "cell_type": "markdown",
      "metadata": {
        "id": "VzJwVBFT50bE",
        "colab_type": "text"
      },
      "source": [
        "The following is the DataFrame of all the individual tables of the Food Market: "
      ]
    },
    {
      "cell_type": "markdown",
      "metadata": {
        "id": "Ess1fC1B50bF",
        "colab_type": "text"
      },
      "source": [
        "-Products table"
      ]
    },
    {
      "cell_type": "markdown",
      "metadata": {
        "id": "hwURAZac50bF",
        "colab_type": "text"
      },
      "source": [
        "-Customers table"
      ]
    },
    {
      "cell_type": "markdown",
      "metadata": {
        "id": "w-Y0SOtr50bG",
        "colab_type": "text"
      },
      "source": [
        "-Purchases table"
      ]
    },
    {
      "cell_type": "markdown",
      "metadata": {
        "id": "Wm_Et0ki50bG",
        "colab_type": "text"
      },
      "source": [
        "-Sellers table"
      ]
    },
    {
      "cell_type": "code",
      "metadata": {
        "id": "RhHQyE-g50bH",
        "colab_type": "code",
        "colab": {}
      },
      "source": [
        "all_df = spark.sql(\"\"\"select s.Code, s.Name, Lat, Long, Buyer, Product, Quantity, Seller, p.Name as Product_name,\tPrice,\n",
        "                    c.Name, Surname from sellers_table s right join purchases_table pu \n",
        "                    on s.Code = pu.Seller\n",
        "                    left join products_table p on pu.Product = p.Code\n",
        "                    left join customers_table c on c.Code = pu.Buyer\"\"\")\n"
      ],
      "execution_count": null,
      "outputs": []
    },
    {
      "cell_type": "code",
      "metadata": {
        "id": "oxx-MlbN50bK",
        "colab_type": "code",
        "colab": {}
      },
      "source": [
        "all_df_2 = all_df.toPandas()"
      ],
      "execution_count": null,
      "outputs": []
    },
    {
      "cell_type": "code",
      "metadata": {
        "id": "XQ1PjNj050bM",
        "colab_type": "code",
        "colab": {},
        "outputId": "56b65c21-cb00-4fd5-819e-55675da11f10"
      },
      "source": [
        "all_df_2.set_index('Code')"
      ],
      "execution_count": null,
      "outputs": [
        {
          "output_type": "execute_result",
          "data": {
            "text/html": [
              "<div>\n",
              "<style scoped>\n",
              "    .dataframe tbody tr th:only-of-type {\n",
              "        vertical-align: middle;\n",
              "    }\n",
              "\n",
              "    .dataframe tbody tr th {\n",
              "        vertical-align: top;\n",
              "    }\n",
              "\n",
              "    .dataframe thead th {\n",
              "        text-align: right;\n",
              "    }\n",
              "</style>\n",
              "<table border=\"1\" class=\"dataframe\">\n",
              "  <thead>\n",
              "    <tr style=\"text-align: right;\">\n",
              "      <th></th>\n",
              "      <th>Name</th>\n",
              "      <th>Lat</th>\n",
              "      <th>Long</th>\n",
              "      <th>Buyer</th>\n",
              "      <th>Product</th>\n",
              "      <th>Quantity</th>\n",
              "      <th>Seller</th>\n",
              "      <th>Product_name</th>\n",
              "      <th>Price</th>\n",
              "      <th>Name</th>\n",
              "      <th>Surname</th>\n",
              "    </tr>\n",
              "    <tr>\n",
              "      <th>Code</th>\n",
              "      <th></th>\n",
              "      <th></th>\n",
              "      <th></th>\n",
              "      <th></th>\n",
              "      <th></th>\n",
              "      <th></th>\n",
              "      <th></th>\n",
              "      <th></th>\n",
              "      <th></th>\n",
              "      <th></th>\n",
              "      <th></th>\n",
              "    </tr>\n",
              "  </thead>\n",
              "  <tbody>\n",
              "    <tr>\n",
              "      <th>38</th>\n",
              "      <td>From The Farmer</td>\n",
              "      <td>49.1</td>\n",
              "      <td>-79.5</td>\n",
              "      <td>26</td>\n",
              "      <td>54</td>\n",
              "      <td>17</td>\n",
              "      <td>38</td>\n",
              "      <td>Rolled foods</td>\n",
              "      <td>9.08</td>\n",
              "      <td>Andrew</td>\n",
              "      <td>Jackson</td>\n",
              "    </tr>\n",
              "    <tr>\n",
              "      <th>52</th>\n",
              "      <td>Complete Collection</td>\n",
              "      <td>-49.9</td>\n",
              "      <td>9.0</td>\n",
              "      <td>26</td>\n",
              "      <td>17</td>\n",
              "      <td>8</td>\n",
              "      <td>52</td>\n",
              "      <td>Cocktails</td>\n",
              "      <td>14.46</td>\n",
              "      <td>Andrew</td>\n",
              "      <td>Jackson</td>\n",
              "    </tr>\n",
              "    <tr>\n",
              "      <th>40</th>\n",
              "      <td>Savory Sock</td>\n",
              "      <td>26.9</td>\n",
              "      <td>99.1</td>\n",
              "      <td>26</td>\n",
              "      <td>37</td>\n",
              "      <td>1</td>\n",
              "      <td>40</td>\n",
              "      <td>Italian dishes</td>\n",
              "      <td>0.97</td>\n",
              "      <td>Andrew</td>\n",
              "      <td>Jackson</td>\n",
              "    </tr>\n",
              "    <tr>\n",
              "      <th>51</th>\n",
              "      <td>Farmer’S Bounty</td>\n",
              "      <td>3.7</td>\n",
              "      <td>-47.8</td>\n",
              "      <td>26</td>\n",
              "      <td>36</td>\n",
              "      <td>20</td>\n",
              "      <td>51</td>\n",
              "      <td>Indonesian dishes</td>\n",
              "      <td>13.55</td>\n",
              "      <td>Andrew</td>\n",
              "      <td>Jackson</td>\n",
              "    </tr>\n",
              "    <tr>\n",
              "      <th>33</th>\n",
              "      <td>Great Grains</td>\n",
              "      <td>-14.2</td>\n",
              "      <td>20.9</td>\n",
              "      <td>26</td>\n",
              "      <td>46</td>\n",
              "      <td>2</td>\n",
              "      <td>33</td>\n",
              "      <td>Pastries</td>\n",
              "      <td>4.22</td>\n",
              "      <td>Andrew</td>\n",
              "      <td>Jackson</td>\n",
              "    </tr>\n",
              "    <tr>\n",
              "      <th>...</th>\n",
              "      <td>...</td>\n",
              "      <td>...</td>\n",
              "      <td>...</td>\n",
              "      <td>...</td>\n",
              "      <td>...</td>\n",
              "      <td>...</td>\n",
              "      <td>...</td>\n",
              "      <td>...</td>\n",
              "      <td>...</td>\n",
              "      <td>...</td>\n",
              "      <td>...</td>\n",
              "    </tr>\n",
              "    <tr>\n",
              "      <th>38</th>\n",
              "      <td>From The Farmer</td>\n",
              "      <td>49.1</td>\n",
              "      <td>-79.5</td>\n",
              "      <td>24</td>\n",
              "      <td>50</td>\n",
              "      <td>7</td>\n",
              "      <td>38</td>\n",
              "      <td>Potato dishes</td>\n",
              "      <td>17.72</td>\n",
              "      <td>Paul</td>\n",
              "      <td>Hall</td>\n",
              "    </tr>\n",
              "    <tr>\n",
              "      <th>15</th>\n",
              "      <td>Goodness Grocery</td>\n",
              "      <td>-19.6</td>\n",
              "      <td>51.9</td>\n",
              "      <td>24</td>\n",
              "      <td>55</td>\n",
              "      <td>8</td>\n",
              "      <td>15</td>\n",
              "      <td>Sauces</td>\n",
              "      <td>3.97</td>\n",
              "      <td>Paul</td>\n",
              "      <td>Hall</td>\n",
              "    </tr>\n",
              "    <tr>\n",
              "      <th>51</th>\n",
              "      <td>Farmer’S Bounty</td>\n",
              "      <td>3.7</td>\n",
              "      <td>-47.8</td>\n",
              "      <td>24</td>\n",
              "      <td>36</td>\n",
              "      <td>2</td>\n",
              "      <td>51</td>\n",
              "      <td>Indonesian dishes</td>\n",
              "      <td>13.55</td>\n",
              "      <td>Paul</td>\n",
              "      <td>Hall</td>\n",
              "    </tr>\n",
              "    <tr>\n",
              "      <th>16</th>\n",
              "      <td>Grocer’S Goodness</td>\n",
              "      <td>-42.3</td>\n",
              "      <td>55.6</td>\n",
              "      <td>24</td>\n",
              "      <td>70</td>\n",
              "      <td>8</td>\n",
              "      <td>16</td>\n",
              "      <td>Vodkas</td>\n",
              "      <td>13.95</td>\n",
              "      <td>Paul</td>\n",
              "      <td>Hall</td>\n",
              "    </tr>\n",
              "    <tr>\n",
              "      <th>41</th>\n",
              "      <td>Stick To Savory</td>\n",
              "      <td>8.9</td>\n",
              "      <td>79.5</td>\n",
              "      <td>24</td>\n",
              "      <td>47</td>\n",
              "      <td>5</td>\n",
              "      <td>41</td>\n",
              "      <td>Philippine snack food</td>\n",
              "      <td>8.42</td>\n",
              "      <td>Paul</td>\n",
              "      <td>Hall</td>\n",
              "    </tr>\n",
              "  </tbody>\n",
              "</table>\n",
              "<p>1500 rows × 11 columns</p>\n",
              "</div>"
            ],
            "text/plain": [
              "                     Name   Lat  Long  Buyer  Product  Quantity  Seller  \\\n",
              "Code                                                                      \n",
              "38        From The Farmer  49.1 -79.5     26       54        17      38   \n",
              "52    Complete Collection -49.9   9.0     26       17         8      52   \n",
              "40            Savory Sock  26.9  99.1     26       37         1      40   \n",
              "51        Farmer’S Bounty   3.7 -47.8     26       36        20      51   \n",
              "33           Great Grains -14.2  20.9     26       46         2      33   \n",
              "...                   ...   ...   ...    ...      ...       ...     ...   \n",
              "38        From The Farmer  49.1 -79.5     24       50         7      38   \n",
              "15       Goodness Grocery -19.6  51.9     24       55         8      15   \n",
              "51        Farmer’S Bounty   3.7 -47.8     24       36         2      51   \n",
              "16      Grocer’S Goodness -42.3  55.6     24       70         8      16   \n",
              "41        Stick To Savory   8.9  79.5     24       47         5      41   \n",
              "\n",
              "               Product_name  Price    Name  Surname  \n",
              "Code                                                 \n",
              "38             Rolled foods   9.08  Andrew  Jackson  \n",
              "52                Cocktails  14.46  Andrew  Jackson  \n",
              "40           Italian dishes   0.97  Andrew  Jackson  \n",
              "51        Indonesian dishes  13.55  Andrew  Jackson  \n",
              "33                 Pastries   4.22  Andrew  Jackson  \n",
              "...                     ...    ...     ...      ...  \n",
              "38            Potato dishes  17.72    Paul     Hall  \n",
              "15                   Sauces   3.97    Paul     Hall  \n",
              "51        Indonesian dishes  13.55    Paul     Hall  \n",
              "16                   Vodkas  13.95    Paul     Hall  \n",
              "41    Philippine snack food   8.42    Paul     Hall  \n",
              "\n",
              "[1500 rows x 11 columns]"
            ]
          },
          "metadata": {
            "tags": []
          },
          "execution_count": 269
        }
      ]
    },
    {
      "cell_type": "markdown",
      "metadata": {
        "id": "JIrzDGKE50bQ",
        "colab_type": "text"
      },
      "source": [
        "Number of Rows and Columns for the merged DataFrame:"
      ]
    },
    {
      "cell_type": "code",
      "metadata": {
        "id": "HhlT2Fd650bQ",
        "colab_type": "code",
        "colab": {},
        "outputId": "42e39341-9708-4bb9-d517-d7c9c4cb2b17"
      },
      "source": [
        "all_df_2.count(), len(all_df_2.columns)"
      ],
      "execution_count": null,
      "outputs": [
        {
          "output_type": "execute_result",
          "data": {
            "text/plain": [
              "(Code            1500\n",
              " Name            1500\n",
              " Lat             1500\n",
              " Long            1500\n",
              " Buyer           1500\n",
              " Product         1500\n",
              " Quantity        1500\n",
              " Seller          1500\n",
              " Product_name    1500\n",
              " Price           1500\n",
              " Name            1500\n",
              " Surname         1500\n",
              " dtype: int64, 12)"
            ]
          },
          "metadata": {
            "tags": []
          },
          "execution_count": 258
        }
      ]
    },
    {
      "cell_type": "markdown",
      "metadata": {
        "id": "K2FUurkG50bT",
        "colab_type": "text"
      },
      "source": [
        "Memory Usage of the whole dataframe by column:"
      ]
    },
    {
      "cell_type": "code",
      "metadata": {
        "scrolled": true,
        "id": "_-rHsq8650bT",
        "colab_type": "code",
        "colab": {},
        "outputId": "7c5ab382-b8be-4fed-9af2-2a5ada927b7e"
      },
      "source": [
        "all_df.memory_usage()"
      ],
      "execution_count": null,
      "outputs": [
        {
          "output_type": "execute_result",
          "data": {
            "text/plain": [
              "Index             128\n",
              "Code            12000\n",
              "Name            12000\n",
              "Lat             12000\n",
              "Long            12000\n",
              "Buyer           12000\n",
              "Product         12000\n",
              "Quantity        12000\n",
              "Seller          12000\n",
              "Product_name    12000\n",
              "Price           12000\n",
              "Name            12000\n",
              "Surname         12000\n",
              "dtype: int64"
            ]
          },
          "metadata": {
            "tags": []
          },
          "execution_count": 260
        }
      ]
    },
    {
      "cell_type": "markdown",
      "metadata": {
        "id": "aR6pHK7T50bV",
        "colab_type": "text"
      },
      "source": [
        "Memory Usage of individual dataframes for each of the tables:"
      ]
    },
    {
      "cell_type": "code",
      "metadata": {
        "id": "jlcz8-zd50bW",
        "colab_type": "code",
        "colab": {},
        "outputId": "bf686eb0-e08f-41c1-939d-d445e139a7bb"
      },
      "source": [
        "print('The whole table combined memory usage: ',all_df.toPandas().memory_usage().sum())\n",
        "print('The products table combined memory usage: ',products.toPandas().memory_usage().sum())\n",
        "print('The purchases table combined memory usage: ',purchases.toPandas().memory_usage().sum())\n",
        "print('The customers table combined memory usage: ',customers.toPandas().memory_usage().sum())\n",
        "print('The sellers table combined memory usage: ',sellers.toPandas().memory_usage().sum())"
      ],
      "execution_count": null,
      "outputs": [
        {
          "output_type": "stream",
          "text": [
            "The whole table combined memory usage:  144128\n",
            "The products table combined memory usage:  1808\n",
            "The purchases table combined memory usage:  60128\n",
            "The customers table combined memory usage:  5096\n",
            "The sellers table combined memory usage:  1984\n"
          ],
          "name": "stdout"
        }
      ]
    },
    {
      "cell_type": "markdown",
      "metadata": {
        "id": "B8eT5pFY50bY",
        "colab_type": "text"
      },
      "source": [
        "## Business Report"
      ]
    },
    {
      "cell_type": "code",
      "metadata": {
        "id": "jAJehCxw50bZ",
        "colab_type": "code",
        "colab": {},
        "outputId": "8a0cc481-540e-4fbd-d6ce-61e6962bdabe"
      },
      "source": [
        "spark.sql(\"\"\"Select round(sum(pu.Quantity)*sum(p.Price),2) as Revenues\n",
        "            from purchases_table pu\n",
        "            join sellers_table s on s.Code = pu.Seller\n",
        "            join products_table p on p.Code=pu.Product\n",
        "            join customers_table c on pu.Buyer = c.Code\n",
        "            \"\"\").show()"
      ],
      "execution_count": null,
      "outputs": [
        {
          "output_type": "stream",
          "text": [
            "+--------------+\n",
            "|      Revenues|\n",
            "+--------------+\n",
            "|2.2944522888E8|\n",
            "+--------------+\n",
            "\n"
          ],
          "name": "stdout"
        }
      ]
    },
    {
      "cell_type": "code",
      "metadata": {
        "id": "jJAoplyC50bb",
        "colab_type": "code",
        "colab": {}
      },
      "source": [
        "Total_products_sold = spark.sql(\"Select sum(Quantity) as Total_sold_products from purchases_table\")"
      ],
      "execution_count": null,
      "outputs": []
    },
    {
      "cell_type": "markdown",
      "metadata": {
        "id": "6lUYEvXV50bg",
        "colab_type": "text"
      },
      "source": [
        "### Total Products Sold"
      ]
    },
    {
      "cell_type": "markdown",
      "metadata": {
        "id": "iAkHsUxg50bg",
        "colab_type": "text"
      },
      "source": [
        "The total number of products sold is the following:"
      ]
    },
    {
      "cell_type": "code",
      "metadata": {
        "id": "2FeER6_u50bh",
        "colab_type": "code",
        "colab": {}
      },
      "source": [
        "tt = Total_products_sold.toPandas()"
      ],
      "execution_count": null,
      "outputs": []
    },
    {
      "cell_type": "code",
      "metadata": {
        "id": "Hxg4n_Kp50bj",
        "colab_type": "code",
        "colab": {}
      },
      "source": [
        "tt_1 = tt.set_index([pd.Index(['-']), 'Total_sold_products'])"
      ],
      "execution_count": null,
      "outputs": []
    },
    {
      "cell_type": "code",
      "metadata": {
        "id": "V4wgwRp050bl",
        "colab_type": "code",
        "colab": {},
        "outputId": "de6c7252-8f3f-4cfa-ed12-2428503c87f2"
      },
      "source": [
        "tt_1"
      ],
      "execution_count": null,
      "outputs": [
        {
          "output_type": "execute_result",
          "data": {
            "text/html": [
              "<div>\n",
              "<style scoped>\n",
              "    .dataframe tbody tr th:only-of-type {\n",
              "        vertical-align: middle;\n",
              "    }\n",
              "\n",
              "    .dataframe tbody tr th {\n",
              "        vertical-align: top;\n",
              "    }\n",
              "\n",
              "    .dataframe thead th {\n",
              "        text-align: right;\n",
              "    }\n",
              "</style>\n",
              "<table border=\"1\" class=\"dataframe\">\n",
              "  <thead>\n",
              "    <tr style=\"text-align: right;\">\n",
              "      <th></th>\n",
              "      <th></th>\n",
              "    </tr>\n",
              "    <tr>\n",
              "      <th></th>\n",
              "      <th>Total_sold_products</th>\n",
              "    </tr>\n",
              "  </thead>\n",
              "  <tbody>\n",
              "    <tr>\n",
              "      <th>-</th>\n",
              "      <th>16323</th>\n",
              "    </tr>\n",
              "  </tbody>\n",
              "</table>\n",
              "</div>"
            ],
            "text/plain": [
              "Empty DataFrame\n",
              "Columns: []\n",
              "Index: [(-, 16323)]"
            ]
          },
          "metadata": {
            "tags": []
          },
          "execution_count": 305
        }
      ]
    },
    {
      "cell_type": "code",
      "metadata": {
        "id": "ez319IDj50bn",
        "colab_type": "code",
        "colab": {}
      },
      "source": [
        "product_people = spark.sql(\"\"\"select concat(c.Name, ' ', c.Surname) as Customer_Name,\n",
        "            sum(pu.Quantity) as Total_Products\n",
        "            from purchases_table pu\n",
        "            join sellers_table s on s.Code = pu.Seller\n",
        "            join products_table p on p.Code=pu.Product\n",
        "            join customers_table c on pu.Buyer = c.Code\n",
        "            group by concat(c.Name, ' ', c.Surname)\n",
        "            order by Total_Products desc\n",
        "            limit 10\n",
        "            \"\"\")"
      ],
      "execution_count": null,
      "outputs": []
    },
    {
      "cell_type": "code",
      "metadata": {
        "id": "NQbbLpu950bp",
        "colab_type": "code",
        "colab": {}
      },
      "source": [
        "revenues_people = spark.sql(\"\"\"select concat(c.Name, ' ', c.Surname) as Customer_Name,\n",
        "            round(sum(pu.Quantity)*sum(p.Price),2) as Revenues\n",
        "            from purchases_table pu\n",
        "            join sellers_table s on s.Code = pu.Seller\n",
        "            join products_table p on p.Code=pu.Product\n",
        "            join customers_table c on pu.Buyer = c.Code\n",
        "            group by concat(c.Name, ' ', c.Surname)\n",
        "            order by Revenues desc\n",
        "            limit 10\n",
        "            \"\"\")"
      ],
      "execution_count": null,
      "outputs": []
    },
    {
      "cell_type": "code",
      "metadata": {
        "id": "VPlYBgSs50bq",
        "colab_type": "code",
        "colab": {}
      },
      "source": [
        "import matplotlib.pyplot as plt\n",
        "import seaborn as sns"
      ],
      "execution_count": null,
      "outputs": []
    },
    {
      "cell_type": "markdown",
      "metadata": {
        "id": "ce17mYWB50bs",
        "colab_type": "text"
      },
      "source": [
        "### Top ten clients by Quantity of Products"
      ]
    },
    {
      "cell_type": "code",
      "metadata": {
        "id": "E1TzpSx050bs",
        "colab_type": "code",
        "colab": {}
      },
      "source": [
        "pp = product_people.toPandas()"
      ],
      "execution_count": null,
      "outputs": []
    },
    {
      "cell_type": "markdown",
      "metadata": {
        "id": "MFghJP0450bu",
        "colab_type": "text"
      },
      "source": [
        "It is possible to observe that from the total number of products sold, which is 16323, 1434 are coming from the top 10 clients. In other words, 8.79% of the sells is from the top customers."
      ]
    },
    {
      "cell_type": "code",
      "metadata": {
        "scrolled": false,
        "id": "2YKWeaW950bu",
        "colab_type": "code",
        "colab": {},
        "outputId": "10dc8a80-1e5a-4488-b018-f43378f442d5"
      },
      "source": [
        "plt.figure(figsize=(15,10), facecolor='#ababab')\n",
        "plt.bar('Customer_Name', 'Total_Products', data=pp, color='darkorange', edgecolor='black')\n",
        "plt.xticks(fontsize=14, rotation=90)\n",
        "plt.yticks(fontsize=14)\n",
        "plt.grid(b=True, which='major', axis='y')\n",
        "plt.show();\n",
        "#plt.annotate('Highest', xy=(1,160), xytext =(-0.3,158), fontsize=15 )"
      ],
      "execution_count": null,
      "outputs": [
        {
          "output_type": "display_data",
          "data": {
            "image/png": "[encoded data removed]",
            "text/plain": [
              "<Figure size 1080x720 with 1 Axes>"
            ]
          },
          "metadata": {
            "tags": []
          }
        }
      ]
    },
    {
      "cell_type": "markdown",
      "metadata": {
        "id": "UnTnfq4b50bw",
        "colab_type": "text"
      },
      "source": [
        "### Top 10 clients by Revenue"
      ]
    },
    {
      "cell_type": "code",
      "metadata": {
        "id": "s0dfjQ5b50bw",
        "colab_type": "code",
        "colab": {}
      },
      "source": [
        "rp = revenues_people.toPandas()"
      ],
      "execution_count": null,
      "outputs": []
    },
    {
      "cell_type": "markdown",
      "metadata": {
        "id": "ZbH_5Hnq50by",
        "colab_type": "text"
      },
      "source": [
        "The following are the Top 10 customers of the Food Market with the exact Revenues:"
      ]
    },
    {
      "cell_type": "code",
      "metadata": {
        "id": "fNj4R-a950by",
        "colab_type": "code",
        "colab": {},
        "outputId": "17ad38fc-8795-4172-a449-74ae557c176d"
      },
      "source": [
        "rp.set_index('Customer_Name')"
      ],
      "execution_count": null,
      "outputs": [
        {
          "output_type": "execute_result",
          "data": {
            "text/html": [
              "<div>\n",
              "<style scoped>\n",
              "    .dataframe tbody tr th:only-of-type {\n",
              "        vertical-align: middle;\n",
              "    }\n",
              "\n",
              "    .dataframe tbody tr th {\n",
              "        vertical-align: top;\n",
              "    }\n",
              "\n",
              "    .dataframe thead th {\n",
              "        text-align: right;\n",
              "    }\n",
              "</style>\n",
              "<table border=\"1\" class=\"dataframe\">\n",
              "  <thead>\n",
              "    <tr style=\"text-align: right;\">\n",
              "      <th></th>\n",
              "      <th>Revenues</th>\n",
              "    </tr>\n",
              "    <tr>\n",
              "      <th>Customer_Name</th>\n",
              "      <th></th>\n",
              "    </tr>\n",
              "  </thead>\n",
              "  <tbody>\n",
              "    <tr>\n",
              "      <th>Gloria Hamilton</th>\n",
              "      <td>22178.98</td>\n",
              "    </tr>\n",
              "    <tr>\n",
              "      <th>Susan Underhill</th>\n",
              "      <td>21497.72</td>\n",
              "    </tr>\n",
              "    <tr>\n",
              "      <th>Maria Robinson</th>\n",
              "      <td>21354.84</td>\n",
              "    </tr>\n",
              "    <tr>\n",
              "      <th>Lauren Johnston</th>\n",
              "      <td>19267.52</td>\n",
              "    </tr>\n",
              "    <tr>\n",
              "      <th>Nancy Thompson</th>\n",
              "      <td>17776.80</td>\n",
              "    </tr>\n",
              "    <tr>\n",
              "      <th>Philip Hall</th>\n",
              "      <td>17448.67</td>\n",
              "    </tr>\n",
              "    <tr>\n",
              "      <th>Daniel Evans</th>\n",
              "      <td>17022.25</td>\n",
              "    </tr>\n",
              "    <tr>\n",
              "      <th>Grace Smyth</th>\n",
              "      <td>16706.47</td>\n",
              "    </tr>\n",
              "    <tr>\n",
              "      <th>Raymond Williams</th>\n",
              "      <td>16565.52</td>\n",
              "    </tr>\n",
              "    <tr>\n",
              "      <th>Jacqueline Robinson</th>\n",
              "      <td>16549.38</td>\n",
              "    </tr>\n",
              "  </tbody>\n",
              "</table>\n",
              "</div>"
            ],
            "text/plain": [
              "                     Revenues\n",
              "Customer_Name                \n",
              "Gloria Hamilton      22178.98\n",
              "Susan Underhill      21497.72\n",
              "Maria Robinson       21354.84\n",
              "Lauren Johnston      19267.52\n",
              "Nancy Thompson       17776.80\n",
              "Philip Hall          17448.67\n",
              "Daniel Evans         17022.25\n",
              "Grace Smyth          16706.47\n",
              "Raymond Williams     16565.52\n",
              "Jacqueline Robinson  16549.38"
            ]
          },
          "metadata": {
            "tags": []
          },
          "execution_count": 331
        }
      ]
    },
    {
      "cell_type": "markdown",
      "metadata": {
        "id": "wPy_I9a450b0",
        "colab_type": "text"
      },
      "source": [
        "The total revenues are 229 millions units from which around 190 thousands come from the top customers that is the 0.08%. It is possible to observed in the follwing bar chart of the Top Clients."
      ]
    },
    {
      "cell_type": "code",
      "metadata": {
        "id": "QZMqx9OM50b0",
        "colab_type": "code",
        "colab": {},
        "outputId": "5770c3cc-09b0-49f8-ab9f-7f19cfcaeed9"
      },
      "source": [
        "plt.figure(figsize=(15,10), facecolor='#ababab')\n",
        "plt.bar('Customer_Name', 'Revenues', data=rp, color='green', edgecolor='black')\n",
        "plt.xticks(fontsize=14, rotation=90)\n",
        "plt.yticks(fontsize=14)\n",
        "plt.grid(b=True, which='major', axis='y')\n",
        "plt.show();\n",
        "#plt.annotate('Highest', xy=(1,160), xytext =(-0.3,158), fontsize=15 )"
      ],
      "execution_count": null,
      "outputs": [
        {
          "output_type": "display_data",
          "data": {
            "image/png": "[encoded data removed]",
            "text/plain": [
              "<Figure size 1080x720 with 1 Axes>"
            ]
          },
          "metadata": {
            "tags": []
          }
        }
      ]
    },
    {
      "cell_type": "code",
      "metadata": {
        "id": "gfSVr_bv50b3",
        "colab_type": "code",
        "colab": {}
      },
      "source": [
        "max_products = spark.sql(\"\"\"select p.Name as Product_Name,\n",
        "            sum(pu.Quantity) as Total_Products\n",
        "            from purchases_table pu\n",
        "            join sellers_table s on s.Code = pu.Seller\n",
        "            join products_table p on p.Code=pu.Product\n",
        "            join customers_table c on pu.Buyer = c.Code\n",
        "            group by p.Name\n",
        "            order by Total_Products desc\n",
        "            limit 10\n",
        "            \"\"\")"
      ],
      "execution_count": null,
      "outputs": []
    },
    {
      "cell_type": "code",
      "metadata": {
        "id": "ZRTu0dUu50b4",
        "colab_type": "code",
        "colab": {}
      },
      "source": [
        "mp = max_products.toPandas()"
      ],
      "execution_count": null,
      "outputs": []
    },
    {
      "cell_type": "markdown",
      "metadata": {
        "id": "urZwAsNF50b6",
        "colab_type": "text"
      },
      "source": [
        "### Top 10 Products Sold"
      ]
    },
    {
      "cell_type": "markdown",
      "metadata": {
        "id": "613ZRrdW50b6",
        "colab_type": "text"
      },
      "source": [
        "The top product sold are the following observed in the following bar chart:"
      ]
    },
    {
      "cell_type": "code",
      "metadata": {
        "scrolled": false,
        "id": "2LTafXTj50b7",
        "colab_type": "code",
        "colab": {},
        "outputId": "8d05ad36-263a-4282-a510-d2eb51fa983b"
      },
      "source": [
        "plt.figure(figsize=(15,10), facecolor='#ababab')\n",
        "plt.bar(x='Product_Name', height='Total_Products',data=mp, color='lightsteelblue')\n",
        "plt.xticks(fontsize=15, rotation=90)\n",
        "plt.yticks(fontsize=15)\n",
        "plt.grid(b=True, axis='y')\n",
        "plt.show();"
      ],
      "execution_count": null,
      "outputs": [
        {
          "output_type": "display_data",
          "data": {
            "image/png": "[encoded data removed]",
            "text/plain": [
              "<Figure size 1080x720 with 1 Axes>"
            ]
          },
          "metadata": {
            "tags": []
          }
        }
      ]
    },
    {
      "cell_type": "code",
      "metadata": {
        "id": "q5cfoLsP50b9",
        "colab_type": "code",
        "colab": {}
      },
      "source": [
        "top_sellers = spark.sql(\"\"\"select\n",
        "            s.Name as Sellers,\n",
        "            sum(pu.Quantity),\n",
        "            round(sum(pu.Quantity)*sum(p.Price),2) as Revenues\n",
        "            from purchases_table pu\n",
        "            join sellers_table s on s.Code = pu.Seller\n",
        "            join products_table p on p.Code=pu.Product\n",
        "            join customers_table c on pu.Buyer = c.Code\n",
        "            group by Sellers\n",
        "            order by Revenues desc\n",
        "            limit 10\n",
        "            \"\"\")"
      ],
      "execution_count": null,
      "outputs": []
    },
    {
      "cell_type": "markdown",
      "metadata": {
        "id": "BgYlPsTK50b-",
        "colab_type": "text"
      },
      "source": [
        "### Top 10 Sellers"
      ]
    },
    {
      "cell_type": "markdown",
      "metadata": {
        "id": "Euj51-OI50b_",
        "colab_type": "text"
      },
      "source": [
        "The following are the Top 10 sellers of the Food Market with the exact Revenues:"
      ]
    },
    {
      "cell_type": "code",
      "metadata": {
        "id": "dP_MokNt50b_",
        "colab_type": "code",
        "colab": {},
        "outputId": "7b4e049e-1a87-47c5-8752-abc94802aeba"
      },
      "source": [
        "ts.set_index('Sellers')"
      ],
      "execution_count": null,
      "outputs": [
        {
          "output_type": "execute_result",
          "data": {
            "text/html": [
              "<div>\n",
              "<style scoped>\n",
              "    .dataframe tbody tr th:only-of-type {\n",
              "        vertical-align: middle;\n",
              "    }\n",
              "\n",
              "    .dataframe tbody tr th {\n",
              "        vertical-align: top;\n",
              "    }\n",
              "\n",
              "    .dataframe thead th {\n",
              "        text-align: right;\n",
              "    }\n",
              "</style>\n",
              "<table border=\"1\" class=\"dataframe\">\n",
              "  <thead>\n",
              "    <tr style=\"text-align: right;\">\n",
              "      <th></th>\n",
              "      <th>sum(Quantity)</th>\n",
              "      <th>Revenues</th>\n",
              "    </tr>\n",
              "    <tr>\n",
              "      <th>Sellers</th>\n",
              "      <th></th>\n",
              "      <th></th>\n",
              "    </tr>\n",
              "  </thead>\n",
              "  <tbody>\n",
              "    <tr>\n",
              "      <th>Stocked And Savory</th>\n",
              "      <td>428</td>\n",
              "      <td>165319.28</td>\n",
              "    </tr>\n",
              "    <tr>\n",
              "      <th>Growing Grocery</th>\n",
              "      <td>393</td>\n",
              "      <td>147547.92</td>\n",
              "    </tr>\n",
              "    <tr>\n",
              "      <th>Freedom Foods</th>\n",
              "      <td>414</td>\n",
              "      <td>143244.00</td>\n",
              "    </tr>\n",
              "    <tr>\n",
              "      <th>TheFarmory</th>\n",
              "      <td>369</td>\n",
              "      <td>139858.38</td>\n",
              "    </tr>\n",
              "    <tr>\n",
              "      <th>Grateful Grocer</th>\n",
              "      <td>390</td>\n",
              "      <td>137911.80</td>\n",
              "    </tr>\n",
              "    <tr>\n",
              "      <th>Freshest Fields</th>\n",
              "      <td>356</td>\n",
              "      <td>108900.40</td>\n",
              "    </tr>\n",
              "    <tr>\n",
              "      <th>Friendly Faces Foods</th>\n",
              "      <td>375</td>\n",
              "      <td>107126.25</td>\n",
              "    </tr>\n",
              "    <tr>\n",
              "      <th>Creative Carts</th>\n",
              "      <td>373</td>\n",
              "      <td>104674.99</td>\n",
              "    </tr>\n",
              "    <tr>\n",
              "      <th>Full Of Goodness</th>\n",
              "      <td>324</td>\n",
              "      <td>102290.04</td>\n",
              "    </tr>\n",
              "    <tr>\n",
              "      <th>Forgetmenot Foods</th>\n",
              "      <td>344</td>\n",
              "      <td>101858.40</td>\n",
              "    </tr>\n",
              "  </tbody>\n",
              "</table>\n",
              "</div>"
            ],
            "text/plain": [
              "                      sum(Quantity)   Revenues\n",
              "Sellers                                       \n",
              "Stocked And Savory              428  165319.28\n",
              "Growing Grocery                 393  147547.92\n",
              "Freedom Foods                   414  143244.00\n",
              "TheFarmory                      369  139858.38\n",
              "Grateful Grocer                 390  137911.80\n",
              "Freshest Fields                 356  108900.40\n",
              "Friendly Faces Foods            375  107126.25\n",
              "Creative Carts                  373  104674.99\n",
              "Full Of Goodness                324  102290.04\n",
              "Forgetmenot Foods               344  101858.40"
            ]
          },
          "metadata": {
            "tags": []
          },
          "execution_count": 334
        }
      ]
    },
    {
      "cell_type": "code",
      "metadata": {
        "id": "KTbEfvno50cB",
        "colab_type": "code",
        "colab": {}
      },
      "source": [
        "ts = top_sellers.toPandas()"
      ],
      "execution_count": null,
      "outputs": []
    },
    {
      "cell_type": "markdown",
      "metadata": {
        "id": "ncGuSO6K50cC",
        "colab_type": "text"
      },
      "source": [
        "The top seller is Stocked and Savroy with $ 165.319,28 in revenues. The top 10 sellers are showin the following bar chart. "
      ]
    },
    {
      "cell_type": "code",
      "metadata": {
        "id": "M6DQdX9Q50cD",
        "colab_type": "code",
        "colab": {},
        "outputId": "4fb97622-94c7-4088-b975-b1989952a61c"
      },
      "source": [
        "plt.figure(figsize=(15,10), facecolor='#ababab')\n",
        "plt.bar(x='Sellers', height='Revenues',data=ts, color='navy')\n",
        "plt.xticks(fontsize=15, rotation=90)\n",
        "plt.yticks(fontsize=15)\n",
        "plt.grid(b=True, axis='y')\n",
        "plt.show();"
      ],
      "execution_count": null,
      "outputs": [
        {
          "output_type": "display_data",
          "data": {
            "image/png": "[encoded data removed]",
            "text/plain": [
              "<Figure size 1080x720 with 1 Axes>"
            ]
          },
          "metadata": {
            "tags": []
          }
        }
      ]
    },
    {
      "cell_type": "code",
      "metadata": {
        "id": "hn24M-De50cF",
        "colab_type": "code",
        "colab": {}
      },
      "source": [
        "Customer_sells_products = spark.sql(\"\"\"select concat(c.Name, ' ', c.Surname) as Customer_Name,\n",
        "            sum(pu.Quantity) as Total_Products,\n",
        "            round(sum(pu.Quantity)*sum(p.Price),2) as Total_sells\n",
        "            from purchases_table pu\n",
        "            join sellers_table s on s.Code = pu.Seller\n",
        "            join products_table p on p.Code=pu.Product\n",
        "            join customers_table c on pu.Buyer = c.Code\n",
        "            group by concat(c.Name, ' ', c.Surname)\n",
        "            order by Total_Sells desc\n",
        "            \"\"\")"
      ],
      "execution_count": null,
      "outputs": []
    },
    {
      "cell_type": "code",
      "metadata": {
        "id": "zgb61y2r50cH",
        "colab_type": "code",
        "colab": {}
      },
      "source": [
        "csp = Customer_sells_products.toPandas()"
      ],
      "execution_count": null,
      "outputs": []
    },
    {
      "cell_type": "code",
      "metadata": {
        "id": "ESP20Lmm50cI",
        "colab_type": "code",
        "colab": {}
      },
      "source": [
        ""
      ],
      "execution_count": null,
      "outputs": []
    }
  ]
}