{
  "nbformat": 4,
  "nbformat_minor": 0,
  "metadata": {
    "kernelspec": {
      "display_name": "Python 3",
      "language": "python",
      "name": "python3"
    },
    "language_info": {
      "codemirror_mode": {
        "name": "ipython",
        "version": 3
      },
      "file_extension": ".py",
      "mimetype": "text/x-python",
      "name": "python",
      "nbconvert_exporter": "python",
      "pygments_lexer": "ipython3",
      "version": "3.6.10"
    },
    "colab": {
      "name": "Assignment_2-Marcelo_Landivar.ipynb",
      "provenance": [],
      "include_colab_link": true
    }
  },
  "cells": [
    {
      "cell_type": "markdown",
      "metadata": {
        "id": "view-in-github",
        "colab_type": "text"
      },
      "source": [
        "<a href=\"https://colab.research.google.com/github/marcelolandivar/Python_Projects/blob/master/PySpark-ML-Credit_Approval_Prediction.ipynb\" target=\"_parent\"><img src=\"https://colab.research.google.com/assets/colab-badge.svg\" alt=\"Open In Colab\"/></a>"
      ]
    },
    {
      "cell_type": "markdown",
      "metadata": {
        "id": "V4ef00Mf7JnZ",
        "colab_type": "text"
      },
      "source": [
        "# Machine Learning and PySpark\n",
        "**Credit Approval Prediction using PySpark** \\\n",
        "###By: Marcelo Landivar\n",
        "---\n",
        "\n",
        ">**Email:** <MarceloLandivar24@gmail.com>\\\n",
        "> **RESOURCES:**  PySpark\n"
      ]
    },
    {
      "cell_type": "markdown",
      "metadata": {
        "id": "Pm9tBsYo7Jnb",
        "colab_type": "text"
      },
      "source": [
        "Austrlian Credit Approval Dataset: https://archive.ics.uci.edu/ml/datasets/Statlog+%28Australian+Credit+Approval%29\n",
        "\n",
        "There is sensitive data inside of the dataset; therefore, there is not detailed information about the columns mean. "
      ]
    },
    {
      "cell_type": "markdown",
      "metadata": {
        "id": "BKVwNdkG7Jnd",
        "colab_type": "text"
      },
      "source": [
        "## Loading the data"
      ]
    },
    {
      "cell_type": "code",
      "metadata": {
        "scrolled": true,
        "id": "znd1j9kO7Jnf",
        "colab_type": "code",
        "colab": {
          "base_uri": "https://localhost:8080/",
          "height": 204
        },
        "outputId": "34512051-7a9d-4515-abcd-4e28c7dcb8de"
      },
      "source": [
        "!wget 'https://archive.ics.uci.edu/ml/machine-learning-databases/statlog/australian/australian.dat'"
      ],
      "execution_count": 1,
      "outputs": [
        {
          "output_type": "stream",
          "text": [
            "--2020-08-27 08:17:16--  https://archive.ics.uci.edu/ml/machine-learning-databases/statlog/australian/australian.dat\n",
            "Resolving archive.ics.uci.edu (archive.ics.uci.edu)... 128.195.10.252\n",
            "Connecting to archive.ics.uci.edu (archive.ics.uci.edu)|128.195.10.252|:443... connected.\n",
            "HTTP request sent, awaiting response... 200 OK\n",
            "Length: 28735 (28K) [application/x-httpd-php]\n",
            "Saving to: ‘australian.dat’\n",
            "\n",
            "australian.dat      100%[===================>]  28.06K  --.-KB/s    in 0.07s   \n",
            "\n",
            "2020-08-27 08:17:17 (430 KB/s) - ‘australian.dat’ saved [28735/28735]\n",
            "\n"
          ],
          "name": "stdout"
        }
      ]
    },
    {
      "cell_type": "markdown",
      "metadata": {
        "id": "kS-WZb9jAAWV",
        "colab_type": "text"
      },
      "source": [
        "**PySpark installation**\n",
        "\n",
        "*If running in Colab do not follow this step and jump to pip install"
      ]
    },
    {
      "cell_type": "code",
      "metadata": {
        "id": "-I8wq-xf_4pM",
        "colab_type": "code",
        "colab": {}
      },
      "source": [
        "# Java installation\n",
        "!apt-get install openjdk-8-jdk-headless -qq > /dev/null"
      ],
      "execution_count": null,
      "outputs": []
    },
    {
      "cell_type": "code",
      "metadata": {
        "id": "sdmj07z-_6qR",
        "colab_type": "code",
        "colab": {}
      },
      "source": [
        "# Apache Spark download\n",
        "import os \n",
        "os.system(\"wget -q https://www-us.apache.org/dist/spark/spark-2.4.5/spark-2.4.5-bin-hadoop2.7.tgz\")\n",
        "os.system(\"tar xf /spark-2.4.5-bin-hadoop2.7.tgz\")"
      ],
      "execution_count": null,
      "outputs": []
    },
    {
      "cell_type": "code",
      "metadata": {
        "id": "mhjXHzv19Kvi",
        "colab_type": "code",
        "colab": {}
      },
      "source": [
        "# Direct Pyspark installation for Colab\n",
        "!pip install -q pyspark"
      ],
      "execution_count": 2,
      "outputs": []
    },
    {
      "cell_type": "markdown",
      "metadata": {
        "id": "cH39Ez1qBJ4h",
        "colab_type": "text"
      },
      "source": [
        "## Creating a Local Spark Session and Reading the Data"
      ]
    },
    {
      "cell_type": "code",
      "metadata": {
        "id": "vb7koDmp7Jnk",
        "colab_type": "code",
        "colab": {}
      },
      "source": [
        "import pyspark \n",
        "from pyspark import SparkConf\n",
        "from pyspark import SparkContext\n",
        "\n",
        "config = SparkConf().setMaster('local').setAppName('my-spark')\n",
        "sc = SparkContext(conf=config)"
      ],
      "execution_count": 3,
      "outputs": []
    },
    {
      "cell_type": "code",
      "metadata": {
        "id": "5mM10Csk7Jno",
        "colab_type": "code",
        "colab": {}
      },
      "source": [
        "from pyspark.sql import SparkSession\n",
        "from pyspark.ml.regression import LinearRegression\n",
        "from pyspark import SparkFiles\n",
        "from pyspark.sql import SQLContext\n",
        "\n",
        "sqlsc = SQLContext(sc)\n",
        "df_australian = sqlsc.read.format('com.databricks.spark.csv').options(header='false', inferschema='true', delimiter=' ').load('australian.dat')"
      ],
      "execution_count": null,
      "outputs": []
    },
    {
      "cell_type": "code",
      "metadata": {
        "id": "RqGPf5wc7Jnr",
        "colab_type": "code",
        "colab": {},
        "outputId": "bd74ad43-12a7-4440-ca8a-8ddcde695c4a"
      },
      "source": [
        "df_australian.describe().toPandas().transpose()\n",
        "#c0, c3, c7, c8, c10, c11 are cateogrical for sure. Probably c4 and c5.\n",
        "#c9, c12 and c13 have too much variability (very noticeable outliers) \n",
        "#or there is missing data set as 0 or 1"
      ],
      "execution_count": null,
      "outputs": [
        {
          "output_type": "execute_result",
          "data": {
            "text/html": [
              "<div>\n",
              "<style scoped>\n",
              "    .dataframe tbody tr th:only-of-type {\n",
              "        vertical-align: middle;\n",
              "    }\n",
              "\n",
              "    .dataframe tbody tr th {\n",
              "        vertical-align: top;\n",
              "    }\n",
              "\n",
              "    .dataframe thead th {\n",
              "        text-align: right;\n",
              "    }\n",
              "</style>\n",
              "<table border=\"1\" class=\"dataframe\">\n",
              "  <thead>\n",
              "    <tr style=\"text-align: right;\">\n",
              "      <th></th>\n",
              "      <th>0</th>\n",
              "      <th>1</th>\n",
              "      <th>2</th>\n",
              "      <th>3</th>\n",
              "      <th>4</th>\n",
              "    </tr>\n",
              "  </thead>\n",
              "  <tbody>\n",
              "    <tr>\n",
              "      <th>summary</th>\n",
              "      <td>count</td>\n",
              "      <td>mean</td>\n",
              "      <td>stddev</td>\n",
              "      <td>min</td>\n",
              "      <td>max</td>\n",
              "    </tr>\n",
              "    <tr>\n",
              "      <th>_c0</th>\n",
              "      <td>690</td>\n",
              "      <td>0.6782608695652174</td>\n",
              "      <td>0.4674823918720558</td>\n",
              "      <td>0</td>\n",
              "      <td>1</td>\n",
              "    </tr>\n",
              "    <tr>\n",
              "      <th>_c1</th>\n",
              "      <td>690</td>\n",
              "      <td>31.56820289855064</td>\n",
              "      <td>11.853272772971627</td>\n",
              "      <td>13.75</td>\n",
              "      <td>80.25</td>\n",
              "    </tr>\n",
              "    <tr>\n",
              "      <th>_c2</th>\n",
              "      <td>690</td>\n",
              "      <td>4.758724637681158</td>\n",
              "      <td>4.978163248528542</td>\n",
              "      <td>0.0</td>\n",
              "      <td>28.0</td>\n",
              "    </tr>\n",
              "    <tr>\n",
              "      <th>_c3</th>\n",
              "      <td>690</td>\n",
              "      <td>1.7666666666666666</td>\n",
              "      <td>0.4300628322361985</td>\n",
              "      <td>1</td>\n",
              "      <td>3</td>\n",
              "    </tr>\n",
              "    <tr>\n",
              "      <th>_c4</th>\n",
              "      <td>690</td>\n",
              "      <td>7.372463768115942</td>\n",
              "      <td>3.6832647874312814</td>\n",
              "      <td>1</td>\n",
              "      <td>14</td>\n",
              "    </tr>\n",
              "    <tr>\n",
              "      <th>_c5</th>\n",
              "      <td>690</td>\n",
              "      <td>4.6927536231884055</td>\n",
              "      <td>1.9923160695338962</td>\n",
              "      <td>1</td>\n",
              "      <td>9</td>\n",
              "    </tr>\n",
              "    <tr>\n",
              "      <th>_c6</th>\n",
              "      <td>690</td>\n",
              "      <td>2.2234057971014476</td>\n",
              "      <td>3.3465133592781333</td>\n",
              "      <td>0.0</td>\n",
              "      <td>28.5</td>\n",
              "    </tr>\n",
              "    <tr>\n",
              "      <th>_c7</th>\n",
              "      <td>690</td>\n",
              "      <td>0.5231884057971015</td>\n",
              "      <td>0.4998243312700278</td>\n",
              "      <td>0</td>\n",
              "      <td>1</td>\n",
              "    </tr>\n",
              "    <tr>\n",
              "      <th>_c8</th>\n",
              "      <td>690</td>\n",
              "      <td>0.427536231884058</td>\n",
              "      <td>0.4950800196191814</td>\n",
              "      <td>0</td>\n",
              "      <td>1</td>\n",
              "    </tr>\n",
              "    <tr>\n",
              "      <th>_c9</th>\n",
              "      <td>690</td>\n",
              "      <td>2.4</td>\n",
              "      <td>4.862940034226998</td>\n",
              "      <td>0</td>\n",
              "      <td>67</td>\n",
              "    </tr>\n",
              "    <tr>\n",
              "      <th>_c10</th>\n",
              "      <td>690</td>\n",
              "      <td>0.4579710144927536</td>\n",
              "      <td>0.4985918624611388</td>\n",
              "      <td>0</td>\n",
              "      <td>1</td>\n",
              "    </tr>\n",
              "    <tr>\n",
              "      <th>_c11</th>\n",
              "      <td>690</td>\n",
              "      <td>1.9289855072463769</td>\n",
              "      <td>0.2988130604118134</td>\n",
              "      <td>1</td>\n",
              "      <td>3</td>\n",
              "    </tr>\n",
              "    <tr>\n",
              "      <th>_c12</th>\n",
              "      <td>690</td>\n",
              "      <td>184.0144927536232</td>\n",
              "      <td>172.1592735362996</td>\n",
              "      <td>0</td>\n",
              "      <td>2000</td>\n",
              "    </tr>\n",
              "    <tr>\n",
              "      <th>_c13</th>\n",
              "      <td>690</td>\n",
              "      <td>1018.3855072463768</td>\n",
              "      <td>5210.102598302688</td>\n",
              "      <td>1</td>\n",
              "      <td>100001</td>\n",
              "    </tr>\n",
              "    <tr>\n",
              "      <th>_c14</th>\n",
              "      <td>690</td>\n",
              "      <td>0.4449275362318841</td>\n",
              "      <td>0.49731827478938917</td>\n",
              "      <td>0</td>\n",
              "      <td>1</td>\n",
              "    </tr>\n",
              "  </tbody>\n",
              "</table>\n",
              "</div>"
            ],
            "text/plain": [
              "             0                   1                    2      3       4\n",
              "summary  count                mean               stddev    min     max\n",
              "_c0        690  0.6782608695652174   0.4674823918720558      0       1\n",
              "_c1        690   31.56820289855064   11.853272772971627  13.75   80.25\n",
              "_c2        690   4.758724637681158    4.978163248528542    0.0    28.0\n",
              "_c3        690  1.7666666666666666   0.4300628322361985      1       3\n",
              "_c4        690   7.372463768115942   3.6832647874312814      1      14\n",
              "_c5        690  4.6927536231884055   1.9923160695338962      1       9\n",
              "_c6        690  2.2234057971014476   3.3465133592781333    0.0    28.5\n",
              "_c7        690  0.5231884057971015   0.4998243312700278      0       1\n",
              "_c8        690   0.427536231884058   0.4950800196191814      0       1\n",
              "_c9        690                 2.4    4.862940034226998      0      67\n",
              "_c10       690  0.4579710144927536   0.4985918624611388      0       1\n",
              "_c11       690  1.9289855072463769   0.2988130604118134      1       3\n",
              "_c12       690   184.0144927536232    172.1592735362996      0    2000\n",
              "_c13       690  1018.3855072463768    5210.102598302688      1  100001\n",
              "_c14       690  0.4449275362318841  0.49731827478938917      0       1"
            ]
          },
          "metadata": {
            "tags": []
          },
          "execution_count": 250
        }
      ]
    },
    {
      "cell_type": "code",
      "metadata": {
        "id": "dmc0nzTr7Jnu",
        "colab_type": "code",
        "colab": {},
        "outputId": "40b8c66a-657f-4ff6-b103-b6b0e8d9714c"
      },
      "source": [
        "df = df_australian.toPandas()\n",
        "df.iloc[:,12:14].head(15)"
      ],
      "execution_count": null,
      "outputs": [
        {
          "output_type": "execute_result",
          "data": {
            "text/html": [
              "<div>\n",
              "<style scoped>\n",
              "    .dataframe tbody tr th:only-of-type {\n",
              "        vertical-align: middle;\n",
              "    }\n",
              "\n",
              "    .dataframe tbody tr th {\n",
              "        vertical-align: top;\n",
              "    }\n",
              "\n",
              "    .dataframe thead th {\n",
              "        text-align: right;\n",
              "    }\n",
              "</style>\n",
              "<table border=\"1\" class=\"dataframe\">\n",
              "  <thead>\n",
              "    <tr style=\"text-align: right;\">\n",
              "      <th></th>\n",
              "      <th>_c12</th>\n",
              "      <th>_c13</th>\n",
              "    </tr>\n",
              "  </thead>\n",
              "  <tbody>\n",
              "    <tr>\n",
              "      <th>0</th>\n",
              "      <td>100</td>\n",
              "      <td>1213</td>\n",
              "    </tr>\n",
              "    <tr>\n",
              "      <th>1</th>\n",
              "      <td>160</td>\n",
              "      <td>1</td>\n",
              "    </tr>\n",
              "    <tr>\n",
              "      <th>2</th>\n",
              "      <td>280</td>\n",
              "      <td>1</td>\n",
              "    </tr>\n",
              "    <tr>\n",
              "      <th>3</th>\n",
              "      <td>0</td>\n",
              "      <td>1</td>\n",
              "    </tr>\n",
              "    <tr>\n",
              "      <th>4</th>\n",
              "      <td>60</td>\n",
              "      <td>159</td>\n",
              "    </tr>\n",
              "    <tr>\n",
              "      <th>5</th>\n",
              "      <td>100</td>\n",
              "      <td>1</td>\n",
              "    </tr>\n",
              "    <tr>\n",
              "      <th>6</th>\n",
              "      <td>60</td>\n",
              "      <td>101</td>\n",
              "    </tr>\n",
              "    <tr>\n",
              "      <th>7</th>\n",
              "      <td>43</td>\n",
              "      <td>561</td>\n",
              "    </tr>\n",
              "    <tr>\n",
              "      <th>8</th>\n",
              "      <td>176</td>\n",
              "      <td>538</td>\n",
              "    </tr>\n",
              "    <tr>\n",
              "      <th>9</th>\n",
              "      <td>100</td>\n",
              "      <td>51</td>\n",
              "    </tr>\n",
              "    <tr>\n",
              "      <th>10</th>\n",
              "      <td>253</td>\n",
              "      <td>858</td>\n",
              "    </tr>\n",
              "    <tr>\n",
              "      <th>11</th>\n",
              "      <td>470</td>\n",
              "      <td>1</td>\n",
              "    </tr>\n",
              "    <tr>\n",
              "      <th>12</th>\n",
              "      <td>140</td>\n",
              "      <td>211</td>\n",
              "    </tr>\n",
              "    <tr>\n",
              "      <th>13</th>\n",
              "      <td>0</td>\n",
              "      <td>1001</td>\n",
              "    </tr>\n",
              "    <tr>\n",
              "      <th>14</th>\n",
              "      <td>320</td>\n",
              "      <td>1</td>\n",
              "    </tr>\n",
              "  </tbody>\n",
              "</table>\n",
              "</div>"
            ],
            "text/plain": [
              "    _c12  _c13\n",
              "0    100  1213\n",
              "1    160     1\n",
              "2    280     1\n",
              "3      0     1\n",
              "4     60   159\n",
              "5    100     1\n",
              "6     60   101\n",
              "7     43   561\n",
              "8    176   538\n",
              "9    100    51\n",
              "10   253   858\n",
              "11   470     1\n",
              "12   140   211\n",
              "13     0  1001\n",
              "14   320     1"
            ]
          },
          "metadata": {
            "tags": []
          },
          "execution_count": 218
        }
      ]
    },
    {
      "cell_type": "code",
      "metadata": {
        "id": "NBsbV59O7Jnx",
        "colab_type": "code",
        "colab": {},
        "outputId": "3ff9c3b3-bea3-4003-87b2-217d3256a370"
      },
      "source": [
        "df_australian.toPandas().shape"
      ],
      "execution_count": null,
      "outputs": [
        {
          "output_type": "execute_result",
          "data": {
            "text/plain": [
              "(690, 15)"
            ]
          },
          "metadata": {
            "tags": []
          },
          "execution_count": 194
        }
      ]
    },
    {
      "cell_type": "code",
      "metadata": {
        "id": "3Zyd5mhk7Jn0",
        "colab_type": "code",
        "colab": {},
        "outputId": "d41d4f55-6e4c-4497-bc80-ebe82a7f8192"
      },
      "source": [
        "# Checking the data type\n",
        "df_australian.toPandas().info()"
      ],
      "execution_count": null,
      "outputs": [
        {
          "output_type": "stream",
          "text": [
            "<class 'pandas.core.frame.DataFrame'>\n",
            "RangeIndex: 690 entries, 0 to 689\n",
            "Data columns (total 15 columns):\n",
            " #   Column  Non-Null Count  Dtype  \n",
            "---  ------  --------------  -----  \n",
            " 0   _c0     690 non-null    int32  \n",
            " 1   _c1     690 non-null    float64\n",
            " 2   _c2     690 non-null    float64\n",
            " 3   _c3     690 non-null    int32  \n",
            " 4   _c4     690 non-null    int32  \n",
            " 5   _c5     690 non-null    int32  \n",
            " 6   _c6     690 non-null    float64\n",
            " 7   _c7     690 non-null    int32  \n",
            " 8   _c8     690 non-null    int32  \n",
            " 9   _c9     690 non-null    int32  \n",
            " 10  _c10    690 non-null    int32  \n",
            " 11  _c11    690 non-null    int32  \n",
            " 12  _c12    690 non-null    int32  \n",
            " 13  _c13    690 non-null    int32  \n",
            " 14  _c14    690 non-null    int32  \n",
            "dtypes: float64(3), int32(12)\n",
            "memory usage: 48.6 KB\n"
          ],
          "name": "stdout"
        }
      ]
    },
    {
      "cell_type": "code",
      "metadata": {
        "id": "vsOR5Ynp7Jn2",
        "colab_type": "code",
        "colab": {},
        "outputId": "2e5b2030-9cd5-4422-bf21-e3a05129dc9b"
      },
      "source": [
        "# Checking null values\n",
        "df_australian.toPandas().isna().sum()"
      ],
      "execution_count": null,
      "outputs": [
        {
          "output_type": "execute_result",
          "data": {
            "text/plain": [
              "_c0     0\n",
              "_c1     0\n",
              "_c2     0\n",
              "_c3     0\n",
              "_c4     0\n",
              "_c5     0\n",
              "_c6     0\n",
              "_c7     0\n",
              "_c8     0\n",
              "_c9     0\n",
              "_c10    0\n",
              "_c11    0\n",
              "_c12    0\n",
              "_c13    0\n",
              "_c14    0\n",
              "dtype: int64"
            ]
          },
          "metadata": {
            "tags": []
          },
          "execution_count": 181
        }
      ]
    },
    {
      "cell_type": "code",
      "metadata": {
        "id": "vj4B5ikr7Jn4",
        "colab_type": "code",
        "colab": {},
        "outputId": "34113c6c-80d6-4cc1-c26e-2d3b8e95ec14"
      },
      "source": [
        "# Checking how balance is the data\n",
        "print('Target 0: '+str((len(df_australian.toPandas()[df_australian.toPandas()._c14==0])/len(df_australian.toPandas()))*100)+'%')\n",
        "print('Target 1: '+str((len(df_australian.toPandas()[df_australian.toPandas()._c14==1])/len(df_australian.toPandas()))*100)+'%')"
      ],
      "execution_count": null,
      "outputs": [
        {
          "output_type": "stream",
          "text": [
            "Target 0: 55.507246376811594%\n",
            "Target 1: 44.492753623188406%\n"
          ],
          "name": "stdout"
        }
      ]
    },
    {
      "cell_type": "markdown",
      "metadata": {
        "id": "CI-Kkxm-7Jn5",
        "colab_type": "text"
      },
      "source": [
        "## Enriching the data"
      ]
    },
    {
      "cell_type": "markdown",
      "metadata": {
        "id": "i5CmhJoI7Jn6",
        "colab_type": "text"
      },
      "source": [
        "Creation of some new features based on the variables that are available."
      ]
    },
    {
      "cell_type": "code",
      "metadata": {
        "scrolled": true,
        "id": "EkMJNfMB7Jn6",
        "colab_type": "code",
        "colab": {},
        "outputId": "2391c8a8-6021-4ee3-b98b-4bd21f05ab02"
      },
      "source": [
        "for i in df_australian.columns:\n",
        "    if i != '_c14':\n",
        "        print('Corrleation of each feature with the target', i,df_australian.stat.corr(str(i), '_c14'))\n",
        "    elif i=='_c14':\n",
        "        break"
      ],
      "execution_count": null,
      "outputs": [
        {
          "output_type": "stream",
          "text": [
            "Corrleation of each feature with the target _c0 -0.013897069428285015\n",
            "Corrleation of each feature with the target _c1 0.16162586606830812\n",
            "Corrleation of each feature with the target _c2 0.2062937386450388\n",
            "Corrleation of each feature with the target _c3 0.19430606561906658\n",
            "Corrleation of each feature with the target _c4 0.37371161291900007\n",
            "Corrleation of each feature with the target _c5 0.24656748770400883\n",
            "Corrleation of each feature with the target _c6 0.3224753582553842\n",
            "Corrleation of each feature with the target _c7 0.7204068158989543\n",
            "Corrleation of each feature with the target _c8 0.45830133160794323\n",
            "Corrleation of each feature with the target _c9 0.4064100087639557\n",
            "Corrleation of each feature with the target _c10 0.03162481448371768\n",
            "Corrleation of each feature with the target _c11 0.11526093232909745\n",
            "Corrleation of each feature with the target _c12 -0.09997240789126369\n",
            "Corrleation of each feature with the target _c13 0.1756572009935053\n"
          ],
          "name": "stdout"
        }
      ]
    },
    {
      "cell_type": "code",
      "metadata": {
        "id": "AnHGhBPZ7Jn-",
        "colab_type": "code",
        "colab": {}
      },
      "source": [
        "from pyspark.ml.feature import MinMaxScaler\n",
        "from pyspark.ml.feature import VectorAssembler\n",
        "from pyspark.ml import Pipeline\n",
        "from pyspark.sql.types import DoubleType\n",
        "from pyspark.sql.functions import udf\n",
        "#udf are functions applied to a whole column\n",
        "unlist = udf(lambda x: round(float(list(x)[0]),4), DoubleType())\n",
        "\n",
        "for i in df_australian.columns:\n",
        "    \n",
        "    if i != '_c14':\n",
        "    \n",
        "        assembler = VectorAssembler(inputCols = [i], outputCol=i+\"_Vect\")\n",
        "    \n",
        "        scaler = MinMaxScaler(inputCol=i+\"_Vect\", outputCol=i+\"_Scaled\")\n",
        "    \n",
        "        pipeline = Pipeline(stages=[assembler,scaler])\n",
        "    \n",
        "        df_australian = pipeline.fit(df_australian).transform(df_australian).withColumn(i+\"_Scaled\", unlist(i+'_Scaled')).drop(i+'_Vect')\n",
        "\n",
        "\n"
      ],
      "execution_count": null,
      "outputs": []
    },
    {
      "cell_type": "code",
      "metadata": {
        "id": "-lEUvxnj7JoA",
        "colab_type": "code",
        "colab": {}
      },
      "source": [
        "df_australian = df_australian.drop('_c0_Scaled', '_c3_Scaled','_c7_Scaled','_c8_Scaled', '_c10_Scaled', '_c11_Scaled')"
      ],
      "execution_count": null,
      "outputs": []
    },
    {
      "cell_type": "code",
      "metadata": {
        "id": "i0aRtEng7JoC",
        "colab_type": "code",
        "colab": {},
        "outputId": "aa21f957-3104-4be9-ff0f-33510d383568"
      },
      "source": [
        "df_australian.toPandas()"
      ],
      "execution_count": null,
      "outputs": [
        {
          "output_type": "execute_result",
          "data": {
            "text/html": [
              "<div>\n",
              "<style scoped>\n",
              "    .dataframe tbody tr th:only-of-type {\n",
              "        vertical-align: middle;\n",
              "    }\n",
              "\n",
              "    .dataframe tbody tr th {\n",
              "        vertical-align: top;\n",
              "    }\n",
              "\n",
              "    .dataframe thead th {\n",
              "        text-align: right;\n",
              "    }\n",
              "</style>\n",
              "<table border=\"1\" class=\"dataframe\">\n",
              "  <thead>\n",
              "    <tr style=\"text-align: right;\">\n",
              "      <th></th>\n",
              "      <th>_c0</th>\n",
              "      <th>_c1</th>\n",
              "      <th>_c2</th>\n",
              "      <th>_c3</th>\n",
              "      <th>_c4</th>\n",
              "      <th>_c5</th>\n",
              "      <th>_c6</th>\n",
              "      <th>_c7</th>\n",
              "      <th>_c8</th>\n",
              "      <th>_c9</th>\n",
              "      <th>...</th>\n",
              "      <th>_c13</th>\n",
              "      <th>_c14</th>\n",
              "      <th>_c1_Scaled</th>\n",
              "      <th>_c2_Scaled</th>\n",
              "      <th>_c4_Scaled</th>\n",
              "      <th>_c5_Scaled</th>\n",
              "      <th>_c6_Scaled</th>\n",
              "      <th>_c9_Scaled</th>\n",
              "      <th>_c12_Scaled</th>\n",
              "      <th>_c13_Scaled</th>\n",
              "    </tr>\n",
              "  </thead>\n",
              "  <tbody>\n",
              "    <tr>\n",
              "      <th>0</th>\n",
              "      <td>1</td>\n",
              "      <td>22.08</td>\n",
              "      <td>11.460</td>\n",
              "      <td>2</td>\n",
              "      <td>4</td>\n",
              "      <td>4</td>\n",
              "      <td>1.585</td>\n",
              "      <td>0</td>\n",
              "      <td>0</td>\n",
              "      <td>0</td>\n",
              "      <td>...</td>\n",
              "      <td>1213</td>\n",
              "      <td>0</td>\n",
              "      <td>0.1253</td>\n",
              "      <td>0.4093</td>\n",
              "      <td>0.2308</td>\n",
              "      <td>0.375</td>\n",
              "      <td>0.0556</td>\n",
              "      <td>0.0000</td>\n",
              "      <td>0.05</td>\n",
              "      <td>0.0121</td>\n",
              "    </tr>\n",
              "    <tr>\n",
              "      <th>1</th>\n",
              "      <td>0</td>\n",
              "      <td>22.67</td>\n",
              "      <td>7.000</td>\n",
              "      <td>2</td>\n",
              "      <td>8</td>\n",
              "      <td>4</td>\n",
              "      <td>0.165</td>\n",
              "      <td>0</td>\n",
              "      <td>0</td>\n",
              "      <td>0</td>\n",
              "      <td>...</td>\n",
              "      <td>1</td>\n",
              "      <td>0</td>\n",
              "      <td>0.1341</td>\n",
              "      <td>0.2500</td>\n",
              "      <td>0.5385</td>\n",
              "      <td>0.375</td>\n",
              "      <td>0.0058</td>\n",
              "      <td>0.0000</td>\n",
              "      <td>0.08</td>\n",
              "      <td>0.0000</td>\n",
              "    </tr>\n",
              "    <tr>\n",
              "      <th>2</th>\n",
              "      <td>0</td>\n",
              "      <td>29.58</td>\n",
              "      <td>1.750</td>\n",
              "      <td>1</td>\n",
              "      <td>4</td>\n",
              "      <td>4</td>\n",
              "      <td>1.250</td>\n",
              "      <td>0</td>\n",
              "      <td>0</td>\n",
              "      <td>0</td>\n",
              "      <td>...</td>\n",
              "      <td>1</td>\n",
              "      <td>0</td>\n",
              "      <td>0.2380</td>\n",
              "      <td>0.0625</td>\n",
              "      <td>0.2308</td>\n",
              "      <td>0.375</td>\n",
              "      <td>0.0439</td>\n",
              "      <td>0.0000</td>\n",
              "      <td>0.14</td>\n",
              "      <td>0.0000</td>\n",
              "    </tr>\n",
              "    <tr>\n",
              "      <th>3</th>\n",
              "      <td>0</td>\n",
              "      <td>21.67</td>\n",
              "      <td>11.500</td>\n",
              "      <td>1</td>\n",
              "      <td>5</td>\n",
              "      <td>3</td>\n",
              "      <td>0.000</td>\n",
              "      <td>1</td>\n",
              "      <td>1</td>\n",
              "      <td>11</td>\n",
              "      <td>...</td>\n",
              "      <td>1</td>\n",
              "      <td>1</td>\n",
              "      <td>0.1191</td>\n",
              "      <td>0.4107</td>\n",
              "      <td>0.3077</td>\n",
              "      <td>0.250</td>\n",
              "      <td>0.0000</td>\n",
              "      <td>0.1642</td>\n",
              "      <td>0.00</td>\n",
              "      <td>0.0000</td>\n",
              "    </tr>\n",
              "    <tr>\n",
              "      <th>4</th>\n",
              "      <td>1</td>\n",
              "      <td>20.17</td>\n",
              "      <td>8.170</td>\n",
              "      <td>2</td>\n",
              "      <td>6</td>\n",
              "      <td>4</td>\n",
              "      <td>1.960</td>\n",
              "      <td>1</td>\n",
              "      <td>1</td>\n",
              "      <td>14</td>\n",
              "      <td>...</td>\n",
              "      <td>159</td>\n",
              "      <td>1</td>\n",
              "      <td>0.0965</td>\n",
              "      <td>0.2918</td>\n",
              "      <td>0.3846</td>\n",
              "      <td>0.375</td>\n",
              "      <td>0.0688</td>\n",
              "      <td>0.2090</td>\n",
              "      <td>0.03</td>\n",
              "      <td>0.0016</td>\n",
              "    </tr>\n",
              "    <tr>\n",
              "      <th>...</th>\n",
              "      <td>...</td>\n",
              "      <td>...</td>\n",
              "      <td>...</td>\n",
              "      <td>...</td>\n",
              "      <td>...</td>\n",
              "      <td>...</td>\n",
              "      <td>...</td>\n",
              "      <td>...</td>\n",
              "      <td>...</td>\n",
              "      <td>...</td>\n",
              "      <td>...</td>\n",
              "      <td>...</td>\n",
              "      <td>...</td>\n",
              "      <td>...</td>\n",
              "      <td>...</td>\n",
              "      <td>...</td>\n",
              "      <td>...</td>\n",
              "      <td>...</td>\n",
              "      <td>...</td>\n",
              "      <td>...</td>\n",
              "      <td>...</td>\n",
              "    </tr>\n",
              "    <tr>\n",
              "      <th>685</th>\n",
              "      <td>1</td>\n",
              "      <td>31.57</td>\n",
              "      <td>10.500</td>\n",
              "      <td>2</td>\n",
              "      <td>14</td>\n",
              "      <td>4</td>\n",
              "      <td>6.500</td>\n",
              "      <td>1</td>\n",
              "      <td>0</td>\n",
              "      <td>0</td>\n",
              "      <td>...</td>\n",
              "      <td>1</td>\n",
              "      <td>1</td>\n",
              "      <td>0.2680</td>\n",
              "      <td>0.3750</td>\n",
              "      <td>1.0000</td>\n",
              "      <td>0.375</td>\n",
              "      <td>0.2281</td>\n",
              "      <td>0.0000</td>\n",
              "      <td>0.00</td>\n",
              "      <td>0.0000</td>\n",
              "    </tr>\n",
              "    <tr>\n",
              "      <th>686</th>\n",
              "      <td>1</td>\n",
              "      <td>20.67</td>\n",
              "      <td>0.415</td>\n",
              "      <td>2</td>\n",
              "      <td>8</td>\n",
              "      <td>4</td>\n",
              "      <td>0.125</td>\n",
              "      <td>0</td>\n",
              "      <td>0</td>\n",
              "      <td>0</td>\n",
              "      <td>...</td>\n",
              "      <td>45</td>\n",
              "      <td>0</td>\n",
              "      <td>0.1041</td>\n",
              "      <td>0.0148</td>\n",
              "      <td>0.5385</td>\n",
              "      <td>0.375</td>\n",
              "      <td>0.0044</td>\n",
              "      <td>0.0000</td>\n",
              "      <td>0.00</td>\n",
              "      <td>0.0004</td>\n",
              "    </tr>\n",
              "    <tr>\n",
              "      <th>687</th>\n",
              "      <td>0</td>\n",
              "      <td>18.83</td>\n",
              "      <td>9.540</td>\n",
              "      <td>2</td>\n",
              "      <td>6</td>\n",
              "      <td>4</td>\n",
              "      <td>0.085</td>\n",
              "      <td>1</td>\n",
              "      <td>0</td>\n",
              "      <td>0</td>\n",
              "      <td>...</td>\n",
              "      <td>1</td>\n",
              "      <td>1</td>\n",
              "      <td>0.0764</td>\n",
              "      <td>0.3407</td>\n",
              "      <td>0.3846</td>\n",
              "      <td>0.375</td>\n",
              "      <td>0.0030</td>\n",
              "      <td>0.0000</td>\n",
              "      <td>0.05</td>\n",
              "      <td>0.0000</td>\n",
              "    </tr>\n",
              "    <tr>\n",
              "      <th>688</th>\n",
              "      <td>0</td>\n",
              "      <td>27.42</td>\n",
              "      <td>14.500</td>\n",
              "      <td>2</td>\n",
              "      <td>14</td>\n",
              "      <td>8</td>\n",
              "      <td>3.085</td>\n",
              "      <td>1</td>\n",
              "      <td>1</td>\n",
              "      <td>1</td>\n",
              "      <td>...</td>\n",
              "      <td>12</td>\n",
              "      <td>1</td>\n",
              "      <td>0.2056</td>\n",
              "      <td>0.5179</td>\n",
              "      <td>1.0000</td>\n",
              "      <td>0.875</td>\n",
              "      <td>0.1082</td>\n",
              "      <td>0.0149</td>\n",
              "      <td>0.06</td>\n",
              "      <td>0.0001</td>\n",
              "    </tr>\n",
              "    <tr>\n",
              "      <th>689</th>\n",
              "      <td>1</td>\n",
              "      <td>41.00</td>\n",
              "      <td>0.040</td>\n",
              "      <td>2</td>\n",
              "      <td>10</td>\n",
              "      <td>4</td>\n",
              "      <td>0.040</td>\n",
              "      <td>0</td>\n",
              "      <td>1</td>\n",
              "      <td>1</td>\n",
              "      <td>...</td>\n",
              "      <td>1</td>\n",
              "      <td>1</td>\n",
              "      <td>0.4098</td>\n",
              "      <td>0.0014</td>\n",
              "      <td>0.6923</td>\n",
              "      <td>0.375</td>\n",
              "      <td>0.0014</td>\n",
              "      <td>0.0149</td>\n",
              "      <td>0.28</td>\n",
              "      <td>0.0000</td>\n",
              "    </tr>\n",
              "  </tbody>\n",
              "</table>\n",
              "<p>690 rows × 23 columns</p>\n",
              "</div>"
            ],
            "text/plain": [
              "     _c0    _c1     _c2  _c3  _c4  _c5    _c6  _c7  _c8  _c9  ...  _c13  _c14  \\\n",
              "0      1  22.08  11.460    2    4    4  1.585    0    0    0  ...  1213     0   \n",
              "1      0  22.67   7.000    2    8    4  0.165    0    0    0  ...     1     0   \n",
              "2      0  29.58   1.750    1    4    4  1.250    0    0    0  ...     1     0   \n",
              "3      0  21.67  11.500    1    5    3  0.000    1    1   11  ...     1     1   \n",
              "4      1  20.17   8.170    2    6    4  1.960    1    1   14  ...   159     1   \n",
              "..   ...    ...     ...  ...  ...  ...    ...  ...  ...  ...  ...   ...   ...   \n",
              "685    1  31.57  10.500    2   14    4  6.500    1    0    0  ...     1     1   \n",
              "686    1  20.67   0.415    2    8    4  0.125    0    0    0  ...    45     0   \n",
              "687    0  18.83   9.540    2    6    4  0.085    1    0    0  ...     1     1   \n",
              "688    0  27.42  14.500    2   14    8  3.085    1    1    1  ...    12     1   \n",
              "689    1  41.00   0.040    2   10    4  0.040    0    1    1  ...     1     1   \n",
              "\n",
              "     _c1_Scaled  _c2_Scaled  _c4_Scaled  _c5_Scaled  _c6_Scaled  _c9_Scaled  \\\n",
              "0        0.1253      0.4093      0.2308       0.375      0.0556      0.0000   \n",
              "1        0.1341      0.2500      0.5385       0.375      0.0058      0.0000   \n",
              "2        0.2380      0.0625      0.2308       0.375      0.0439      0.0000   \n",
              "3        0.1191      0.4107      0.3077       0.250      0.0000      0.1642   \n",
              "4        0.0965      0.2918      0.3846       0.375      0.0688      0.2090   \n",
              "..          ...         ...         ...         ...         ...         ...   \n",
              "685      0.2680      0.3750      1.0000       0.375      0.2281      0.0000   \n",
              "686      0.1041      0.0148      0.5385       0.375      0.0044      0.0000   \n",
              "687      0.0764      0.3407      0.3846       0.375      0.0030      0.0000   \n",
              "688      0.2056      0.5179      1.0000       0.875      0.1082      0.0149   \n",
              "689      0.4098      0.0014      0.6923       0.375      0.0014      0.0149   \n",
              "\n",
              "     _c12_Scaled  _c13_Scaled  \n",
              "0           0.05       0.0121  \n",
              "1           0.08       0.0000  \n",
              "2           0.14       0.0000  \n",
              "3           0.00       0.0000  \n",
              "4           0.03       0.0016  \n",
              "..           ...          ...  \n",
              "685         0.00       0.0000  \n",
              "686         0.00       0.0004  \n",
              "687         0.05       0.0000  \n",
              "688         0.06       0.0001  \n",
              "689         0.28       0.0000  \n",
              "\n",
              "[690 rows x 23 columns]"
            ]
          },
          "metadata": {
            "tags": []
          },
          "execution_count": 257
        }
      ]
    },
    {
      "cell_type": "code",
      "metadata": {
        "id": "yIpjLbKG7JoE",
        "colab_type": "code",
        "colab": {},
        "outputId": "218de582-bdcb-47ad-f5e6-0d8067815dc4"
      },
      "source": [
        "type(df_australian)"
      ],
      "execution_count": null,
      "outputs": [
        {
          "output_type": "execute_result",
          "data": {
            "text/plain": [
              "pyspark.sql.dataframe.DataFrame"
            ]
          },
          "metadata": {
            "tags": []
          },
          "execution_count": 258
        }
      ]
    },
    {
      "cell_type": "markdown",
      "metadata": {
        "id": "hABlqfe17JoG",
        "colab_type": "text"
      },
      "source": [
        "There are nonen NULL or NAN values inside of the df. Therefore, I can't tell if there is missing data. If some values are not supposed to be 0, then it is something I can't know for sure because I do not know the meaning of each feature. Depending on the content of the data, it is possible to drop rows with too much missing data, use mean if does not affect the calculation (so depends on the feature), set the value to 0 (depeding on the feature and how it will affect the mean) or generate synthetic data."
      ]
    },
    {
      "cell_type": "markdown",
      "metadata": {
        "id": "J8bhMjwk7JoG",
        "colab_type": "text"
      },
      "source": [
        "## Preprocessing the data"
      ]
    },
    {
      "cell_type": "markdown",
      "metadata": {
        "id": "n1lvI-oV7JoH",
        "colab_type": "text"
      },
      "source": [
        "Create a pipeline that converts the data available into the needed format (dummy variables, no strings, and vectorized format)."
      ]
    },
    {
      "cell_type": "code",
      "metadata": {
        "id": "RHMFBc-A7JoH",
        "colab_type": "code",
        "colab": {},
        "outputId": "a9970f9c-5cd5-4285-c996-f96810e6c9e8"
      },
      "source": [
        "from pyspark.ml.feature import OneHotEncoderEstimator\n",
        "from pyspark.ml.feature import PCA\n",
        "\n",
        "#Australian_pd = df_australian.toPandas()\n",
        "\n",
        "#Encoder is used to transform the categorical variables\n",
        "Encoder = OneHotEncoderEstimator(inputCols=['_c0', '_c3', '_c7', '_c8', '_c10', '_c11'], \n",
        "                                   outputCols=['_c0_encoded', '_c3_encoded', '_c7_encoded', '_c8_encoded', '_c10_encoded', '_c11_encoded'])\n",
        "\n",
        "#Transform the variables into one Vector to pass to the ML algorithm\n",
        "Assembler = VectorAssembler(inputCols=['_c0_encoded', '_c1_Scaled', '_c2_Scaled', '_c3_encoded', '_c4_Scaled', '_c5_Scaled', '_c6_Scaled','_c7_encoded', '_c8_encoded', '_c9_Scaled', '_c10_encoded', '_c11_encoded', '_c12_Scaled', '_c13_Scaled'], \n",
        "                                   outputCol='features')\n",
        "\n",
        "#Perform a PCA and fit the data into two dimensions to simplify the model and improve the performance of the algorithm\n",
        "pca = PCA(k=2, inputCol='features', outputCol='pca_features')\n",
        "\n",
        "Pipe = Pipeline(stages= [Encoder, Assembler, pca])\n",
        "\n",
        "model = Pipe.fit(df_australian)\n",
        "\n",
        "processed_data = model.transform(df_australian)\n",
        "\n"
      ],
      "execution_count": null,
      "outputs": [
        {
          "output_type": "execute_result",
          "data": {
            "text/plain": [
              "DataFrame[pca_features: vector, _c14: int]"
            ]
          },
          "metadata": {
            "tags": []
          },
          "execution_count": 261
        }
      ]
    },
    {
      "cell_type": "code",
      "metadata": {
        "id": "Ii6c62YE7JoJ",
        "colab_type": "code",
        "colab": {}
      },
      "source": [
        "data_for_model= processed_data.select('pca_features', '_c14')"
      ],
      "execution_count": null,
      "outputs": []
    },
    {
      "cell_type": "markdown",
      "metadata": {
        "id": "-QYRjrCu7JoL",
        "colab_type": "text"
      },
      "source": [
        "## Modelling"
      ]
    },
    {
      "cell_type": "markdown",
      "metadata": {
        "id": "GfzsUdygCZAT",
        "colab_type": "text"
      },
      "source": [
        "Dividing the data into train, test and validation sets. It will be used to test the data at the end and make sure the model is meaningful."
      ]
    },
    {
      "cell_type": "code",
      "metadata": {
        "id": "VAeA-PBf7JoL",
        "colab_type": "code",
        "colab": {}
      },
      "source": [
        "train = data_for_model.limit(500)\n",
        "validation = data_for_model.subtract(train)"
      ],
      "execution_count": null,
      "outputs": []
    },
    {
      "cell_type": "code",
      "metadata": {
        "id": "d-0-GXXJ7JoN",
        "colab_type": "code",
        "colab": {},
        "outputId": "1b180fa1-aaaa-4b8b-e8bf-a9c74bbe5cb1"
      },
      "source": [
        "validation.count(), train.count()"
      ],
      "execution_count": null,
      "outputs": [
        {
          "output_type": "execute_result",
          "data": {
            "text/plain": [
              "(190, 500)"
            ]
          },
          "metadata": {
            "tags": []
          },
          "execution_count": 273
        }
      ]
    },
    {
      "cell_type": "markdown",
      "metadata": {
        "id": "r0FaPwlM7JoP",
        "colab_type": "text"
      },
      "source": [
        "ML Algorithms for classification: (https://spark.apache.org/docs/latest/api/python/pyspark.ml.html#module-pyspark.ml.classification)"
      ]
    },
    {
      "cell_type": "code",
      "metadata": {
        "id": "1IWgrXBG7JoQ",
        "colab_type": "code",
        "colab": {}
      },
      "source": [
        "split = train.randomSplit([0.8,0.2])\n",
        "train_df = split[0]\n",
        "test_df = split[1]"
      ],
      "execution_count": null,
      "outputs": []
    },
    {
      "cell_type": "code",
      "metadata": {
        "id": "tolK-gUz7JoR",
        "colab_type": "code",
        "colab": {},
        "outputId": "d7dcfe92-8074-4830-dda3-79427a7973a6"
      },
      "source": [
        "test_df"
      ],
      "execution_count": null,
      "outputs": [
        {
          "output_type": "execute_result",
          "data": {
            "text/plain": [
              "DataFrame[pca_features: vector, _c14: int]"
            ]
          },
          "metadata": {
            "tags": []
          },
          "execution_count": 281
        }
      ]
    },
    {
      "cell_type": "code",
      "metadata": {
        "id": "trg5s8US7JoT",
        "colab_type": "code",
        "colab": {},
        "outputId": "ddecbe42-e479-4456-f5e1-1ad51da4cbe2"
      },
      "source": [
        "from pyspark.ml.classification import LogisticRegression\n",
        "\n",
        "logit = LogisticRegression(maxIter=10, featuresCol='pca_features', labelCol='_c14', \n",
        "                        elasticNetParam=0.8, family='multinomial')\n",
        "logit_model = logit.fit(train_df)\n",
        "train_summary = logit_model.summary\n",
        "train_summary.accuracy\n",
        "#metrics = BinaryClassificationMetrics(prediction)\n"
      ],
      "execution_count": null,
      "outputs": [
        {
          "output_type": "execute_result",
          "data": {
            "text/plain": [
              "0.8275"
            ]
          },
          "metadata": {
            "tags": []
          },
          "execution_count": 368
        }
      ]
    },
    {
      "cell_type": "code",
      "metadata": {
        "id": "WCTmeToe7JoV",
        "colab_type": "code",
        "colab": {},
        "outputId": "68e91b3c-e9df-4358-a0e4-23bf9107de61"
      },
      "source": [
        "# Evaluating the Logistic Regression Model\n",
        "from pyspark.ml.evaluation import BinaryClassificationEvaluator\n",
        "\n",
        "logit_predictions = logit_model.transform(test_df)\n",
        "logit_predictions.select('prediction', '_c14', 'pca_features').show(5)\n",
        "logit_evaluator = BinaryClassificationEvaluator(labelCol='_c14')\n",
        "print('Test Area under ROC', logit_evaluator.evaluate(logit_predictions))"
      ],
      "execution_count": null,
      "outputs": [
        {
          "output_type": "stream",
          "text": [
            "+----------+----+--------------------+\n",
            "|prediction|_c14|        pca_features|\n",
            "+----------+----+--------------------+\n",
            "|       1.0|   1|[-0.8222473451480...|\n",
            "|       1.0|   1|[-0.8091206541156...|\n",
            "|       1.0|   1|[-0.8009544167703...|\n",
            "|       1.0|   1|[-0.7973594339431...|\n",
            "|       1.0|   0|[-0.7966798643240...|\n",
            "+----------+----+--------------------+\n",
            "only showing top 5 rows\n",
            "\n",
            "Test Area under ROC 0.8460606060606057\n"
          ],
          "name": "stdout"
        }
      ]
    },
    {
      "cell_type": "code",
      "metadata": {
        "id": "_tegRLpC7JoX",
        "colab_type": "code",
        "colab": {},
        "outputId": "867fff36-ae39-4b62-fa04-a3bdee42fa95"
      },
      "source": [
        "# Testing a Decision Tree Classifier and compare to the Logistic Regression Model\n",
        "from pyspark.ml.classification import DecisionTreeClassifier\n",
        "from pyspark.ml.evaluation import MulticlassClassificationEvaluator\n",
        "dt = DecisionTreeClassifier(featuresCol = 'pca_features', labelCol = '_c14',\n",
        "                            impurity='entropy', maxDepth=30, maxBins=20)\n",
        "dt_model = dt.fit(train_df)\n",
        "predictions = dt_model.transform(test_df)\n",
        "evaluator = MulticlassClassificationEvaluator(\n",
        "    labelCol=\"_c14\", predictionCol=\"prediction\", metricName=\"accuracy\")\n",
        "accuracy = evaluator.evaluate(predictions)\n",
        "print(str(accuracy*100)+'%')"
      ],
      "execution_count": null,
      "outputs": [
        {
          "output_type": "stream",
          "text": [
            "79.0%\n"
          ],
          "name": "stdout"
        }
      ]
    },
    {
      "cell_type": "code",
      "metadata": {
        "id": "-aNO0mXs7JoZ",
        "colab_type": "code",
        "colab": {},
        "outputId": "36ddd264-ea25-4da4-ffc1-8abc6697b46c"
      },
      "source": [
        "logit_2 = LogisticRegression(maxIter=50, featuresCol='pca_features', labelCol='_c14',\n",
        "                             regParam=0.7, family='multinomial')\n",
        "logit_model_2 = logit_2.fit(train_df)\n",
        "train_summary_2 = logit_model_2.summary\n",
        "print(str(train_summary_2.accuracy*100)+'%')"
      ],
      "execution_count": null,
      "outputs": [
        {
          "output_type": "stream",
          "text": [
            "87.0%\n"
          ],
          "name": "stdout"
        }
      ]
    },
    {
      "cell_type": "markdown",
      "metadata": {
        "id": "uqNf_fyR7Job",
        "colab_type": "text"
      },
      "source": [
        "## Testing the Model"
      ]
    },
    {
      "cell_type": "markdown",
      "metadata": {
        "id": "35UIfLbB7Job",
        "colab_type": "text"
      },
      "source": [
        "Using the validation set, a confusion matrix is displayed with the overall accuracy (and other metrics) of the model."
      ]
    },
    {
      "cell_type": "code",
      "metadata": {
        "id": "YRfqDGVJ7Joc",
        "colab_type": "code",
        "colab": {},
        "outputId": "d68afec9-a308-4c77-9e4f-740451421d58"
      },
      "source": [
        "from pyspark.mllib.evaluation import MulticlassMetrics\n",
        "\n",
        "logit_predictions_2 = logit_model.transform(test_df)\n",
        "preds_and_labels = logit_predictions_2.select('prediction', '_c14')\n",
        "preds_and_labels = preds_and_labels.withColumn(\"_c14\", preds_and_labels[\"_c14\"].cast('float'))\n",
        "metrics = MulticlassMetrics(preds_and_labels.rdd.map(tuple))\n",
        "\n",
        "precision = metrics.precision()\n",
        "recall = metrics.recall()\n",
        "f1Score = metrics.fMeasure()\n",
        "print(\"Summary Stats\")\n",
        "print(\"Precision = %s\" % precision)\n",
        "print(\"Recall = %s\" % recall)\n",
        "print(\"F1 Score = %s\" % f1Score)\n",
        "print(\"Accuracy = %s\" % metrics.accuracy)\n",
        "\n"
      ],
      "execution_count": null,
      "outputs": [
        {
          "output_type": "stream",
          "text": [
            "Summary Stats\n",
            "Precision = 0.77\n",
            "Recall = 0.77\n",
            "F1 Score = 0.77\n",
            "Accuracy = 0.77\n"
          ],
          "name": "stdout"
        }
      ]
    },
    {
      "cell_type": "code",
      "metadata": {
        "id": "eRwIb-wB7Jod",
        "colab_type": "code",
        "colab": {},
        "outputId": "ddf8eb11-d08e-4856-e6c9-573ae333ae95"
      },
      "source": [
        "print(metrics.confusionMatrix().toArray()) \n",
        "# TP FP\n",
        "# FN TN"
      ],
      "execution_count": null,
      "outputs": [
        {
          "output_type": "stream",
          "text": [
            "[[45. 10.]\n",
            " [13. 32.]]\n"
          ],
          "name": "stdout"
        }
      ]
    }
  ]
}