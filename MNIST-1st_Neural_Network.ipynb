{
  "nbformat": 4,
  "nbformat_minor": 0,
  "metadata": {
    "kernelspec": {
      "display_name": "Python 3",
      "language": "python",
      "name": "python3"
    },
    "language_info": {
      "codemirror_mode": {
        "name": "ipython",
        "version": 3
      },
      "file_extension": ".py",
      "mimetype": "text/x-python",
      "name": "python",
      "nbconvert_exporter": "python",
      "pygments_lexer": "ipython3",
      "version": "3.6.7"
    },
    "colab": {
      "name": "Neural_Network_assignment_Marcelo_Landivar.ipynb",
      "provenance": [],
      "include_colab_link": true
    }
  },
  "cells": [
    {
      "cell_type": "markdown",
      "metadata": {
        "id": "view-in-github",
        "colab_type": "text"
      },
      "source": [
        "<a href=\"https://colab.research.google.com/github/marcelolandivar/Python_Projects/blob/master/MNIST-1st_Neural_Network.ipynb\" target=\"_parent\"><img src=\"https://colab.research.google.com/assets/colab-badge.svg\" alt=\"Open In Colab\"/></a>"
      ]
    },
    {
      "cell_type": "markdown",
      "metadata": {
        "id": "OTl4RBzoECnB",
        "colab_type": "text"
      },
      "source": [
        "# MNIST - Neural Network \n",
        "## MLP Classifier using an optimized Neural Net to classify numbers\n",
        "\n",
        "By: Marcelo Landivar\n"
      ]
    },
    {
      "cell_type": "markdown",
      "metadata": {
        "id": "ikTyxsMDECnD",
        "colab_type": "text"
      },
      "source": [
        "Handwritten digit recognition has gained so much popularity. We want to implment a Neural Network to classify the images of handwritten digits as 10 digits (0–9). We will use the MNIST dataset available in sklearn. The reason is because it is a balanced, organized and reduced dataset from the original MNIST."
      ]
    },
    {
      "cell_type": "markdown",
      "metadata": {
        "id": "MzBzKlUrECnE",
        "colab_type": "text"
      },
      "source": [
        "#### Import libraries"
      ]
    },
    {
      "cell_type": "code",
      "metadata": {
        "id": "c8A18BbQECnF",
        "colab_type": "code",
        "colab": {}
      },
      "source": [
        "import numpy as np\n",
        "from sklearn import datasets\n",
        "import matplotlib.pyplot as plt\n",
        "%matplotlib inline\n"
      ],
      "execution_count": 3,
      "outputs": []
    },
    {
      "cell_type": "markdown",
      "metadata": {
        "id": "ZJgDcvEhECnJ",
        "colab_type": "text"
      },
      "source": [
        "#### Import dataset"
      ]
    },
    {
      "cell_type": "code",
      "metadata": {
        "id": "5TtHC361ECnK",
        "colab_type": "code",
        "colab": {}
      },
      "source": [
        "digits = datasets.load_digits()"
      ],
      "execution_count": 4,
      "outputs": []
    },
    {
      "cell_type": "code",
      "metadata": {
        "id": "CUv1wMUWECnN",
        "colab_type": "code",
        "colab": {
          "base_uri": "https://localhost:8080/",
          "height": 34
        },
        "outputId": "a0961101-3836-4343-f383-015e5c9ca230"
      },
      "source": [
        "digits.keys()"
      ],
      "execution_count": 5,
      "outputs": [
        {
          "output_type": "execute_result",
          "data": {
            "text/plain": [
              "dict_keys(['data', 'target', 'target_names', 'images', 'DESCR'])"
            ]
          },
          "metadata": {
            "tags": []
          },
          "execution_count": 5
        }
      ]
    },
    {
      "cell_type": "code",
      "metadata": {
        "id": "h-zjkjhiECnT",
        "colab_type": "code",
        "colab": {
          "base_uri": "https://localhost:8080/",
          "height": 34
        },
        "outputId": "9651e020-c398-47c0-ce89-c6b486f9503d"
      },
      "source": [
        "digits.images.shape"
      ],
      "execution_count": 6,
      "outputs": [
        {
          "output_type": "execute_result",
          "data": {
            "text/plain": [
              "(1797, 8, 8)"
            ]
          },
          "metadata": {
            "tags": []
          },
          "execution_count": 6
        }
      ]
    },
    {
      "cell_type": "code",
      "metadata": {
        "id": "XXvo4ELqECnZ",
        "colab_type": "code",
        "colab": {
          "base_uri": "https://localhost:8080/",
          "height": 153
        },
        "outputId": "210bdc3c-c266-44fb-f413-a7fa610a5440"
      },
      "source": [
        "digits.images[0]"
      ],
      "execution_count": 7,
      "outputs": [
        {
          "output_type": "execute_result",
          "data": {
            "text/plain": [
              "array([[ 0.,  0.,  5., 13.,  9.,  1.,  0.,  0.],\n",
              "       [ 0.,  0., 13., 15., 10., 15.,  5.,  0.],\n",
              "       [ 0.,  3., 15.,  2.,  0., 11.,  8.,  0.],\n",
              "       [ 0.,  4., 12.,  0.,  0.,  8.,  8.,  0.],\n",
              "       [ 0.,  5.,  8.,  0.,  0.,  9.,  8.,  0.],\n",
              "       [ 0.,  4., 11.,  0.,  1., 12.,  7.,  0.],\n",
              "       [ 0.,  2., 14.,  5., 10., 12.,  0.,  0.],\n",
              "       [ 0.,  0.,  6., 13., 10.,  0.,  0.,  0.]])"
            ]
          },
          "metadata": {
            "tags": []
          },
          "execution_count": 7
        }
      ]
    },
    {
      "cell_type": "markdown",
      "metadata": {
        "id": "75h53SAzECnd",
        "colab_type": "text"
      },
      "source": [
        "Now let's display this image"
      ]
    },
    {
      "cell_type": "code",
      "metadata": {
        "id": "DDwk4wBOECnd",
        "colab_type": "code",
        "colab": {
          "base_uri": "https://localhost:8080/",
          "height": 265
        },
        "outputId": "cb8c4f5a-d998-449b-8aa5-10c602c25c44"
      },
      "source": [
        "plt.imshow(digits.images[0],cmap='binary')\n",
        "plt.show()"
      ],
      "execution_count": 8,
      "outputs": [
        {
          "output_type": "display_data",
          "data": {
            "image/png": "[encoded data removed]",
            "text/plain": [
              "<Figure size 432x288 with 1 Axes>"
            ]
          },
          "metadata": {
            "tags": [],
            "needs_background": "light"
          }
        }
      ]
    },
    {
      "cell_type": "markdown",
      "metadata": {
        "id": "aF6XlURGECni",
        "colab_type": "text"
      },
      "source": [
        "Originally the image is low resolution. The original digits were of much higher resolution, and the resolution has been decreased when creating the dataset for scikit-learn to make it easier and faster to train a machine learning algorithm to recognize these digits."
      ]
    },
    {
      "cell_type": "code",
      "metadata": {
        "id": "3hMRKf6bECnj",
        "colab_type": "code",
        "colab": {
          "base_uri": "https://localhost:8080/",
          "height": 51
        },
        "outputId": "1de13241-7afc-4aad-e083-d3a85c118a99"
      },
      "source": [
        "print(digits.target.shape)\n",
        "print(digits.target)"
      ],
      "execution_count": 9,
      "outputs": [
        {
          "output_type": "stream",
          "text": [
            "(1797,)\n",
            "[0 1 2 ... 8 9 8]\n"
          ],
          "name": "stdout"
        }
      ]
    },
    {
      "cell_type": "markdown",
      "metadata": {
        "id": "_RgHK8iPECnn",
        "colab_type": "text"
      },
      "source": [
        "**Write a function that plot 16 digits of the dataset, starting with the digit in a specific position that will be specified as parameter of the function**"
      ]
    },
    {
      "cell_type": "code",
      "metadata": {
        "id": "kOqoEFc0ECno",
        "colab_type": "code",
        "colab": {}
      },
      "source": [
        "def plot_multi(i):\n",
        "    '''Plots 16 digits, starting with digit i'''\n",
        "    n=16 #number of plots\n",
        "    plt.figure(figsize=(8,8))\n",
        "    for a in range(n):\n",
        "        plt.subplot(4, 4, a+1)\n",
        "        plt.tight_layout()\n",
        "        plt.imshow(digits.images[i+a], cmap='binary')\n",
        "        plt.title('Digit {}'.format(digits.target[i+a]))\n",
        "        plt.axis('off')\n",
        "    \n",
        "    plt.show()\n",
        "    \n",
        "    "
      ],
      "execution_count": 12,
      "outputs": []
    },
    {
      "cell_type": "code",
      "metadata": {
        "id": "7tZXPWWdECnq",
        "colab_type": "code",
        "colab": {
          "base_uri": "https://localhost:8080/",
          "height": 568
        },
        "outputId": "77e40cc1-8a32-4185-c324-25cc69e7b12c"
      },
      "source": [
        "plot_multi(16)"
      ],
      "execution_count": 13,
      "outputs": [
        {
          "output_type": "display_data",
          "data": {
            "image/png": "[encoded data removed]",
            "text/plain": [
              "<Figure size 576x576 with 16 Axes>"
            ]
          },
          "metadata": {
            "tags": [],
            "needs_background": "light"
          }
        }
      ]
    },
    {
      "cell_type": "markdown",
      "metadata": {
        "id": "uG8_0uRqECnt",
        "colab_type": "text"
      },
      "source": [
        "### Building the network and preparing the input data"
      ]
    },
    {
      "cell_type": "code",
      "metadata": {
        "id": "P2Wj7CnMECnv",
        "colab_type": "code",
        "colab": {
          "base_uri": "https://localhost:8080/",
          "height": 34
        },
        "outputId": "9be88f3b-8ab6-424d-d58b-01c8ea5035a6"
      },
      "source": [
        "y = digits.target.reshape(1797)\n",
        "\n",
        "#One shape dimension can be -1. \n",
        "#In this case, the value is inferred from the length of the array and remaining dimensions.\n",
        "\n",
        "x = digits.data.reshape(1797, -1)\n",
        "x.shape"
      ],
      "execution_count": 16,
      "outputs": [
        {
          "output_type": "execute_result",
          "data": {
            "text/plain": [
              "(1797, 64)"
            ]
          },
          "metadata": {
            "tags": []
          },
          "execution_count": 16
        }
      ]
    },
    {
      "cell_type": "code",
      "metadata": {
        "id": "0PQSEjm4ECny",
        "colab_type": "code",
        "colab": {
          "base_uri": "https://localhost:8080/",
          "height": 34
        },
        "outputId": "eb80c944-01ff-4f63-a035-ebadc522f555"
      },
      "source": [
        "y.reshape(-1)"
      ],
      "execution_count": 17,
      "outputs": [
        {
          "output_type": "execute_result",
          "data": {
            "text/plain": [
              "array([0, 1, 2, ..., 8, 9, 8])"
            ]
          },
          "metadata": {
            "tags": []
          },
          "execution_count": 17
        }
      ]
    },
    {
      "cell_type": "markdown",
      "metadata": {
        "id": "Wc0Wbd7TECn0",
        "colab_type": "text"
      },
      "source": [
        "We now have 1797 flattened images. The two dimensions of our 8x8 images have been collapsed into a single dimension.\n",
        "\n",
        "Generate the training and test set."
      ]
    },
    {
      "cell_type": "code",
      "metadata": {
        "id": "tNahD50eECn0",
        "colab_type": "code",
        "colab": {
          "base_uri": "https://localhost:8080/",
          "height": 85
        },
        "outputId": "6399e6d9-8f87-4b85-fbe0-a08da7fe298d"
      },
      "source": [
        "from sklearn.model_selection import train_test_split\n",
        "X_train, X_test, y_train, y_test = train_test_split(x, y, test_size=0.2, random_state=0)\n",
        "\n",
        "print(X_train.shape)\n",
        "print(X_test.shape)\n",
        "print(y_train.shape)\n",
        "print(y_test.shape)"
      ],
      "execution_count": 18,
      "outputs": [
        {
          "output_type": "stream",
          "text": [
            "(1437, 64)\n",
            "(360, 64)\n",
            "(1437,)\n",
            "(360,)\n"
          ],
          "name": "stdout"
        }
      ]
    },
    {
      "cell_type": "markdown",
      "metadata": {
        "id": "6HGmkBAPECn2",
        "colab_type": "text"
      },
      "source": [
        "#### Now we want to implement a feed-forward neural network using a MLP Classifier. Another aspect to take into account when building a Neural Network is to tune the hyperparameters. It is possible to use the GridSearchCV function of sklearn to find the best parameters for your Neural Net or your algorithm. It takes take to find the optimal parameter, therefore,it is not recommeded to try huge ranges of parameters. It is also possible to use Random Grid Search to get an idea."
      ]
    },
    {
      "cell_type": "markdown",
      "metadata": {
        "id": "XplyPijDHCdn",
        "colab_type": "text"
      },
      "source": [
        "[MLP Classifier Documentation](https://scikit-learn.org/stable/modules/generated/sklearn.neural_network.MLPClassifier.html)"
      ]
    },
    {
      "cell_type": "code",
      "metadata": {
        "id": "VfQdStR_ECn3",
        "colab_type": "code",
        "colab": {}
      },
      "source": [
        "from sklearn.model_selection import GridSearchCV\n",
        "from sklearn import neural_network\n",
        "from sklearn.neural_network import MLPClassifier\n",
        "\n",
        "\n",
        "parameters = { 'hidden_layer_sizes': np.arange(12, 18),\n",
        "    'solver': ['sgd','lbfgs', 'adam'],\n",
        "    'activation': ['logistic', 'tanh', 'relu'],\n",
        "    'alpha': [0.1 , 0.01 , 0.001 , 0.0001]}\n",
        "\n",
        "clf_grid = GridSearchCV(MLPClassifier(), parameters, n_jobs=-1)\n"
      ],
      "execution_count": 19,
      "outputs": []
    },
    {
      "cell_type": "code",
      "metadata": {
        "id": "CbknQKtWECn5",
        "colab_type": "code",
        "colab": {}
      },
      "source": [
        "clf_grid.fit(x,y)"
      ],
      "execution_count": null,
      "outputs": []
    },
    {
      "cell_type": "code",
      "metadata": {
        "id": "8pWzwqrsECn7",
        "colab_type": "code",
        "colab": {},
        "outputId": "395b5ec1-7838-4caf-c27a-ee8372f72c4a"
      },
      "source": [
        "clf_grid.best_score_"
      ],
      "execution_count": null,
      "outputs": [
        {
          "output_type": "execute_result",
          "data": {
            "text/plain": [
              "0.9309981429897863"
            ]
          },
          "metadata": {
            "tags": []
          },
          "execution_count": 79
        }
      ]
    },
    {
      "cell_type": "code",
      "metadata": {
        "id": "WSCZ8ac0ECn9",
        "colab_type": "code",
        "colab": {},
        "outputId": "0211fbcd-3f31-438d-8cff-657c03d36a0d"
      },
      "source": [
        "import datetime\n",
        "a = datetime.datetime.now()\n",
        "#clf_grid.fit(x,y)\n",
        "b = datetime.datetime.now()\n",
        "c =b - a\n",
        "print('Time to train: %.2f seconds ' % c.seconds)\n",
        "\n",
        "print(\"-----------------Best Model--------------------\")\n",
        "\n",
        "\n",
        "print(\"Best score: %0.4f\" %clf_grid.best_score_)\n",
        "print(\"Using the following parameters:\")\n",
        "print(clf_grid.best_params_)"
      ],
      "execution_count": null,
      "outputs": [
        {
          "output_type": "stream",
          "text": [
            "Time to train: 0.00 seconds \n",
            "-----------------Best Model--------------------\n",
            "Best score: 0.9310\n",
            "Using the following parameters:\n",
            "{'activation': 'logistic', 'alpha': 0.1, 'hidden_layer_sizes': 17, 'solver': 'adam'}\n"
          ],
          "name": "stdout"
        }
      ]
    },
    {
      "cell_type": "markdown",
      "metadata": {
        "id": "0ag7IrBRECn_",
        "colab_type": "text"
      },
      "source": [
        "The gridsearch is very useful to find the optimal parameters for the NN; however, it can several time depending on the size of the dataset and of course the number of parameters to tune and its variations. I had to run more than one time so it was very time demanding. It took around 550 seconds to finish the process. Perhaps with a GPU booster or with a GPU cloud assitance would have been faster. It possible to user RandomSearch since it has more control over the duration of the process. Or try to define the bounds more efficiently."
      ]
    },
    {
      "cell_type": "markdown",
      "metadata": {
        "id": "f3qASKKeECn_",
        "colab_type": "text"
      },
      "source": [
        "### Fitting classifier with best parameters"
      ]
    },
    {
      "cell_type": "code",
      "metadata": {
        "id": "WJNeH9VbECn_",
        "colab_type": "code",
        "colab": {}
      },
      "source": [
        "from sklearn.neural_network import MLPClassifier\n",
        "\n",
        "### Create an instance of the the MLPClassifier with the best parameters found with gridSearch\n",
        "mlp = MLPClassifier(activation= 'logistic', alpha= 0.1, hidden_layer_sizes= 17, solver= 'adam',  max_iter=1000)\n",
        "mlp.fit(X_train, y_train)"
      ],
      "execution_count": null,
      "outputs": []
    },
    {
      "cell_type": "markdown",
      "metadata": {
        "id": "VqJJpIaTECoG",
        "colab_type": "text"
      },
      "source": [
        "### Compute prediction"
      ]
    },
    {
      "cell_type": "code",
      "metadata": {
        "id": "NTosyulGECoG",
        "colab_type": "code",
        "colab": {}
      },
      "source": [
        "predictions = mlp.predict(X_test)"
      ],
      "execution_count": null,
      "outputs": []
    },
    {
      "cell_type": "markdown",
      "metadata": {
        "id": "FENS-jy-ECoI",
        "colab_type": "text"
      },
      "source": [
        "### Model Evaluation using Classification Report"
      ]
    },
    {
      "cell_type": "code",
      "metadata": {
        "id": "VEClDpCuECoI",
        "colab_type": "code",
        "colab": {}
      },
      "source": [
        "names_t = digits.target_names.tostring()"
      ],
      "execution_count": null,
      "outputs": []
    },
    {
      "cell_type": "code",
      "metadata": {
        "id": "CT4wJkYLECoK",
        "colab_type": "code",
        "colab": {},
        "outputId": "c4ce6b7c-63c9-408f-c2a1-ce7423acc1af"
      },
      "source": [
        "from sklearn.metrics import classification_report\n",
        "print(classification_report(y_test, predictions))"
      ],
      "execution_count": null,
      "outputs": [
        {
          "output_type": "stream",
          "text": [
            "              precision    recall  f1-score   support\n",
            "\n",
            "           0       1.00      1.00      1.00        27\n",
            "           1       0.94      0.97      0.96        35\n",
            "           2       1.00      1.00      1.00        36\n",
            "           3       0.97      0.97      0.97        29\n",
            "           4       0.97      1.00      0.98        30\n",
            "           5       1.00      0.97      0.99        40\n",
            "           6       1.00      0.98      0.99        44\n",
            "           7       1.00      0.95      0.97        39\n",
            "           8       0.95      0.95      0.95        39\n",
            "           9       0.95      1.00      0.98        41\n",
            "\n",
            "    accuracy                           0.98       360\n",
            "   macro avg       0.98      0.98      0.98       360\n",
            "weighted avg       0.98      0.98      0.98       360\n",
            "\n"
          ],
          "name": "stdout"
        }
      ]
    },
    {
      "cell_type": "markdown",
      "metadata": {
        "id": "hN7reKIOECoM",
        "colab_type": "text"
      },
      "source": [
        "##### Note that in this case we did not need to normliaze data since all the features are in the same scale"
      ]
    },
    {
      "cell_type": "code",
      "metadata": {
        "id": "cUiib2SJECoM",
        "colab_type": "code",
        "colab": {},
        "outputId": "543ffc4f-440e-49bb-c565-e856603f4dfc"
      },
      "source": [
        "print(\"Accuracy on training set: {:.3f}\".format(mlp.score(X_train, y_train)))\n",
        "print(\"Accuracy on test set: {:.3f}\".format(mlp.score(X_test, y_test)))"
      ],
      "execution_count": null,
      "outputs": [
        {
          "output_type": "stream",
          "text": [
            "Accuracy on training set: 0.999\n",
            "Accuracy on test set: 0.978\n"
          ],
          "name": "stdout"
        }
      ]
    },
    {
      "cell_type": "markdown",
      "metadata": {
        "id": "iLHMR2LuECoO",
        "colab_type": "text"
      },
      "source": [
        "The Classifier has a huge accuracy and optimal parameters. It is a little uncomfortable that the training accuracy is practically 1 and it is a signal of overfitting. However, the accuracy test is pretty high. Perhaps, it is possible to use a regularization method to increase some thousandths to the accuracy on the test set. It also shows that the datasets are very balanced, and it is a very convenient data for a classifier. It is small and vary nice dataset to practic and yet, it took some time to get the optimal parameters. In a more complicated dataset and more extense, it will be necessary to determine when some hyperparameters are better use for a type of data and the differences among them."
      ]
    }
  ]
}